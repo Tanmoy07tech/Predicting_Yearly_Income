{
 "metadata": {
  "language_info": {
   "codemirror_mode": {
    "name": "ipython",
    "version": 3
   },
   "file_extension": ".py",
   "mimetype": "text/x-python",
   "name": "python",
   "nbconvert_exporter": "python",
   "pygments_lexer": "ipython3",
   "version": "3.8.5"
  },
  "orig_nbformat": 4,
  "kernelspec": {
   "name": "python3",
   "display_name": "Python 3.8.5 64-bit ('base': conda)"
  },
  "interpreter": {
   "hash": "6d46af94c2bbce495f1e668725902fa517c90b1782bcfe2fce0dd9868df553d3"
  }
 },
 "nbformat": 4,
 "nbformat_minor": 2,
 "cells": [
  {
   "source": [
    "# Job Survey of India"
   ],
   "cell_type": "markdown",
   "metadata": {}
  },
  {
   "source": [
    "## Import and Load Dataset"
   ],
   "cell_type": "markdown",
   "metadata": {}
  },
  {
   "cell_type": "code",
   "execution_count": 112,
   "metadata": {},
   "outputs": [],
   "source": [
    "import pandas as pd "
   ]
  },
  {
   "cell_type": "code",
   "execution_count": 113,
   "metadata": {},
   "outputs": [],
   "source": [
    "raw_df=pd.read_csv('JobSurveyIndia.csv',index_col='Unnamed: 0')"
   ]
  },
  {
   "cell_type": "code",
   "execution_count": 114,
   "metadata": {},
   "outputs": [
    {
     "output_type": "execute_result",
     "data": {
      "text/plain": [
       "     Employment Sector Employment Background Public Dealing Degree  \\\n",
       "0       Private Sector             Technical             No    Yes   \n",
       "1       Private Sector                  Art             No    Yes    \n",
       "2    Government Sector             Technical             No    Yes   \n",
       "3    Government Sector         Non-Technical            Yes   Yes    \n",
       "4       Private Sector             Technical             No    Yes   \n",
       "..                 ...                   ...            ...    ...   \n",
       "395     Private Sector         Non-Technical            No    Yes    \n",
       "396  Government Sector         Non-Technical            Yes     No   \n",
       "397  Government Sector         Non-Technical            Yes     No   \n",
       "398  Government Sector         Non-Technical             No     No   \n",
       "399   Entrepreneurship         Non-Technical            Yes     No   \n",
       "\n",
       "     IdealNumberOfWorkdays IdealYearlyIncome  \n",
       "0                      4.0   More Than 1500K  \n",
       "1                      4.0         600K-900K  \n",
       "2                      6.0        900K-1200K  \n",
       "3                      4.0        900K-1200K  \n",
       "4                      5.0       1200K-1500K  \n",
       "..                     ...               ...  \n",
       "395                    5.0         600K-900K  \n",
       "396                    4.0        900K-1200K  \n",
       "397                    4.0        900K-1200K  \n",
       "398                    5.0   More Than 1500K  \n",
       "399                    6.0        900K-1200K  \n",
       "\n",
       "[400 rows x 6 columns]"
      ],
      "text/html": "<div>\n<style scoped>\n    .dataframe tbody tr th:only-of-type {\n        vertical-align: middle;\n    }\n\n    .dataframe tbody tr th {\n        vertical-align: top;\n    }\n\n    .dataframe thead th {\n        text-align: right;\n    }\n</style>\n<table border=\"1\" class=\"dataframe\">\n  <thead>\n    <tr style=\"text-align: right;\">\n      <th></th>\n      <th>Employment Sector</th>\n      <th>Employment Background</th>\n      <th>Public Dealing</th>\n      <th>Degree</th>\n      <th>IdealNumberOfWorkdays</th>\n      <th>IdealYearlyIncome</th>\n    </tr>\n  </thead>\n  <tbody>\n    <tr>\n      <th>0</th>\n      <td>Private Sector</td>\n      <td>Technical</td>\n      <td>No</td>\n      <td>Yes</td>\n      <td>4.0</td>\n      <td>More Than 1500K</td>\n    </tr>\n    <tr>\n      <th>1</th>\n      <td>Private Sector</td>\n      <td>Art</td>\n      <td>No</td>\n      <td>Yes</td>\n      <td>4.0</td>\n      <td>600K-900K</td>\n    </tr>\n    <tr>\n      <th>2</th>\n      <td>Government Sector</td>\n      <td>Technical</td>\n      <td>No</td>\n      <td>Yes</td>\n      <td>6.0</td>\n      <td>900K-1200K</td>\n    </tr>\n    <tr>\n      <th>3</th>\n      <td>Government Sector</td>\n      <td>Non-Technical</td>\n      <td>Yes</td>\n      <td>Yes</td>\n      <td>4.0</td>\n      <td>900K-1200K</td>\n    </tr>\n    <tr>\n      <th>4</th>\n      <td>Private Sector</td>\n      <td>Technical</td>\n      <td>No</td>\n      <td>Yes</td>\n      <td>5.0</td>\n      <td>1200K-1500K</td>\n    </tr>\n    <tr>\n      <th>...</th>\n      <td>...</td>\n      <td>...</td>\n      <td>...</td>\n      <td>...</td>\n      <td>...</td>\n      <td>...</td>\n    </tr>\n    <tr>\n      <th>395</th>\n      <td>Private Sector</td>\n      <td>Non-Technical</td>\n      <td>No</td>\n      <td>Yes</td>\n      <td>5.0</td>\n      <td>600K-900K</td>\n    </tr>\n    <tr>\n      <th>396</th>\n      <td>Government Sector</td>\n      <td>Non-Technical</td>\n      <td>Yes</td>\n      <td>No</td>\n      <td>4.0</td>\n      <td>900K-1200K</td>\n    </tr>\n    <tr>\n      <th>397</th>\n      <td>Government Sector</td>\n      <td>Non-Technical</td>\n      <td>Yes</td>\n      <td>No</td>\n      <td>4.0</td>\n      <td>900K-1200K</td>\n    </tr>\n    <tr>\n      <th>398</th>\n      <td>Government Sector</td>\n      <td>Non-Technical</td>\n      <td>No</td>\n      <td>No</td>\n      <td>5.0</td>\n      <td>More Than 1500K</td>\n    </tr>\n    <tr>\n      <th>399</th>\n      <td>Entrepreneurship</td>\n      <td>Non-Technical</td>\n      <td>Yes</td>\n      <td>No</td>\n      <td>6.0</td>\n      <td>900K-1200K</td>\n    </tr>\n  </tbody>\n</table>\n<p>400 rows × 6 columns</p>\n</div>"
     },
     "metadata": {},
     "execution_count": 114
    }
   ],
   "source": [
    "raw_df"
   ]
  },
  {
   "cell_type": "code",
   "execution_count": null,
   "metadata": {},
   "outputs": [],
   "source": []
  },
  {
   "cell_type": "code",
   "execution_count": 115,
   "metadata": {},
   "outputs": [
    {
     "output_type": "execute_result",
     "data": {
      "text/plain": [
       "       IdealNumberOfWorkdays\n",
       "count             400.000000\n",
       "mean                4.902500\n",
       "std                 0.805989\n",
       "min                 4.000000\n",
       "25%                 4.000000\n",
       "50%                 5.000000\n",
       "75%                 5.000000\n",
       "max                 7.000000"
      ],
      "text/html": "<div>\n<style scoped>\n    .dataframe tbody tr th:only-of-type {\n        vertical-align: middle;\n    }\n\n    .dataframe tbody tr th {\n        vertical-align: top;\n    }\n\n    .dataframe thead th {\n        text-align: right;\n    }\n</style>\n<table border=\"1\" class=\"dataframe\">\n  <thead>\n    <tr style=\"text-align: right;\">\n      <th></th>\n      <th>IdealNumberOfWorkdays</th>\n    </tr>\n  </thead>\n  <tbody>\n    <tr>\n      <th>count</th>\n      <td>400.000000</td>\n    </tr>\n    <tr>\n      <th>mean</th>\n      <td>4.902500</td>\n    </tr>\n    <tr>\n      <th>std</th>\n      <td>0.805989</td>\n    </tr>\n    <tr>\n      <th>min</th>\n      <td>4.000000</td>\n    </tr>\n    <tr>\n      <th>25%</th>\n      <td>4.000000</td>\n    </tr>\n    <tr>\n      <th>50%</th>\n      <td>5.000000</td>\n    </tr>\n    <tr>\n      <th>75%</th>\n      <td>5.000000</td>\n    </tr>\n    <tr>\n      <th>max</th>\n      <td>7.000000</td>\n    </tr>\n  </tbody>\n</table>\n</div>"
     },
     "metadata": {},
     "execution_count": 115
    }
   ],
   "source": [
    "raw_df.describe()"
   ]
  },
  {
   "cell_type": "code",
   "execution_count": 116,
   "metadata": {},
   "outputs": [],
   "source": [
    "\n",
    "import plotly.express as px \n",
    "import matplotlib\n",
    "import matplotlib.pyplot as plt \n",
    "import seaborn as sns \n",
    "%matplotlib inline\n",
    "\n",
    "sns.set_style('darkgrid')\n",
    "matplotlib.rcParams['font.size']=14\n",
    "matplotlib.rcParams['figure.figsize']=(16,12)\n",
    "matplotlib.rcParams['figure.facecolor']='#00000000'"
   ]
  },
  {
   "cell_type": "code",
   "execution_count": 117,
   "metadata": {},
   "outputs": [],
   "source": [
    "raw_df['Employment Background']=raw_df['Employment Background'].str.strip()\n",
    "raw_df['Employment Sector']=raw_df['Employment Sector'].str.strip()\n",
    "raw_df['Public Dealing']=raw_df['Public Dealing'].str.strip()\n",
    "raw_df['Degree']=raw_df['Degree'].str.strip()\n",
    "raw_df['IdealYearlyIncome']=raw_df['IdealYearlyIncome'].str.strip()\n",
    "\n",
    "\n",
    "\n"
   ]
  },
  {
   "cell_type": "code",
   "execution_count": 118,
   "metadata": {},
   "outputs": [
    {
     "output_type": "execute_result",
     "data": {
      "text/plain": [
       "     Employment Sector Employment Background Public Dealing Degree  \\\n",
       "0       Private Sector             Technical             No    Yes   \n",
       "1       Private Sector                   Art             No    Yes   \n",
       "2    Government Sector             Technical             No    Yes   \n",
       "3    Government Sector         Non-Technical            Yes    Yes   \n",
       "4       Private Sector             Technical             No    Yes   \n",
       "..                 ...                   ...            ...    ...   \n",
       "395     Private Sector         Non-Technical             No    Yes   \n",
       "396  Government Sector         Non-Technical            Yes     No   \n",
       "397  Government Sector         Non-Technical            Yes     No   \n",
       "398  Government Sector         Non-Technical             No     No   \n",
       "399   Entrepreneurship         Non-Technical            Yes     No   \n",
       "\n",
       "     IdealNumberOfWorkdays IdealYearlyIncome  \n",
       "0                      4.0   More Than 1500K  \n",
       "1                      4.0         600K-900K  \n",
       "2                      6.0        900K-1200K  \n",
       "3                      4.0        900K-1200K  \n",
       "4                      5.0       1200K-1500K  \n",
       "..                     ...               ...  \n",
       "395                    5.0         600K-900K  \n",
       "396                    4.0        900K-1200K  \n",
       "397                    4.0        900K-1200K  \n",
       "398                    5.0   More Than 1500K  \n",
       "399                    6.0        900K-1200K  \n",
       "\n",
       "[400 rows x 6 columns]"
      ],
      "text/html": "<div>\n<style scoped>\n    .dataframe tbody tr th:only-of-type {\n        vertical-align: middle;\n    }\n\n    .dataframe tbody tr th {\n        vertical-align: top;\n    }\n\n    .dataframe thead th {\n        text-align: right;\n    }\n</style>\n<table border=\"1\" class=\"dataframe\">\n  <thead>\n    <tr style=\"text-align: right;\">\n      <th></th>\n      <th>Employment Sector</th>\n      <th>Employment Background</th>\n      <th>Public Dealing</th>\n      <th>Degree</th>\n      <th>IdealNumberOfWorkdays</th>\n      <th>IdealYearlyIncome</th>\n    </tr>\n  </thead>\n  <tbody>\n    <tr>\n      <th>0</th>\n      <td>Private Sector</td>\n      <td>Technical</td>\n      <td>No</td>\n      <td>Yes</td>\n      <td>4.0</td>\n      <td>More Than 1500K</td>\n    </tr>\n    <tr>\n      <th>1</th>\n      <td>Private Sector</td>\n      <td>Art</td>\n      <td>No</td>\n      <td>Yes</td>\n      <td>4.0</td>\n      <td>600K-900K</td>\n    </tr>\n    <tr>\n      <th>2</th>\n      <td>Government Sector</td>\n      <td>Technical</td>\n      <td>No</td>\n      <td>Yes</td>\n      <td>6.0</td>\n      <td>900K-1200K</td>\n    </tr>\n    <tr>\n      <th>3</th>\n      <td>Government Sector</td>\n      <td>Non-Technical</td>\n      <td>Yes</td>\n      <td>Yes</td>\n      <td>4.0</td>\n      <td>900K-1200K</td>\n    </tr>\n    <tr>\n      <th>4</th>\n      <td>Private Sector</td>\n      <td>Technical</td>\n      <td>No</td>\n      <td>Yes</td>\n      <td>5.0</td>\n      <td>1200K-1500K</td>\n    </tr>\n    <tr>\n      <th>...</th>\n      <td>...</td>\n      <td>...</td>\n      <td>...</td>\n      <td>...</td>\n      <td>...</td>\n      <td>...</td>\n    </tr>\n    <tr>\n      <th>395</th>\n      <td>Private Sector</td>\n      <td>Non-Technical</td>\n      <td>No</td>\n      <td>Yes</td>\n      <td>5.0</td>\n      <td>600K-900K</td>\n    </tr>\n    <tr>\n      <th>396</th>\n      <td>Government Sector</td>\n      <td>Non-Technical</td>\n      <td>Yes</td>\n      <td>No</td>\n      <td>4.0</td>\n      <td>900K-1200K</td>\n    </tr>\n    <tr>\n      <th>397</th>\n      <td>Government Sector</td>\n      <td>Non-Technical</td>\n      <td>Yes</td>\n      <td>No</td>\n      <td>4.0</td>\n      <td>900K-1200K</td>\n    </tr>\n    <tr>\n      <th>398</th>\n      <td>Government Sector</td>\n      <td>Non-Technical</td>\n      <td>No</td>\n      <td>No</td>\n      <td>5.0</td>\n      <td>More Than 1500K</td>\n    </tr>\n    <tr>\n      <th>399</th>\n      <td>Entrepreneurship</td>\n      <td>Non-Technical</td>\n      <td>Yes</td>\n      <td>No</td>\n      <td>6.0</td>\n      <td>900K-1200K</td>\n    </tr>\n  </tbody>\n</table>\n<p>400 rows × 6 columns</p>\n</div>"
     },
     "metadata": {},
     "execution_count": 118
    }
   ],
   "source": [
    "raw_df"
   ]
  },
  {
   "cell_type": "code",
   "execution_count": 119,
   "metadata": {},
   "outputs": [
    {
     "output_type": "execute_result",
     "data": {
      "text/plain": [
       "array(['Technical', 'Art', 'Non-Technical'], dtype=object)"
      ]
     },
     "metadata": {},
     "execution_count": 119
    }
   ],
   "source": [
    "raw_df['Employment Background'].unique()"
   ]
  },
  {
   "cell_type": "code",
   "execution_count": 120,
   "metadata": {},
   "outputs": [
    {
     "output_type": "display_data",
     "data": {
      "application/vnd.plotly.v1+json": {
       "config": {
        "plotlyServerURL": "https://plot.ly"
       },
       "data": [
        {
         "alignmentgroup": "True",
         "bingroup": "x",
         "hovertemplate": "IdealYearlyIncome=More Than 1500K<br>Employment Background=%{x}<br>count=%{y}<extra></extra>",
         "legendgroup": "More Than 1500K",
         "marker": {
          "color": "#636efa"
         },
         "name": "More Than 1500K",
         "offsetgroup": "More Than 1500K",
         "orientation": "v",
         "showlegend": true,
         "type": "histogram",
         "x": [
          "Technical",
          "Art",
          "Non-Technical",
          "Technical",
          "Non-Technical",
          "Non-Technical",
          "Technical",
          "Technical",
          "Non-Technical",
          "Technical",
          "Technical",
          "Technical",
          "Non-Technical",
          "Art",
          "Non-Technical",
          "Technical",
          "Technical",
          "Non-Technical",
          "Technical",
          "Non-Technical",
          "Non-Technical",
          "Non-Technical",
          "Technical",
          "Technical",
          "Non-Technical",
          "Non-Technical",
          "Technical",
          "Technical",
          "Non-Technical",
          "Non-Technical",
          "Technical",
          "Non-Technical",
          "Technical",
          "Technical",
          "Technical",
          "Art",
          "Art",
          "Technical",
          "Technical",
          "Non-Technical",
          "Technical",
          "Technical",
          "Technical",
          "Art",
          "Art",
          "Non-Technical",
          "Art",
          "Non-Technical",
          "Art",
          "Technical",
          "Technical",
          "Non-Technical",
          "Technical",
          "Non-Technical",
          "Technical",
          "Technical",
          "Technical",
          "Technical",
          "Technical",
          "Non-Technical",
          "Technical",
          "Technical",
          "Technical",
          "Technical",
          "Non-Technical",
          "Technical",
          "Art",
          "Non-Technical",
          "Non-Technical",
          "Technical",
          "Non-Technical"
         ],
         "xaxis": "x",
         "yaxis": "y"
        },
        {
         "alignmentgroup": "True",
         "bingroup": "x",
         "hovertemplate": "IdealYearlyIncome=600K-900K<br>Employment Background=%{x}<br>count=%{y}<extra></extra>",
         "legendgroup": "600K-900K",
         "marker": {
          "color": "#EF553B"
         },
         "name": "600K-900K",
         "offsetgroup": "600K-900K",
         "orientation": "v",
         "showlegend": true,
         "type": "histogram",
         "x": [
          "Art",
          "Non-Technical",
          "Non-Technical",
          "Non-Technical",
          "Non-Technical",
          "Non-Technical",
          "Non-Technical",
          "Non-Technical",
          "Non-Technical",
          "Non-Technical",
          "Non-Technical",
          "Non-Technical",
          "Non-Technical",
          "Non-Technical",
          "Non-Technical",
          "Non-Technical",
          "Non-Technical",
          "Non-Technical",
          "Non-Technical",
          "Non-Technical",
          "Non-Technical",
          "Non-Technical",
          "Non-Technical",
          "Non-Technical",
          "Non-Technical",
          "Non-Technical",
          "Non-Technical",
          "Non-Technical",
          "Non-Technical",
          "Art",
          "Non-Technical",
          "Non-Technical",
          "Non-Technical",
          "Non-Technical",
          "Non-Technical",
          "Art",
          "Art",
          "Art",
          "Non-Technical",
          "Non-Technical",
          "Non-Technical",
          "Non-Technical",
          "Non-Technical",
          "Art",
          "Non-Technical",
          "Art",
          "Non-Technical",
          "Non-Technical",
          "Art",
          "Art",
          "Art",
          "Non-Technical",
          "Non-Technical",
          "Non-Technical",
          "Non-Technical",
          "Non-Technical",
          "Non-Technical",
          "Art",
          "Non-Technical",
          "Art",
          "Non-Technical",
          "Non-Technical",
          "Non-Technical",
          "Non-Technical",
          "Non-Technical"
         ],
         "xaxis": "x",
         "yaxis": "y"
        },
        {
         "alignmentgroup": "True",
         "bingroup": "x",
         "hovertemplate": "IdealYearlyIncome=900K-1200K<br>Employment Background=%{x}<br>count=%{y}<extra></extra>",
         "legendgroup": "900K-1200K",
         "marker": {
          "color": "#00cc96"
         },
         "name": "900K-1200K",
         "offsetgroup": "900K-1200K",
         "orientation": "v",
         "showlegend": true,
         "type": "histogram",
         "x": [
          "Technical",
          "Non-Technical",
          "Non-Technical",
          "Non-Technical",
          "Art",
          "Non-Technical",
          "Non-Technical",
          "Non-Technical",
          "Technical",
          "Non-Technical",
          "Non-Technical",
          "Non-Technical",
          "Non-Technical",
          "Non-Technical",
          "Non-Technical",
          "Technical",
          "Non-Technical",
          "Non-Technical",
          "Non-Technical",
          "Art",
          "Non-Technical",
          "Art",
          "Technical",
          "Technical",
          "Technical",
          "Technical",
          "Non-Technical",
          "Non-Technical",
          "Non-Technical",
          "Art",
          "Non-Technical",
          "Non-Technical",
          "Non-Technical",
          "Non-Technical",
          "Non-Technical",
          "Technical",
          "Non-Technical",
          "Non-Technical",
          "Non-Technical",
          "Non-Technical",
          "Technical",
          "Non-Technical",
          "Non-Technical",
          "Non-Technical",
          "Art",
          "Technical",
          "Non-Technical",
          "Non-Technical",
          "Non-Technical",
          "Non-Technical",
          "Non-Technical",
          "Technical",
          "Non-Technical",
          "Technical",
          "Non-Technical",
          "Non-Technical",
          "Non-Technical",
          "Technical",
          "Non-Technical",
          "Non-Technical",
          "Non-Technical",
          "Non-Technical",
          "Non-Technical",
          "Non-Technical",
          "Technical",
          "Non-Technical",
          "Technical",
          "Art",
          "Non-Technical",
          "Art",
          "Technical",
          "Non-Technical",
          "Non-Technical",
          "Non-Technical",
          "Non-Technical",
          "Non-Technical",
          "Non-Technical",
          "Non-Technical",
          "Non-Technical",
          "Technical",
          "Non-Technical",
          "Non-Technical",
          "Technical",
          "Technical",
          "Non-Technical",
          "Art",
          "Non-Technical",
          "Non-Technical",
          "Non-Technical",
          "Technical",
          "Technical",
          "Non-Technical",
          "Non-Technical",
          "Non-Technical",
          "Technical",
          "Non-Technical",
          "Technical",
          "Non-Technical",
          "Technical",
          "Non-Technical",
          "Non-Technical",
          "Non-Technical",
          "Art",
          "Non-Technical",
          "Non-Technical",
          "Non-Technical",
          "Technical",
          "Technical",
          "Non-Technical",
          "Non-Technical",
          "Non-Technical",
          "Technical",
          "Technical",
          "Technical",
          "Technical",
          "Non-Technical",
          "Technical",
          "Technical",
          "Non-Technical",
          "Non-Technical",
          "Technical",
          "Non-Technical",
          "Non-Technical",
          "Non-Technical",
          "Non-Technical",
          "Non-Technical",
          "Non-Technical",
          "Art",
          "Non-Technical",
          "Technical",
          "Technical",
          "Technical",
          "Non-Technical",
          "Non-Technical",
          "Non-Technical",
          "Technical",
          "Non-Technical",
          "Technical",
          "Technical",
          "Non-Technical",
          "Non-Technical",
          "Non-Technical",
          "Non-Technical",
          "Art",
          "Art",
          "Art",
          "Technical",
          "Non-Technical",
          "Non-Technical",
          "Non-Technical",
          "Art",
          "Non-Technical",
          "Technical",
          "Technical",
          "Technical",
          "Technical",
          "Non-Technical",
          "Non-Technical",
          "Technical",
          "Non-Technical",
          "Non-Technical",
          "Non-Technical"
         ],
         "xaxis": "x",
         "yaxis": "y"
        },
        {
         "alignmentgroup": "True",
         "bingroup": "x",
         "hovertemplate": "IdealYearlyIncome=1200K-1500K<br>Employment Background=%{x}<br>count=%{y}<extra></extra>",
         "legendgroup": "1200K-1500K",
         "marker": {
          "color": "#ab63fa"
         },
         "name": "1200K-1500K",
         "offsetgroup": "1200K-1500K",
         "orientation": "v",
         "showlegend": true,
         "type": "histogram",
         "x": [
          "Technical",
          "Technical",
          "Art",
          "Technical",
          "Art",
          "Art",
          "Non-Technical",
          "Non-Technical",
          "Technical",
          "Technical",
          "Non-Technical",
          "Non-Technical",
          "Art",
          "Non-Technical",
          "Technical",
          "Art",
          "Technical",
          "Non-Technical",
          "Technical",
          "Non-Technical",
          "Non-Technical",
          "Technical",
          "Art",
          "Non-Technical",
          "Non-Technical",
          "Non-Technical",
          "Technical",
          "Technical",
          "Art",
          "Technical",
          "Art",
          "Non-Technical",
          "Technical",
          "Non-Technical",
          "Art",
          "Technical",
          "Non-Technical",
          "Technical",
          "Non-Technical",
          "Art",
          "Non-Technical",
          "Non-Technical",
          "Non-Technical",
          "Non-Technical",
          "Non-Technical",
          "Art",
          "Art",
          "Art",
          "Non-Technical",
          "Non-Technical",
          "Technical",
          "Non-Technical",
          "Technical",
          "Technical",
          "Non-Technical",
          "Technical",
          "Art",
          "Non-Technical",
          "Technical",
          "Non-Technical",
          "Technical",
          "Technical",
          "Art",
          "Art",
          "Non-Technical",
          "Art",
          "Non-Technical",
          "Non-Technical",
          "Non-Technical",
          "Technical",
          "Non-Technical",
          "Non-Technical",
          "Technical",
          "Non-Technical",
          "Technical",
          "Art",
          "Non-Technical",
          "Art",
          "Art",
          "Art",
          "Art",
          "Art",
          "Technical",
          "Technical",
          "Art",
          "Technical",
          "Technical",
          "Non-Technical",
          "Technical",
          "Technical",
          "Non-Technical",
          "Non-Technical",
          "Technical",
          "Non-Technical",
          "Technical",
          "Art",
          "Art",
          "Non-Technical",
          "Art",
          "Non-Technical",
          "Non-Technical",
          "Technical"
         ],
         "xaxis": "x",
         "yaxis": "y"
        }
       ],
       "layout": {
        "barmode": "relative",
        "legend": {
         "title": {
          "text": "IdealYearlyIncome"
         },
         "tracegroupgap": 0
        },
        "margin": {
         "t": 60
        },
        "template": {
         "data": {
          "bar": [
           {
            "error_x": {
             "color": "#2a3f5f"
            },
            "error_y": {
             "color": "#2a3f5f"
            },
            "marker": {
             "line": {
              "color": "#E5ECF6",
              "width": 0.5
             }
            },
            "type": "bar"
           }
          ],
          "barpolar": [
           {
            "marker": {
             "line": {
              "color": "#E5ECF6",
              "width": 0.5
             }
            },
            "type": "barpolar"
           }
          ],
          "carpet": [
           {
            "aaxis": {
             "endlinecolor": "#2a3f5f",
             "gridcolor": "white",
             "linecolor": "white",
             "minorgridcolor": "white",
             "startlinecolor": "#2a3f5f"
            },
            "baxis": {
             "endlinecolor": "#2a3f5f",
             "gridcolor": "white",
             "linecolor": "white",
             "minorgridcolor": "white",
             "startlinecolor": "#2a3f5f"
            },
            "type": "carpet"
           }
          ],
          "choropleth": [
           {
            "colorbar": {
             "outlinewidth": 0,
             "ticks": ""
            },
            "type": "choropleth"
           }
          ],
          "contour": [
           {
            "colorbar": {
             "outlinewidth": 0,
             "ticks": ""
            },
            "colorscale": [
             [
              0,
              "#0d0887"
             ],
             [
              0.1111111111111111,
              "#46039f"
             ],
             [
              0.2222222222222222,
              "#7201a8"
             ],
             [
              0.3333333333333333,
              "#9c179e"
             ],
             [
              0.4444444444444444,
              "#bd3786"
             ],
             [
              0.5555555555555556,
              "#d8576b"
             ],
             [
              0.6666666666666666,
              "#ed7953"
             ],
             [
              0.7777777777777778,
              "#fb9f3a"
             ],
             [
              0.8888888888888888,
              "#fdca26"
             ],
             [
              1,
              "#f0f921"
             ]
            ],
            "type": "contour"
           }
          ],
          "contourcarpet": [
           {
            "colorbar": {
             "outlinewidth": 0,
             "ticks": ""
            },
            "type": "contourcarpet"
           }
          ],
          "heatmap": [
           {
            "colorbar": {
             "outlinewidth": 0,
             "ticks": ""
            },
            "colorscale": [
             [
              0,
              "#0d0887"
             ],
             [
              0.1111111111111111,
              "#46039f"
             ],
             [
              0.2222222222222222,
              "#7201a8"
             ],
             [
              0.3333333333333333,
              "#9c179e"
             ],
             [
              0.4444444444444444,
              "#bd3786"
             ],
             [
              0.5555555555555556,
              "#d8576b"
             ],
             [
              0.6666666666666666,
              "#ed7953"
             ],
             [
              0.7777777777777778,
              "#fb9f3a"
             ],
             [
              0.8888888888888888,
              "#fdca26"
             ],
             [
              1,
              "#f0f921"
             ]
            ],
            "type": "heatmap"
           }
          ],
          "heatmapgl": [
           {
            "colorbar": {
             "outlinewidth": 0,
             "ticks": ""
            },
            "colorscale": [
             [
              0,
              "#0d0887"
             ],
             [
              0.1111111111111111,
              "#46039f"
             ],
             [
              0.2222222222222222,
              "#7201a8"
             ],
             [
              0.3333333333333333,
              "#9c179e"
             ],
             [
              0.4444444444444444,
              "#bd3786"
             ],
             [
              0.5555555555555556,
              "#d8576b"
             ],
             [
              0.6666666666666666,
              "#ed7953"
             ],
             [
              0.7777777777777778,
              "#fb9f3a"
             ],
             [
              0.8888888888888888,
              "#fdca26"
             ],
             [
              1,
              "#f0f921"
             ]
            ],
            "type": "heatmapgl"
           }
          ],
          "histogram": [
           {
            "marker": {
             "colorbar": {
              "outlinewidth": 0,
              "ticks": ""
             }
            },
            "type": "histogram"
           }
          ],
          "histogram2d": [
           {
            "colorbar": {
             "outlinewidth": 0,
             "ticks": ""
            },
            "colorscale": [
             [
              0,
              "#0d0887"
             ],
             [
              0.1111111111111111,
              "#46039f"
             ],
             [
              0.2222222222222222,
              "#7201a8"
             ],
             [
              0.3333333333333333,
              "#9c179e"
             ],
             [
              0.4444444444444444,
              "#bd3786"
             ],
             [
              0.5555555555555556,
              "#d8576b"
             ],
             [
              0.6666666666666666,
              "#ed7953"
             ],
             [
              0.7777777777777778,
              "#fb9f3a"
             ],
             [
              0.8888888888888888,
              "#fdca26"
             ],
             [
              1,
              "#f0f921"
             ]
            ],
            "type": "histogram2d"
           }
          ],
          "histogram2dcontour": [
           {
            "colorbar": {
             "outlinewidth": 0,
             "ticks": ""
            },
            "colorscale": [
             [
              0,
              "#0d0887"
             ],
             [
              0.1111111111111111,
              "#46039f"
             ],
             [
              0.2222222222222222,
              "#7201a8"
             ],
             [
              0.3333333333333333,
              "#9c179e"
             ],
             [
              0.4444444444444444,
              "#bd3786"
             ],
             [
              0.5555555555555556,
              "#d8576b"
             ],
             [
              0.6666666666666666,
              "#ed7953"
             ],
             [
              0.7777777777777778,
              "#fb9f3a"
             ],
             [
              0.8888888888888888,
              "#fdca26"
             ],
             [
              1,
              "#f0f921"
             ]
            ],
            "type": "histogram2dcontour"
           }
          ],
          "mesh3d": [
           {
            "colorbar": {
             "outlinewidth": 0,
             "ticks": ""
            },
            "type": "mesh3d"
           }
          ],
          "parcoords": [
           {
            "line": {
             "colorbar": {
              "outlinewidth": 0,
              "ticks": ""
             }
            },
            "type": "parcoords"
           }
          ],
          "pie": [
           {
            "automargin": true,
            "type": "pie"
           }
          ],
          "scatter": [
           {
            "marker": {
             "colorbar": {
              "outlinewidth": 0,
              "ticks": ""
             }
            },
            "type": "scatter"
           }
          ],
          "scatter3d": [
           {
            "line": {
             "colorbar": {
              "outlinewidth": 0,
              "ticks": ""
             }
            },
            "marker": {
             "colorbar": {
              "outlinewidth": 0,
              "ticks": ""
             }
            },
            "type": "scatter3d"
           }
          ],
          "scattercarpet": [
           {
            "marker": {
             "colorbar": {
              "outlinewidth": 0,
              "ticks": ""
             }
            },
            "type": "scattercarpet"
           }
          ],
          "scattergeo": [
           {
            "marker": {
             "colorbar": {
              "outlinewidth": 0,
              "ticks": ""
             }
            },
            "type": "scattergeo"
           }
          ],
          "scattergl": [
           {
            "marker": {
             "colorbar": {
              "outlinewidth": 0,
              "ticks": ""
             }
            },
            "type": "scattergl"
           }
          ],
          "scattermapbox": [
           {
            "marker": {
             "colorbar": {
              "outlinewidth": 0,
              "ticks": ""
             }
            },
            "type": "scattermapbox"
           }
          ],
          "scatterpolar": [
           {
            "marker": {
             "colorbar": {
              "outlinewidth": 0,
              "ticks": ""
             }
            },
            "type": "scatterpolar"
           }
          ],
          "scatterpolargl": [
           {
            "marker": {
             "colorbar": {
              "outlinewidth": 0,
              "ticks": ""
             }
            },
            "type": "scatterpolargl"
           }
          ],
          "scatterternary": [
           {
            "marker": {
             "colorbar": {
              "outlinewidth": 0,
              "ticks": ""
             }
            },
            "type": "scatterternary"
           }
          ],
          "surface": [
           {
            "colorbar": {
             "outlinewidth": 0,
             "ticks": ""
            },
            "colorscale": [
             [
              0,
              "#0d0887"
             ],
             [
              0.1111111111111111,
              "#46039f"
             ],
             [
              0.2222222222222222,
              "#7201a8"
             ],
             [
              0.3333333333333333,
              "#9c179e"
             ],
             [
              0.4444444444444444,
              "#bd3786"
             ],
             [
              0.5555555555555556,
              "#d8576b"
             ],
             [
              0.6666666666666666,
              "#ed7953"
             ],
             [
              0.7777777777777778,
              "#fb9f3a"
             ],
             [
              0.8888888888888888,
              "#fdca26"
             ],
             [
              1,
              "#f0f921"
             ]
            ],
            "type": "surface"
           }
          ],
          "table": [
           {
            "cells": {
             "fill": {
              "color": "#EBF0F8"
             },
             "line": {
              "color": "white"
             }
            },
            "header": {
             "fill": {
              "color": "#C8D4E3"
             },
             "line": {
              "color": "white"
             }
            },
            "type": "table"
           }
          ]
         },
         "layout": {
          "annotationdefaults": {
           "arrowcolor": "#2a3f5f",
           "arrowhead": 0,
           "arrowwidth": 1
          },
          "autotypenumbers": "strict",
          "coloraxis": {
           "colorbar": {
            "outlinewidth": 0,
            "ticks": ""
           }
          },
          "colorscale": {
           "diverging": [
            [
             0,
             "#8e0152"
            ],
            [
             0.1,
             "#c51b7d"
            ],
            [
             0.2,
             "#de77ae"
            ],
            [
             0.3,
             "#f1b6da"
            ],
            [
             0.4,
             "#fde0ef"
            ],
            [
             0.5,
             "#f7f7f7"
            ],
            [
             0.6,
             "#e6f5d0"
            ],
            [
             0.7,
             "#b8e186"
            ],
            [
             0.8,
             "#7fbc41"
            ],
            [
             0.9,
             "#4d9221"
            ],
            [
             1,
             "#276419"
            ]
           ],
           "sequential": [
            [
             0,
             "#0d0887"
            ],
            [
             0.1111111111111111,
             "#46039f"
            ],
            [
             0.2222222222222222,
             "#7201a8"
            ],
            [
             0.3333333333333333,
             "#9c179e"
            ],
            [
             0.4444444444444444,
             "#bd3786"
            ],
            [
             0.5555555555555556,
             "#d8576b"
            ],
            [
             0.6666666666666666,
             "#ed7953"
            ],
            [
             0.7777777777777778,
             "#fb9f3a"
            ],
            [
             0.8888888888888888,
             "#fdca26"
            ],
            [
             1,
             "#f0f921"
            ]
           ],
           "sequentialminus": [
            [
             0,
             "#0d0887"
            ],
            [
             0.1111111111111111,
             "#46039f"
            ],
            [
             0.2222222222222222,
             "#7201a8"
            ],
            [
             0.3333333333333333,
             "#9c179e"
            ],
            [
             0.4444444444444444,
             "#bd3786"
            ],
            [
             0.5555555555555556,
             "#d8576b"
            ],
            [
             0.6666666666666666,
             "#ed7953"
            ],
            [
             0.7777777777777778,
             "#fb9f3a"
            ],
            [
             0.8888888888888888,
             "#fdca26"
            ],
            [
             1,
             "#f0f921"
            ]
           ]
          },
          "colorway": [
           "#636efa",
           "#EF553B",
           "#00cc96",
           "#ab63fa",
           "#FFA15A",
           "#19d3f3",
           "#FF6692",
           "#B6E880",
           "#FF97FF",
           "#FECB52"
          ],
          "font": {
           "color": "#2a3f5f"
          },
          "geo": {
           "bgcolor": "white",
           "lakecolor": "white",
           "landcolor": "#E5ECF6",
           "showlakes": true,
           "showland": true,
           "subunitcolor": "white"
          },
          "hoverlabel": {
           "align": "left"
          },
          "hovermode": "closest",
          "mapbox": {
           "style": "light"
          },
          "paper_bgcolor": "white",
          "plot_bgcolor": "#E5ECF6",
          "polar": {
           "angularaxis": {
            "gridcolor": "white",
            "linecolor": "white",
            "ticks": ""
           },
           "bgcolor": "#E5ECF6",
           "radialaxis": {
            "gridcolor": "white",
            "linecolor": "white",
            "ticks": ""
           }
          },
          "scene": {
           "xaxis": {
            "backgroundcolor": "#E5ECF6",
            "gridcolor": "white",
            "gridwidth": 2,
            "linecolor": "white",
            "showbackground": true,
            "ticks": "",
            "zerolinecolor": "white"
           },
           "yaxis": {
            "backgroundcolor": "#E5ECF6",
            "gridcolor": "white",
            "gridwidth": 2,
            "linecolor": "white",
            "showbackground": true,
            "ticks": "",
            "zerolinecolor": "white"
           },
           "zaxis": {
            "backgroundcolor": "#E5ECF6",
            "gridcolor": "white",
            "gridwidth": 2,
            "linecolor": "white",
            "showbackground": true,
            "ticks": "",
            "zerolinecolor": "white"
           }
          },
          "shapedefaults": {
           "line": {
            "color": "#2a3f5f"
           }
          },
          "ternary": {
           "aaxis": {
            "gridcolor": "white",
            "linecolor": "white",
            "ticks": ""
           },
           "baxis": {
            "gridcolor": "white",
            "linecolor": "white",
            "ticks": ""
           },
           "bgcolor": "#E5ECF6",
           "caxis": {
            "gridcolor": "white",
            "linecolor": "white",
            "ticks": ""
           }
          },
          "title": {
           "x": 0.05
          },
          "xaxis": {
           "automargin": true,
           "gridcolor": "white",
           "linecolor": "white",
           "ticks": "",
           "title": {
            "standoff": 15
           },
           "zerolinecolor": "white",
           "zerolinewidth": 2
          },
          "yaxis": {
           "automargin": true,
           "gridcolor": "white",
           "linecolor": "white",
           "ticks": "",
           "title": {
            "standoff": 15
           },
           "zerolinecolor": "white",
           "zerolinewidth": 2
          }
         }
        },
        "xaxis": {
         "anchor": "y",
         "domain": [
          0,
          1
         ],
         "title": {
          "text": "Employment Background"
         }
        },
        "yaxis": {
         "anchor": "x",
         "domain": [
          0,
          1
         ],
         "title": {
          "text": "count"
         }
        }
       }
      }
     },
     "metadata": {}
    }
   ],
   "source": [
    "px.histogram(raw_df,x='Employment Background',color='IdealYearlyIncome')"
   ]
  },
  {
   "cell_type": "code",
   "execution_count": 121,
   "metadata": {},
   "outputs": [
    {
     "output_type": "execute_result",
     "data": {
      "text/plain": [
       "<AxesSubplot:xlabel='Employment Sector', ylabel='IdealNumberOfWorkdays'>"
      ]
     },
     "metadata": {},
     "execution_count": 121
    },
    {
     "output_type": "display_data",
     "data": {
      "text/plain": "<Figure size 1152x864 with 1 Axes>",
      "image/svg+xml": "<?xml version=\"1.0\" encoding=\"utf-8\" standalone=\"no\"?>\r\n<!DOCTYPE svg PUBLIC \"-//W3C//DTD SVG 1.1//EN\"\r\n  \"http://www.w3.org/Graphics/SVG/1.1/DTD/svg11.dtd\">\r\n<!-- Created with matplotlib (https://matplotlib.org/) -->\r\n<svg height=\"703.661563pt\" version=\"1.1\" viewBox=\"0 0 939.132187 703.661563\" width=\"939.132187pt\" xmlns=\"http://www.w3.org/2000/svg\" xmlns:xlink=\"http://www.w3.org/1999/xlink\">\r\n <metadata>\r\n  <rdf:RDF xmlns:cc=\"http://creativecommons.org/ns#\" xmlns:dc=\"http://purl.org/dc/elements/1.1/\" xmlns:rdf=\"http://www.w3.org/1999/02/22-rdf-syntax-ns#\">\r\n   <cc:Work>\r\n    <dc:type rdf:resource=\"http://purl.org/dc/dcmitype/StillImage\"/>\r\n    <dc:date>2021-06-30T13:37:48.435992</dc:date>\r\n    <dc:format>image/svg+xml</dc:format>\r\n    <dc:creator>\r\n     <cc:Agent>\r\n      <dc:title>Matplotlib v3.3.2, https://matplotlib.org/</dc:title>\r\n     </cc:Agent>\r\n    </dc:creator>\r\n   </cc:Work>\r\n  </rdf:RDF>\r\n </metadata>\r\n <defs>\r\n  <style type=\"text/css\">*{stroke-linecap:butt;stroke-linejoin:round;}</style>\r\n </defs>\r\n <g id=\"figure_1\">\r\n  <g id=\"patch_1\">\r\n   <path d=\"M 0 703.661563 \r\nL 939.132187 703.661563 \r\nL 939.132187 0 \r\nL 0 0 \r\nz\r\n\" style=\"fill:none;\"/>\r\n  </g>\r\n  <g id=\"axes_1\">\r\n   <g id=\"patch_2\">\r\n    <path d=\"M 39.132188 659.52 \r\nL 931.932187 659.52 \r\nL 931.932187 7.2 \r\nL 39.132188 7.2 \r\nz\r\n\" style=\"fill:#eaeaf2;\"/>\r\n   </g>\r\n   <g id=\"matplotlib.axis_1\">\r\n    <g id=\"xtick_1\">\r\n     <g id=\"text_1\">\r\n      <!-- Private Sector -->\r\n      <g style=\"fill:#262626;\" transform=\"translate(143.972187 676.540938)scale(0.14 -0.14)\">\r\n       <defs>\r\n        <path d=\"M 7.71875 0 \r\nL 7.71875 71.578125 \r\nL 34.71875 71.578125 \r\nQ 41.84375 71.578125 45.609375 70.90625 \r\nQ 50.875 70.015625 54.4375 67.546875 \r\nQ 58.015625 65.09375 60.1875 60.640625 \r\nQ 62.359375 56.203125 62.359375 50.875 \r\nQ 62.359375 41.75 56.546875 35.421875 \r\nQ 50.734375 29.109375 35.546875 29.109375 \r\nL 17.1875 29.109375 \r\nL 17.1875 0 \r\nz\r\nM 17.1875 37.546875 \r\nL 35.6875 37.546875 \r\nQ 44.875 37.546875 48.734375 40.96875 \r\nQ 52.59375 44.390625 52.59375 50.59375 \r\nQ 52.59375 55.078125 50.3125 58.265625 \r\nQ 48.046875 61.46875 44.34375 62.5 \r\nQ 41.9375 63.140625 35.5 63.140625 \r\nL 17.1875 63.140625 \r\nz\r\n\" id=\"ArialMT-80\"/>\r\n        <path d=\"M 6.5 0 \r\nL 6.5 51.859375 \r\nL 14.40625 51.859375 \r\nL 14.40625 44 \r\nQ 17.4375 49.515625 20 51.265625 \r\nQ 22.5625 53.03125 25.640625 53.03125 \r\nQ 30.078125 53.03125 34.671875 50.203125 \r\nL 31.640625 42.046875 \r\nQ 28.421875 43.953125 25.203125 43.953125 \r\nQ 22.3125 43.953125 20.015625 42.21875 \r\nQ 17.71875 40.484375 16.75 37.40625 \r\nQ 15.28125 32.71875 15.28125 27.15625 \r\nL 15.28125 0 \r\nz\r\n\" id=\"ArialMT-114\"/>\r\n        <path d=\"M 6.640625 61.46875 \r\nL 6.640625 71.578125 \r\nL 15.4375 71.578125 \r\nL 15.4375 61.46875 \r\nz\r\nM 6.640625 0 \r\nL 6.640625 51.859375 \r\nL 15.4375 51.859375 \r\nL 15.4375 0 \r\nz\r\n\" id=\"ArialMT-105\"/>\r\n        <path d=\"M 21 0 \r\nL 1.265625 51.859375 \r\nL 10.546875 51.859375 \r\nL 21.6875 20.796875 \r\nQ 23.484375 15.765625 25 10.359375 \r\nQ 26.171875 14.453125 28.265625 20.21875 \r\nL 39.796875 51.859375 \r\nL 48.828125 51.859375 \r\nL 29.203125 0 \r\nz\r\n\" id=\"ArialMT-118\"/>\r\n        <path d=\"M 40.4375 6.390625 \r\nQ 35.546875 2.25 31.03125 0.53125 \r\nQ 26.515625 -1.171875 21.34375 -1.171875 \r\nQ 12.796875 -1.171875 8.203125 3 \r\nQ 3.609375 7.171875 3.609375 13.671875 \r\nQ 3.609375 17.484375 5.34375 20.625 \r\nQ 7.078125 23.78125 9.890625 25.6875 \r\nQ 12.703125 27.59375 16.21875 28.5625 \r\nQ 18.796875 29.25 24.03125 29.890625 \r\nQ 34.671875 31.15625 39.703125 32.90625 \r\nQ 39.75 34.71875 39.75 35.203125 \r\nQ 39.75 40.578125 37.25 42.78125 \r\nQ 33.890625 45.75 27.25 45.75 \r\nQ 21.046875 45.75 18.09375 43.578125 \r\nQ 15.140625 41.40625 13.71875 35.890625 \r\nL 5.125 37.0625 \r\nQ 6.296875 42.578125 8.984375 45.96875 \r\nQ 11.671875 49.359375 16.75 51.1875 \r\nQ 21.828125 53.03125 28.515625 53.03125 \r\nQ 35.15625 53.03125 39.296875 51.46875 \r\nQ 43.453125 49.90625 45.40625 47.53125 \r\nQ 47.359375 45.171875 48.140625 41.546875 \r\nQ 48.578125 39.3125 48.578125 33.453125 \r\nL 48.578125 21.734375 \r\nQ 48.578125 9.46875 49.140625 6.21875 \r\nQ 49.703125 2.984375 51.375 0 \r\nL 42.1875 0 \r\nQ 40.828125 2.734375 40.4375 6.390625 \r\nz\r\nM 39.703125 26.03125 \r\nQ 34.90625 24.078125 25.34375 22.703125 \r\nQ 19.921875 21.921875 17.671875 20.9375 \r\nQ 15.4375 19.96875 14.203125 18.09375 \r\nQ 12.984375 16.21875 12.984375 13.921875 \r\nQ 12.984375 10.40625 15.640625 8.0625 \r\nQ 18.3125 5.71875 23.4375 5.71875 \r\nQ 28.515625 5.71875 32.46875 7.9375 \r\nQ 36.421875 10.15625 38.28125 14.015625 \r\nQ 39.703125 17 39.703125 22.796875 \r\nz\r\n\" id=\"ArialMT-97\"/>\r\n        <path d=\"M 25.78125 7.859375 \r\nL 27.046875 0.09375 \r\nQ 23.34375 -0.6875 20.40625 -0.6875 \r\nQ 15.625 -0.6875 12.984375 0.828125 \r\nQ 10.359375 2.34375 9.28125 4.8125 \r\nQ 8.203125 7.28125 8.203125 15.1875 \r\nL 8.203125 45.015625 \r\nL 1.765625 45.015625 \r\nL 1.765625 51.859375 \r\nL 8.203125 51.859375 \r\nL 8.203125 64.703125 \r\nL 16.9375 69.96875 \r\nL 16.9375 51.859375 \r\nL 25.78125 51.859375 \r\nL 25.78125 45.015625 \r\nL 16.9375 45.015625 \r\nL 16.9375 14.703125 \r\nQ 16.9375 10.9375 17.40625 9.859375 \r\nQ 17.875 8.796875 18.921875 8.15625 \r\nQ 19.96875 7.515625 21.921875 7.515625 \r\nQ 23.390625 7.515625 25.78125 7.859375 \r\nz\r\n\" id=\"ArialMT-116\"/>\r\n        <path d=\"M 42.09375 16.703125 \r\nL 51.171875 15.578125 \r\nQ 49.03125 7.625 43.21875 3.21875 \r\nQ 37.40625 -1.171875 28.375 -1.171875 \r\nQ 17 -1.171875 10.328125 5.828125 \r\nQ 3.65625 12.84375 3.65625 25.484375 \r\nQ 3.65625 38.578125 10.390625 45.796875 \r\nQ 17.140625 53.03125 27.875 53.03125 \r\nQ 38.28125 53.03125 44.875 45.953125 \r\nQ 51.46875 38.875 51.46875 26.03125 \r\nQ 51.46875 25.25 51.421875 23.6875 \r\nL 12.75 23.6875 \r\nQ 13.234375 15.140625 17.578125 10.59375 \r\nQ 21.921875 6.0625 28.421875 6.0625 \r\nQ 33.25 6.0625 36.671875 8.59375 \r\nQ 40.09375 11.140625 42.09375 16.703125 \r\nz\r\nM 13.234375 30.90625 \r\nL 42.1875 30.90625 \r\nQ 41.609375 37.453125 38.875 40.71875 \r\nQ 34.671875 45.796875 27.984375 45.796875 \r\nQ 21.921875 45.796875 17.796875 41.75 \r\nQ 13.671875 37.703125 13.234375 30.90625 \r\nz\r\n\" id=\"ArialMT-101\"/>\r\n        <path id=\"ArialMT-32\"/>\r\n        <path d=\"M 4.5 23 \r\nL 13.421875 23.78125 \r\nQ 14.0625 18.40625 16.375 14.96875 \r\nQ 18.703125 11.53125 23.578125 9.40625 \r\nQ 28.46875 7.28125 34.578125 7.28125 \r\nQ 39.984375 7.28125 44.140625 8.890625 \r\nQ 48.296875 10.5 50.3125 13.296875 \r\nQ 52.34375 16.109375 52.34375 19.4375 \r\nQ 52.34375 22.796875 50.390625 25.3125 \r\nQ 48.4375 27.828125 43.953125 29.546875 \r\nQ 41.0625 30.671875 31.203125 33.03125 \r\nQ 21.34375 35.40625 17.390625 37.5 \r\nQ 12.25 40.1875 9.734375 44.15625 \r\nQ 7.234375 48.140625 7.234375 53.078125 \r\nQ 7.234375 58.5 10.296875 63.203125 \r\nQ 13.375 67.921875 19.28125 70.359375 \r\nQ 25.203125 72.796875 32.421875 72.796875 \r\nQ 40.375 72.796875 46.453125 70.234375 \r\nQ 52.546875 67.671875 55.8125 62.6875 \r\nQ 59.078125 57.71875 59.328125 51.421875 \r\nL 50.25 50.734375 \r\nQ 49.515625 57.515625 45.28125 60.984375 \r\nQ 41.0625 64.453125 32.8125 64.453125 \r\nQ 24.21875 64.453125 20.28125 61.296875 \r\nQ 16.359375 58.15625 16.359375 53.71875 \r\nQ 16.359375 49.859375 19.140625 47.359375 \r\nQ 21.875 44.875 33.421875 42.265625 \r\nQ 44.96875 39.65625 49.265625 37.703125 \r\nQ 55.515625 34.8125 58.484375 30.390625 \r\nQ 61.46875 25.984375 61.46875 20.21875 \r\nQ 61.46875 14.5 58.203125 9.4375 \r\nQ 54.9375 4.390625 48.796875 1.578125 \r\nQ 42.671875 -1.21875 35.015625 -1.21875 \r\nQ 25.296875 -1.21875 18.71875 1.609375 \r\nQ 12.15625 4.4375 8.421875 10.125 \r\nQ 4.6875 15.828125 4.5 23 \r\nz\r\n\" id=\"ArialMT-83\"/>\r\n        <path d=\"M 40.4375 19 \r\nL 49.078125 17.875 \r\nQ 47.65625 8.9375 41.8125 3.875 \r\nQ 35.984375 -1.171875 27.484375 -1.171875 \r\nQ 16.84375 -1.171875 10.375 5.78125 \r\nQ 3.90625 12.75 3.90625 25.734375 \r\nQ 3.90625 34.125 6.6875 40.421875 \r\nQ 9.46875 46.734375 15.15625 49.875 \r\nQ 20.84375 53.03125 27.546875 53.03125 \r\nQ 35.984375 53.03125 41.359375 48.75 \r\nQ 46.734375 44.484375 48.25 36.625 \r\nL 39.703125 35.296875 \r\nQ 38.484375 40.53125 35.375 43.15625 \r\nQ 32.28125 45.796875 27.875 45.796875 \r\nQ 21.234375 45.796875 17.078125 41.03125 \r\nQ 12.9375 36.28125 12.9375 25.984375 \r\nQ 12.9375 15.53125 16.9375 10.796875 \r\nQ 20.953125 6.0625 27.390625 6.0625 \r\nQ 32.5625 6.0625 36.03125 9.234375 \r\nQ 39.5 12.40625 40.4375 19 \r\nz\r\n\" id=\"ArialMT-99\"/>\r\n        <path d=\"M 3.328125 25.921875 \r\nQ 3.328125 40.328125 11.328125 47.265625 \r\nQ 18.015625 53.03125 27.640625 53.03125 \r\nQ 38.328125 53.03125 45.109375 46.015625 \r\nQ 51.90625 39.015625 51.90625 26.65625 \r\nQ 51.90625 16.65625 48.90625 10.90625 \r\nQ 45.90625 5.171875 40.15625 2 \r\nQ 34.421875 -1.171875 27.640625 -1.171875 \r\nQ 16.75 -1.171875 10.03125 5.8125 \r\nQ 3.328125 12.796875 3.328125 25.921875 \r\nz\r\nM 12.359375 25.921875 \r\nQ 12.359375 15.96875 16.703125 11.015625 \r\nQ 21.046875 6.0625 27.640625 6.0625 \r\nQ 34.1875 6.0625 38.53125 11.03125 \r\nQ 42.875 16.015625 42.875 26.21875 \r\nQ 42.875 35.84375 38.5 40.796875 \r\nQ 34.125 45.75 27.640625 45.75 \r\nQ 21.046875 45.75 16.703125 40.8125 \r\nQ 12.359375 35.890625 12.359375 25.921875 \r\nz\r\n\" id=\"ArialMT-111\"/>\r\n       </defs>\r\n       <use xlink:href=\"#ArialMT-80\"/>\r\n       <use x=\"66.699219\" xlink:href=\"#ArialMT-114\"/>\r\n       <use x=\"100\" xlink:href=\"#ArialMT-105\"/>\r\n       <use x=\"122.216797\" xlink:href=\"#ArialMT-118\"/>\r\n       <use x=\"172.216797\" xlink:href=\"#ArialMT-97\"/>\r\n       <use x=\"227.832031\" xlink:href=\"#ArialMT-116\"/>\r\n       <use x=\"255.615234\" xlink:href=\"#ArialMT-101\"/>\r\n       <use x=\"311.230469\" xlink:href=\"#ArialMT-32\"/>\r\n       <use x=\"339.013672\" xlink:href=\"#ArialMT-83\"/>\r\n       <use x=\"405.712891\" xlink:href=\"#ArialMT-101\"/>\r\n       <use x=\"461.328125\" xlink:href=\"#ArialMT-99\"/>\r\n       <use x=\"511.328125\" xlink:href=\"#ArialMT-116\"/>\r\n       <use x=\"539.111328\" xlink:href=\"#ArialMT-111\"/>\r\n       <use x=\"594.726562\" xlink:href=\"#ArialMT-114\"/>\r\n      </g>\r\n     </g>\r\n    </g>\r\n    <g id=\"xtick_2\">\r\n     <g id=\"text_2\">\r\n      <!-- Government Sector -->\r\n      <g style=\"fill:#262626;\" transform=\"translate(424.843281 676.540938)scale(0.14 -0.14)\">\r\n       <defs>\r\n        <path d=\"M 41.21875 28.078125 \r\nL 41.21875 36.46875 \r\nL 71.53125 36.53125 \r\nL 71.53125 9.96875 \r\nQ 64.546875 4.390625 57.125 1.578125 \r\nQ 49.703125 -1.21875 41.890625 -1.21875 \r\nQ 31.34375 -1.21875 22.71875 3.296875 \r\nQ 14.109375 7.8125 9.71875 16.359375 \r\nQ 5.328125 24.90625 5.328125 35.453125 \r\nQ 5.328125 45.90625 9.6875 54.953125 \r\nQ 14.0625 64.015625 22.265625 68.40625 \r\nQ 30.46875 72.796875 41.15625 72.796875 \r\nQ 48.921875 72.796875 55.1875 70.28125 \r\nQ 61.46875 67.78125 65.03125 63.28125 \r\nQ 68.609375 58.796875 70.453125 51.5625 \r\nL 61.921875 49.21875 \r\nQ 60.296875 54.6875 57.90625 57.8125 \r\nQ 55.515625 60.9375 51.0625 62.8125 \r\nQ 46.625 64.703125 41.21875 64.703125 \r\nQ 34.71875 64.703125 29.984375 62.71875 \r\nQ 25.25 60.75 22.34375 57.515625 \r\nQ 19.4375 54.296875 17.828125 50.4375 \r\nQ 15.09375 43.796875 15.09375 36.03125 \r\nQ 15.09375 26.46875 18.390625 20.015625 \r\nQ 21.6875 13.578125 27.984375 10.453125 \r\nQ 34.28125 7.328125 41.359375 7.328125 \r\nQ 47.515625 7.328125 53.375 9.6875 \r\nQ 59.234375 12.0625 62.25 14.75 \r\nL 62.25 28.078125 \r\nz\r\n\" id=\"ArialMT-71\"/>\r\n        <path d=\"M 6.59375 0 \r\nL 6.59375 51.859375 \r\nL 14.5 51.859375 \r\nL 14.5 44.484375 \r\nQ 20.21875 53.03125 31 53.03125 \r\nQ 35.6875 53.03125 39.625 51.34375 \r\nQ 43.5625 49.65625 45.515625 46.921875 \r\nQ 47.46875 44.1875 48.25 40.4375 \r\nQ 48.734375 37.984375 48.734375 31.890625 \r\nL 48.734375 0 \r\nL 39.9375 0 \r\nL 39.9375 31.546875 \r\nQ 39.9375 36.921875 38.90625 39.578125 \r\nQ 37.890625 42.234375 35.28125 43.8125 \r\nQ 32.671875 45.40625 29.15625 45.40625 \r\nQ 23.53125 45.40625 19.453125 41.84375 \r\nQ 15.375 38.28125 15.375 28.328125 \r\nL 15.375 0 \r\nz\r\n\" id=\"ArialMT-110\"/>\r\n        <path d=\"M 6.59375 0 \r\nL 6.59375 51.859375 \r\nL 14.453125 51.859375 \r\nL 14.453125 44.578125 \r\nQ 16.890625 48.390625 20.9375 50.703125 \r\nQ 25 53.03125 30.171875 53.03125 \r\nQ 35.9375 53.03125 39.625 50.640625 \r\nQ 43.3125 48.25 44.828125 43.953125 \r\nQ 50.984375 53.03125 60.84375 53.03125 \r\nQ 68.5625 53.03125 72.703125 48.75 \r\nQ 76.859375 44.484375 76.859375 35.59375 \r\nL 76.859375 0 \r\nL 68.109375 0 \r\nL 68.109375 32.671875 \r\nQ 68.109375 37.9375 67.25 40.25 \r\nQ 66.40625 42.578125 64.15625 43.984375 \r\nQ 61.921875 45.40625 58.890625 45.40625 \r\nQ 53.421875 45.40625 49.796875 41.765625 \r\nQ 46.1875 38.140625 46.1875 30.125 \r\nL 46.1875 0 \r\nL 37.40625 0 \r\nL 37.40625 33.6875 \r\nQ 37.40625 39.546875 35.25 42.46875 \r\nQ 33.109375 45.40625 28.21875 45.40625 \r\nQ 24.515625 45.40625 21.359375 43.453125 \r\nQ 18.21875 41.5 16.796875 37.734375 \r\nQ 15.375 33.984375 15.375 26.90625 \r\nL 15.375 0 \r\nz\r\n\" id=\"ArialMT-109\"/>\r\n       </defs>\r\n       <use xlink:href=\"#ArialMT-71\"/>\r\n       <use x=\"77.783203\" xlink:href=\"#ArialMT-111\"/>\r\n       <use x=\"133.398438\" xlink:href=\"#ArialMT-118\"/>\r\n       <use x=\"183.398438\" xlink:href=\"#ArialMT-101\"/>\r\n       <use x=\"239.013672\" xlink:href=\"#ArialMT-114\"/>\r\n       <use x=\"272.314453\" xlink:href=\"#ArialMT-110\"/>\r\n       <use x=\"327.929688\" xlink:href=\"#ArialMT-109\"/>\r\n       <use x=\"411.230469\" xlink:href=\"#ArialMT-101\"/>\r\n       <use x=\"466.845703\" xlink:href=\"#ArialMT-110\"/>\r\n       <use x=\"522.460938\" xlink:href=\"#ArialMT-116\"/>\r\n       <use x=\"550.244141\" xlink:href=\"#ArialMT-32\"/>\r\n       <use x=\"578.027344\" xlink:href=\"#ArialMT-83\"/>\r\n       <use x=\"644.726562\" xlink:href=\"#ArialMT-101\"/>\r\n       <use x=\"700.341797\" xlink:href=\"#ArialMT-99\"/>\r\n       <use x=\"750.341797\" xlink:href=\"#ArialMT-116\"/>\r\n       <use x=\"778.125\" xlink:href=\"#ArialMT-111\"/>\r\n       <use x=\"833.740234\" xlink:href=\"#ArialMT-114\"/>\r\n      </g>\r\n     </g>\r\n    </g>\r\n    <g id=\"xtick_3\">\r\n     <g id=\"text_3\">\r\n      <!-- Entrepreneurship -->\r\n      <g style=\"fill:#262626;\" transform=\"translate(729.436719 676.540938)scale(0.14 -0.14)\">\r\n       <defs>\r\n        <path d=\"M 7.90625 0 \r\nL 7.90625 71.578125 \r\nL 59.671875 71.578125 \r\nL 59.671875 63.140625 \r\nL 17.390625 63.140625 \r\nL 17.390625 41.21875 \r\nL 56.984375 41.21875 \r\nL 56.984375 32.8125 \r\nL 17.390625 32.8125 \r\nL 17.390625 8.453125 \r\nL 61.328125 8.453125 \r\nL 61.328125 0 \r\nz\r\n\" id=\"ArialMT-69\"/>\r\n        <path d=\"M 6.59375 -19.875 \r\nL 6.59375 51.859375 \r\nL 14.59375 51.859375 \r\nL 14.59375 45.125 \r\nQ 17.4375 49.078125 21 51.046875 \r\nQ 24.5625 53.03125 29.640625 53.03125 \r\nQ 36.28125 53.03125 41.359375 49.609375 \r\nQ 46.4375 46.1875 49.015625 39.953125 \r\nQ 51.609375 33.734375 51.609375 26.3125 \r\nQ 51.609375 18.359375 48.75 11.984375 \r\nQ 45.90625 5.609375 40.453125 2.21875 \r\nQ 35.015625 -1.171875 29 -1.171875 \r\nQ 24.609375 -1.171875 21.109375 0.6875 \r\nQ 17.625 2.546875 15.375 5.375 \r\nL 15.375 -19.875 \r\nz\r\nM 14.546875 25.640625 \r\nQ 14.546875 15.625 18.59375 10.84375 \r\nQ 22.65625 6.0625 28.421875 6.0625 \r\nQ 34.28125 6.0625 38.453125 11.015625 \r\nQ 42.625 15.96875 42.625 26.375 \r\nQ 42.625 36.28125 38.546875 41.203125 \r\nQ 34.46875 46.140625 28.8125 46.140625 \r\nQ 23.1875 46.140625 18.859375 40.890625 \r\nQ 14.546875 35.640625 14.546875 25.640625 \r\nz\r\n\" id=\"ArialMT-112\"/>\r\n        <path d=\"M 40.578125 0 \r\nL 40.578125 7.625 \r\nQ 34.515625 -1.171875 24.125 -1.171875 \r\nQ 19.53125 -1.171875 15.546875 0.578125 \r\nQ 11.578125 2.34375 9.640625 5 \r\nQ 7.71875 7.671875 6.9375 11.53125 \r\nQ 6.390625 14.109375 6.390625 19.734375 \r\nL 6.390625 51.859375 \r\nL 15.1875 51.859375 \r\nL 15.1875 23.09375 \r\nQ 15.1875 16.21875 15.71875 13.8125 \r\nQ 16.546875 10.359375 19.234375 8.375 \r\nQ 21.921875 6.390625 25.875 6.390625 \r\nQ 29.828125 6.390625 33.296875 8.421875 \r\nQ 36.765625 10.453125 38.203125 13.9375 \r\nQ 39.65625 17.4375 39.65625 24.078125 \r\nL 39.65625 51.859375 \r\nL 48.4375 51.859375 \r\nL 48.4375 0 \r\nz\r\n\" id=\"ArialMT-117\"/>\r\n        <path d=\"M 3.078125 15.484375 \r\nL 11.765625 16.84375 \r\nQ 12.5 11.625 15.84375 8.84375 \r\nQ 19.1875 6.0625 25.203125 6.0625 \r\nQ 31.25 6.0625 34.171875 8.515625 \r\nQ 37.109375 10.984375 37.109375 14.3125 \r\nQ 37.109375 17.28125 34.515625 19 \r\nQ 32.71875 20.171875 25.53125 21.96875 \r\nQ 15.875 24.421875 12.140625 26.203125 \r\nQ 8.40625 27.984375 6.46875 31.125 \r\nQ 4.546875 34.28125 4.546875 38.09375 \r\nQ 4.546875 41.546875 6.125 44.5 \r\nQ 7.71875 47.46875 10.453125 49.421875 \r\nQ 12.5 50.921875 16.03125 51.96875 \r\nQ 19.578125 53.03125 23.640625 53.03125 \r\nQ 29.734375 53.03125 34.34375 51.265625 \r\nQ 38.96875 49.515625 41.15625 46.5 \r\nQ 43.359375 43.5 44.1875 38.484375 \r\nL 35.59375 37.3125 \r\nQ 35.015625 41.3125 32.203125 43.546875 \r\nQ 29.390625 45.796875 24.265625 45.796875 \r\nQ 18.21875 45.796875 15.625 43.796875 \r\nQ 13.03125 41.796875 13.03125 39.109375 \r\nQ 13.03125 37.40625 14.109375 36.03125 \r\nQ 15.1875 34.625 17.484375 33.6875 \r\nQ 18.796875 33.203125 25.25 31.453125 \r\nQ 34.578125 28.953125 38.25 27.359375 \r\nQ 41.9375 25.78125 44.03125 22.75 \r\nQ 46.140625 19.734375 46.140625 15.234375 \r\nQ 46.140625 10.84375 43.578125 6.953125 \r\nQ 41.015625 3.078125 36.171875 0.953125 \r\nQ 31.34375 -1.171875 25.25 -1.171875 \r\nQ 15.140625 -1.171875 9.84375 3.03125 \r\nQ 4.546875 7.234375 3.078125 15.484375 \r\nz\r\n\" id=\"ArialMT-115\"/>\r\n        <path d=\"M 6.59375 0 \r\nL 6.59375 71.578125 \r\nL 15.375 71.578125 \r\nL 15.375 45.90625 \r\nQ 21.53125 53.03125 30.90625 53.03125 \r\nQ 36.671875 53.03125 40.921875 50.75 \r\nQ 45.171875 48.484375 47 44.484375 \r\nQ 48.828125 40.484375 48.828125 32.859375 \r\nL 48.828125 0 \r\nL 40.046875 0 \r\nL 40.046875 32.859375 \r\nQ 40.046875 39.453125 37.1875 42.453125 \r\nQ 34.328125 45.453125 29.109375 45.453125 \r\nQ 25.203125 45.453125 21.75 43.421875 \r\nQ 18.3125 41.40625 16.84375 37.9375 \r\nQ 15.375 34.46875 15.375 28.375 \r\nL 15.375 0 \r\nz\r\n\" id=\"ArialMT-104\"/>\r\n       </defs>\r\n       <use xlink:href=\"#ArialMT-69\"/>\r\n       <use x=\"66.699219\" xlink:href=\"#ArialMT-110\"/>\r\n       <use x=\"122.314453\" xlink:href=\"#ArialMT-116\"/>\r\n       <use x=\"150.097656\" xlink:href=\"#ArialMT-114\"/>\r\n       <use x=\"183.398438\" xlink:href=\"#ArialMT-101\"/>\r\n       <use x=\"239.013672\" xlink:href=\"#ArialMT-112\"/>\r\n       <use x=\"294.628906\" xlink:href=\"#ArialMT-114\"/>\r\n       <use x=\"327.929688\" xlink:href=\"#ArialMT-101\"/>\r\n       <use x=\"383.544922\" xlink:href=\"#ArialMT-110\"/>\r\n       <use x=\"439.160156\" xlink:href=\"#ArialMT-101\"/>\r\n       <use x=\"494.775391\" xlink:href=\"#ArialMT-117\"/>\r\n       <use x=\"550.390625\" xlink:href=\"#ArialMT-114\"/>\r\n       <use x=\"583.691406\" xlink:href=\"#ArialMT-115\"/>\r\n       <use x=\"633.691406\" xlink:href=\"#ArialMT-104\"/>\r\n       <use x=\"689.306641\" xlink:href=\"#ArialMT-105\"/>\r\n       <use x=\"711.523438\" xlink:href=\"#ArialMT-112\"/>\r\n      </g>\r\n     </g>\r\n    </g>\r\n    <g id=\"text_4\">\r\n     <!-- Employment Sector -->\r\n     <g style=\"fill:#262626;\" transform=\"translate(424.456094 693.515)scale(0.14 -0.14)\">\r\n      <defs>\r\n       <path d=\"M 6.390625 0 \r\nL 6.390625 71.578125 \r\nL 15.1875 71.578125 \r\nL 15.1875 0 \r\nz\r\n\" id=\"ArialMT-108\"/>\r\n       <path d=\"M 6.203125 -19.96875 \r\nL 5.21875 -11.71875 \r\nQ 8.109375 -12.5 10.25 -12.5 \r\nQ 13.1875 -12.5 14.9375 -11.515625 \r\nQ 16.703125 -10.546875 17.828125 -8.796875 \r\nQ 18.65625 -7.46875 20.515625 -2.25 \r\nQ 20.75 -1.515625 21.296875 -0.09375 \r\nL 1.609375 51.859375 \r\nL 11.078125 51.859375 \r\nL 21.875 21.828125 \r\nQ 23.96875 16.109375 25.640625 9.8125 \r\nQ 27.15625 15.875 29.25 21.625 \r\nL 40.328125 51.859375 \r\nL 49.125 51.859375 \r\nL 29.390625 -0.875 \r\nQ 26.21875 -9.421875 24.46875 -12.640625 \r\nQ 22.125 -17 19.09375 -19.015625 \r\nQ 16.0625 -21.046875 11.859375 -21.046875 \r\nQ 9.328125 -21.046875 6.203125 -19.96875 \r\nz\r\n\" id=\"ArialMT-121\"/>\r\n      </defs>\r\n      <use xlink:href=\"#ArialMT-69\"/>\r\n      <use x=\"66.699219\" xlink:href=\"#ArialMT-109\"/>\r\n      <use x=\"150\" xlink:href=\"#ArialMT-112\"/>\r\n      <use x=\"205.615234\" xlink:href=\"#ArialMT-108\"/>\r\n      <use x=\"227.832031\" xlink:href=\"#ArialMT-111\"/>\r\n      <use x=\"283.447266\" xlink:href=\"#ArialMT-121\"/>\r\n      <use x=\"333.447266\" xlink:href=\"#ArialMT-109\"/>\r\n      <use x=\"416.748047\" xlink:href=\"#ArialMT-101\"/>\r\n      <use x=\"472.363281\" xlink:href=\"#ArialMT-110\"/>\r\n      <use x=\"527.978516\" xlink:href=\"#ArialMT-116\"/>\r\n      <use x=\"555.761719\" xlink:href=\"#ArialMT-32\"/>\r\n      <use x=\"583.544922\" xlink:href=\"#ArialMT-83\"/>\r\n      <use x=\"650.244141\" xlink:href=\"#ArialMT-101\"/>\r\n      <use x=\"705.859375\" xlink:href=\"#ArialMT-99\"/>\r\n      <use x=\"755.859375\" xlink:href=\"#ArialMT-116\"/>\r\n      <use x=\"783.642578\" xlink:href=\"#ArialMT-111\"/>\r\n      <use x=\"839.257812\" xlink:href=\"#ArialMT-114\"/>\r\n     </g>\r\n    </g>\r\n   </g>\r\n   <g id=\"matplotlib.axis_2\">\r\n    <g id=\"ytick_1\">\r\n     <g id=\"line2d_1\">\r\n      <path clip-path=\"url(#p57c5ccdf90)\" d=\"M 39.132188 659.52 \r\nL 931.932187 659.52 \r\n\" style=\"fill:none;stroke:#ffffff;stroke-linecap:round;stroke-width:0.8;\"/>\r\n     </g>\r\n     <g id=\"text_5\">\r\n      <!-- 0 -->\r\n      <g style=\"fill:#262626;\" transform=\"translate(24.346875 664.530469)scale(0.14 -0.14)\">\r\n       <defs>\r\n        <path d=\"M 4.15625 35.296875 \r\nQ 4.15625 48 6.765625 55.734375 \r\nQ 9.375 63.484375 14.515625 67.671875 \r\nQ 19.671875 71.875 27.484375 71.875 \r\nQ 33.25 71.875 37.59375 69.546875 \r\nQ 41.9375 67.234375 44.765625 62.859375 \r\nQ 47.609375 58.5 49.21875 52.21875 \r\nQ 50.828125 45.953125 50.828125 35.296875 \r\nQ 50.828125 22.703125 48.234375 14.96875 \r\nQ 45.65625 7.234375 40.5 3 \r\nQ 35.359375 -1.21875 27.484375 -1.21875 \r\nQ 17.140625 -1.21875 11.234375 6.203125 \r\nQ 4.15625 15.140625 4.15625 35.296875 \r\nz\r\nM 13.1875 35.296875 \r\nQ 13.1875 17.671875 17.3125 11.828125 \r\nQ 21.4375 6 27.484375 6 \r\nQ 33.546875 6 37.671875 11.859375 \r\nQ 41.796875 17.71875 41.796875 35.296875 \r\nQ 41.796875 52.984375 37.671875 58.78125 \r\nQ 33.546875 64.59375 27.390625 64.59375 \r\nQ 21.34375 64.59375 17.71875 59.46875 \r\nQ 13.1875 52.9375 13.1875 35.296875 \r\nz\r\n\" id=\"ArialMT-48\"/>\r\n       </defs>\r\n       <use xlink:href=\"#ArialMT-48\"/>\r\n      </g>\r\n     </g>\r\n    </g>\r\n    <g id=\"ytick_2\">\r\n     <g id=\"line2d_2\">\r\n      <path clip-path=\"url(#p57c5ccdf90)\" d=\"M 39.132188 565.39013 \r\nL 931.932187 565.39013 \r\n\" style=\"fill:none;stroke:#ffffff;stroke-linecap:round;stroke-width:0.8;\"/>\r\n     </g>\r\n     <g id=\"text_6\">\r\n      <!-- 1 -->\r\n      <g style=\"fill:#262626;\" transform=\"translate(24.346875 570.400599)scale(0.14 -0.14)\">\r\n       <defs>\r\n        <path d=\"M 37.25 0 \r\nL 28.46875 0 \r\nL 28.46875 56 \r\nQ 25.296875 52.984375 20.140625 49.953125 \r\nQ 14.984375 46.921875 10.890625 45.40625 \r\nL 10.890625 53.90625 \r\nQ 18.265625 57.375 23.78125 62.296875 \r\nQ 29.296875 67.234375 31.59375 71.875 \r\nL 37.25 71.875 \r\nz\r\n\" id=\"ArialMT-49\"/>\r\n       </defs>\r\n       <use xlink:href=\"#ArialMT-49\"/>\r\n      </g>\r\n     </g>\r\n    </g>\r\n    <g id=\"ytick_3\">\r\n     <g id=\"line2d_3\">\r\n      <path clip-path=\"url(#p57c5ccdf90)\" d=\"M 39.132188 471.26026 \r\nL 931.932187 471.26026 \r\n\" style=\"fill:none;stroke:#ffffff;stroke-linecap:round;stroke-width:0.8;\"/>\r\n     </g>\r\n     <g id=\"text_7\">\r\n      <!-- 2 -->\r\n      <g style=\"fill:#262626;\" transform=\"translate(24.346875 476.270728)scale(0.14 -0.14)\">\r\n       <defs>\r\n        <path d=\"M 50.34375 8.453125 \r\nL 50.34375 0 \r\nL 3.03125 0 \r\nQ 2.9375 3.171875 4.046875 6.109375 \r\nQ 5.859375 10.9375 9.828125 15.625 \r\nQ 13.8125 20.3125 21.34375 26.46875 \r\nQ 33.015625 36.03125 37.109375 41.625 \r\nQ 41.21875 47.21875 41.21875 52.203125 \r\nQ 41.21875 57.421875 37.46875 61 \r\nQ 33.734375 64.59375 27.734375 64.59375 \r\nQ 21.390625 64.59375 17.578125 60.78125 \r\nQ 13.765625 56.984375 13.71875 50.25 \r\nL 4.6875 51.171875 \r\nQ 5.609375 61.28125 11.65625 66.578125 \r\nQ 17.71875 71.875 27.9375 71.875 \r\nQ 38.234375 71.875 44.234375 66.15625 \r\nQ 50.25 60.453125 50.25 52 \r\nQ 50.25 47.703125 48.484375 43.546875 \r\nQ 46.734375 39.40625 42.65625 34.8125 \r\nQ 38.578125 30.21875 29.109375 22.21875 \r\nQ 21.1875 15.578125 18.9375 13.203125 \r\nQ 16.703125 10.84375 15.234375 8.453125 \r\nz\r\n\" id=\"ArialMT-50\"/>\r\n       </defs>\r\n       <use xlink:href=\"#ArialMT-50\"/>\r\n      </g>\r\n     </g>\r\n    </g>\r\n    <g id=\"ytick_4\">\r\n     <g id=\"line2d_4\">\r\n      <path clip-path=\"url(#p57c5ccdf90)\" d=\"M 39.132188 377.13039 \r\nL 931.932187 377.13039 \r\n\" style=\"fill:none;stroke:#ffffff;stroke-linecap:round;stroke-width:0.8;\"/>\r\n     </g>\r\n     <g id=\"text_8\">\r\n      <!-- 3 -->\r\n      <g style=\"fill:#262626;\" transform=\"translate(24.346875 382.140858)scale(0.14 -0.14)\">\r\n       <defs>\r\n        <path d=\"M 4.203125 18.890625 \r\nL 12.984375 20.0625 \r\nQ 14.5 12.59375 18.140625 9.296875 \r\nQ 21.78125 6 27 6 \r\nQ 33.203125 6 37.46875 10.296875 \r\nQ 41.75 14.59375 41.75 20.953125 \r\nQ 41.75 27 37.796875 30.921875 \r\nQ 33.84375 34.859375 27.734375 34.859375 \r\nQ 25.25 34.859375 21.53125 33.890625 \r\nL 22.515625 41.609375 \r\nQ 23.390625 41.5 23.921875 41.5 \r\nQ 29.546875 41.5 34.03125 44.421875 \r\nQ 38.53125 47.359375 38.53125 53.46875 \r\nQ 38.53125 58.296875 35.25 61.46875 \r\nQ 31.984375 64.65625 26.8125 64.65625 \r\nQ 21.6875 64.65625 18.265625 61.421875 \r\nQ 14.84375 58.203125 13.875 51.765625 \r\nL 5.078125 53.328125 \r\nQ 6.6875 62.15625 12.390625 67.015625 \r\nQ 18.109375 71.875 26.609375 71.875 \r\nQ 32.46875 71.875 37.390625 69.359375 \r\nQ 42.328125 66.84375 44.9375 62.5 \r\nQ 47.5625 58.15625 47.5625 53.265625 \r\nQ 47.5625 48.640625 45.0625 44.828125 \r\nQ 42.578125 41.015625 37.703125 38.765625 \r\nQ 44.046875 37.3125 47.5625 32.6875 \r\nQ 51.078125 28.078125 51.078125 21.140625 \r\nQ 51.078125 11.765625 44.234375 5.25 \r\nQ 37.40625 -1.265625 26.953125 -1.265625 \r\nQ 17.53125 -1.265625 11.296875 4.34375 \r\nQ 5.078125 9.96875 4.203125 18.890625 \r\nz\r\n\" id=\"ArialMT-51\"/>\r\n       </defs>\r\n       <use xlink:href=\"#ArialMT-51\"/>\r\n      </g>\r\n     </g>\r\n    </g>\r\n    <g id=\"ytick_5\">\r\n     <g id=\"line2d_5\">\r\n      <path clip-path=\"url(#p57c5ccdf90)\" d=\"M 39.132188 283.000519 \r\nL 931.932187 283.000519 \r\n\" style=\"fill:none;stroke:#ffffff;stroke-linecap:round;stroke-width:0.8;\"/>\r\n     </g>\r\n     <g id=\"text_9\">\r\n      <!-- 4 -->\r\n      <g style=\"fill:#262626;\" transform=\"translate(24.346875 288.010988)scale(0.14 -0.14)\">\r\n       <defs>\r\n        <path d=\"M 32.328125 0 \r\nL 32.328125 17.140625 \r\nL 1.265625 17.140625 \r\nL 1.265625 25.203125 \r\nL 33.9375 71.578125 \r\nL 41.109375 71.578125 \r\nL 41.109375 25.203125 \r\nL 50.78125 25.203125 \r\nL 50.78125 17.140625 \r\nL 41.109375 17.140625 \r\nL 41.109375 0 \r\nz\r\nM 32.328125 25.203125 \r\nL 32.328125 57.46875 \r\nL 9.90625 25.203125 \r\nz\r\n\" id=\"ArialMT-52\"/>\r\n       </defs>\r\n       <use xlink:href=\"#ArialMT-52\"/>\r\n      </g>\r\n     </g>\r\n    </g>\r\n    <g id=\"ytick_6\">\r\n     <g id=\"line2d_6\">\r\n      <path clip-path=\"url(#p57c5ccdf90)\" d=\"M 39.132188 188.870649 \r\nL 931.932187 188.870649 \r\n\" style=\"fill:none;stroke:#ffffff;stroke-linecap:round;stroke-width:0.8;\"/>\r\n     </g>\r\n     <g id=\"text_10\">\r\n      <!-- 5 -->\r\n      <g style=\"fill:#262626;\" transform=\"translate(24.346875 193.881118)scale(0.14 -0.14)\">\r\n       <defs>\r\n        <path d=\"M 4.15625 18.75 \r\nL 13.375 19.53125 \r\nQ 14.40625 12.796875 18.140625 9.390625 \r\nQ 21.875 6 27.15625 6 \r\nQ 33.5 6 37.890625 10.78125 \r\nQ 42.28125 15.578125 42.28125 23.484375 \r\nQ 42.28125 31 38.0625 35.34375 \r\nQ 33.84375 39.703125 27 39.703125 \r\nQ 22.75 39.703125 19.328125 37.765625 \r\nQ 15.921875 35.84375 13.96875 32.765625 \r\nL 5.71875 33.84375 \r\nL 12.640625 70.609375 \r\nL 48.25 70.609375 \r\nL 48.25 62.203125 \r\nL 19.671875 62.203125 \r\nL 15.828125 42.96875 \r\nQ 22.265625 47.46875 29.34375 47.46875 \r\nQ 38.71875 47.46875 45.15625 40.96875 \r\nQ 51.609375 34.46875 51.609375 24.265625 \r\nQ 51.609375 14.546875 45.953125 7.46875 \r\nQ 39.0625 -1.21875 27.15625 -1.21875 \r\nQ 17.390625 -1.21875 11.203125 4.25 \r\nQ 5.03125 9.71875 4.15625 18.75 \r\nz\r\n\" id=\"ArialMT-53\"/>\r\n       </defs>\r\n       <use xlink:href=\"#ArialMT-53\"/>\r\n      </g>\r\n     </g>\r\n    </g>\r\n    <g id=\"ytick_7\">\r\n     <g id=\"line2d_7\">\r\n      <path clip-path=\"url(#p57c5ccdf90)\" d=\"M 39.132188 94.740779 \r\nL 931.932187 94.740779 \r\n\" style=\"fill:none;stroke:#ffffff;stroke-linecap:round;stroke-width:0.8;\"/>\r\n     </g>\r\n     <g id=\"text_11\">\r\n      <!-- 6 -->\r\n      <g style=\"fill:#262626;\" transform=\"translate(24.346875 99.751248)scale(0.14 -0.14)\">\r\n       <defs>\r\n        <path d=\"M 49.75 54.046875 \r\nL 41.015625 53.375 \r\nQ 39.84375 58.546875 37.703125 60.890625 \r\nQ 34.125 64.65625 28.90625 64.65625 \r\nQ 24.703125 64.65625 21.53125 62.3125 \r\nQ 17.390625 59.28125 14.984375 53.46875 \r\nQ 12.59375 47.65625 12.5 36.921875 \r\nQ 15.671875 41.75 20.265625 44.09375 \r\nQ 24.859375 46.4375 29.890625 46.4375 \r\nQ 38.671875 46.4375 44.84375 39.96875 \r\nQ 51.03125 33.5 51.03125 23.25 \r\nQ 51.03125 16.5 48.125 10.71875 \r\nQ 45.21875 4.9375 40.140625 1.859375 \r\nQ 35.0625 -1.21875 28.609375 -1.21875 \r\nQ 17.625 -1.21875 10.6875 6.859375 \r\nQ 3.765625 14.9375 3.765625 33.5 \r\nQ 3.765625 54.25 11.421875 63.671875 \r\nQ 18.109375 71.875 29.4375 71.875 \r\nQ 37.890625 71.875 43.28125 67.140625 \r\nQ 48.6875 62.40625 49.75 54.046875 \r\nz\r\nM 13.875 23.1875 \r\nQ 13.875 18.65625 15.796875 14.5 \r\nQ 17.71875 10.359375 21.1875 8.171875 \r\nQ 24.65625 6 28.46875 6 \r\nQ 34.03125 6 38.03125 10.484375 \r\nQ 42.046875 14.984375 42.046875 22.703125 \r\nQ 42.046875 30.125 38.078125 34.390625 \r\nQ 34.125 38.671875 28.125 38.671875 \r\nQ 22.171875 38.671875 18.015625 34.390625 \r\nQ 13.875 30.125 13.875 23.1875 \r\nz\r\n\" id=\"ArialMT-54\"/>\r\n       </defs>\r\n       <use xlink:href=\"#ArialMT-54\"/>\r\n      </g>\r\n     </g>\r\n    </g>\r\n    <g id=\"text_12\">\r\n     <!-- IdealNumberOfWorkdays -->\r\n     <g style=\"fill:#262626;\" transform=\"translate(17.400313 411.815781)rotate(-90)scale(0.14 -0.14)\">\r\n      <defs>\r\n       <path d=\"M 9.328125 0 \r\nL 9.328125 71.578125 \r\nL 18.796875 71.578125 \r\nL 18.796875 0 \r\nz\r\n\" id=\"ArialMT-73\"/>\r\n       <path d=\"M 40.234375 0 \r\nL 40.234375 6.546875 \r\nQ 35.296875 -1.171875 25.734375 -1.171875 \r\nQ 19.53125 -1.171875 14.328125 2.25 \r\nQ 9.125 5.671875 6.265625 11.796875 \r\nQ 3.421875 17.921875 3.421875 25.875 \r\nQ 3.421875 33.640625 6 39.96875 \r\nQ 8.59375 46.296875 13.765625 49.65625 \r\nQ 18.953125 53.03125 25.34375 53.03125 \r\nQ 30.03125 53.03125 33.6875 51.046875 \r\nQ 37.359375 49.078125 39.65625 45.90625 \r\nL 39.65625 71.578125 \r\nL 48.390625 71.578125 \r\nL 48.390625 0 \r\nz\r\nM 12.453125 25.875 \r\nQ 12.453125 15.921875 16.640625 10.984375 \r\nQ 20.84375 6.0625 26.5625 6.0625 \r\nQ 32.328125 6.0625 36.34375 10.765625 \r\nQ 40.375 15.484375 40.375 25.140625 \r\nQ 40.375 35.796875 36.265625 40.765625 \r\nQ 32.171875 45.75 26.171875 45.75 \r\nQ 20.3125 45.75 16.375 40.96875 \r\nQ 12.453125 36.1875 12.453125 25.875 \r\nz\r\n\" id=\"ArialMT-100\"/>\r\n       <path d=\"M 7.625 0 \r\nL 7.625 71.578125 \r\nL 17.328125 71.578125 \r\nL 54.9375 15.375 \r\nL 54.9375 71.578125 \r\nL 64.015625 71.578125 \r\nL 64.015625 0 \r\nL 54.296875 0 \r\nL 16.703125 56.25 \r\nL 16.703125 0 \r\nz\r\n\" id=\"ArialMT-78\"/>\r\n       <path d=\"M 14.703125 0 \r\nL 6.546875 0 \r\nL 6.546875 71.578125 \r\nL 15.328125 71.578125 \r\nL 15.328125 46.046875 \r\nQ 20.90625 53.03125 29.546875 53.03125 \r\nQ 34.328125 53.03125 38.59375 51.09375 \r\nQ 42.875 49.171875 45.625 45.671875 \r\nQ 48.390625 42.1875 49.953125 37.25 \r\nQ 51.515625 32.328125 51.515625 26.703125 \r\nQ 51.515625 13.375 44.921875 6.09375 \r\nQ 38.328125 -1.171875 29.109375 -1.171875 \r\nQ 19.921875 -1.171875 14.703125 6.5 \r\nz\r\nM 14.59375 26.3125 \r\nQ 14.59375 17 17.140625 12.84375 \r\nQ 21.296875 6.0625 28.375 6.0625 \r\nQ 34.125 6.0625 38.328125 11.0625 \r\nQ 42.53125 16.0625 42.53125 25.984375 \r\nQ 42.53125 36.140625 38.5 40.96875 \r\nQ 34.46875 45.796875 28.765625 45.796875 \r\nQ 23 45.796875 18.796875 40.796875 \r\nQ 14.59375 35.796875 14.59375 26.3125 \r\nz\r\n\" id=\"ArialMT-98\"/>\r\n       <path d=\"M 4.828125 34.859375 \r\nQ 4.828125 52.6875 14.390625 62.765625 \r\nQ 23.96875 72.859375 39.109375 72.859375 \r\nQ 49.03125 72.859375 56.984375 68.109375 \r\nQ 64.9375 63.375 69.109375 54.90625 \r\nQ 73.296875 46.4375 73.296875 35.6875 \r\nQ 73.296875 24.8125 68.890625 16.21875 \r\nQ 64.5 7.625 56.4375 3.203125 \r\nQ 48.390625 -1.21875 39.0625 -1.21875 \r\nQ 28.953125 -1.21875 20.984375 3.65625 \r\nQ 13.03125 8.546875 8.921875 16.984375 \r\nQ 4.828125 25.4375 4.828125 34.859375 \r\nz\r\nM 14.59375 34.71875 \r\nQ 14.59375 21.78125 21.546875 14.328125 \r\nQ 28.515625 6.890625 39.015625 6.890625 \r\nQ 49.703125 6.890625 56.609375 14.40625 \r\nQ 63.53125 21.921875 63.53125 35.75 \r\nQ 63.53125 44.484375 60.578125 51 \r\nQ 57.625 57.515625 51.921875 61.109375 \r\nQ 46.234375 64.703125 39.15625 64.703125 \r\nQ 29.109375 64.703125 21.84375 57.78125 \r\nQ 14.59375 50.875 14.59375 34.71875 \r\nz\r\n\" id=\"ArialMT-79\"/>\r\n       <path d=\"M 8.6875 0 \r\nL 8.6875 45.015625 \r\nL 0.921875 45.015625 \r\nL 0.921875 51.859375 \r\nL 8.6875 51.859375 \r\nL 8.6875 57.375 \r\nQ 8.6875 62.59375 9.625 65.140625 \r\nQ 10.890625 68.5625 14.078125 70.671875 \r\nQ 17.28125 72.796875 23.046875 72.796875 \r\nQ 26.765625 72.796875 31.25 71.921875 \r\nL 29.9375 64.265625 \r\nQ 27.203125 64.75 24.75 64.75 \r\nQ 20.75 64.75 19.09375 63.03125 \r\nQ 17.4375 61.328125 17.4375 56.640625 \r\nL 17.4375 51.859375 \r\nL 27.546875 51.859375 \r\nL 27.546875 45.015625 \r\nL 17.4375 45.015625 \r\nL 17.4375 0 \r\nz\r\n\" id=\"ArialMT-102\"/>\r\n       <path d=\"M 20.21875 0 \r\nL 1.21875 71.578125 \r\nL 10.9375 71.578125 \r\nL 21.828125 24.65625 \r\nQ 23.578125 17.28125 24.859375 10.015625 \r\nQ 27.59375 21.484375 28.078125 23.25 \r\nL 41.703125 71.578125 \r\nL 53.125 71.578125 \r\nL 63.375 35.359375 \r\nQ 67.234375 21.875 68.953125 10.015625 \r\nQ 70.3125 16.796875 72.515625 25.59375 \r\nL 83.734375 71.578125 \r\nL 93.265625 71.578125 \r\nL 73.640625 0 \r\nL 64.5 0 \r\nL 49.421875 54.546875 \r\nQ 47.515625 61.375 47.171875 62.9375 \r\nQ 46.046875 58.015625 45.0625 54.546875 \r\nL 29.890625 0 \r\nz\r\n\" id=\"ArialMT-87\"/>\r\n       <path d=\"M 6.640625 0 \r\nL 6.640625 71.578125 \r\nL 15.4375 71.578125 \r\nL 15.4375 30.765625 \r\nL 36.234375 51.859375 \r\nL 47.609375 51.859375 \r\nL 27.78125 32.625 \r\nL 49.609375 0 \r\nL 38.765625 0 \r\nL 21.625 26.515625 \r\nL 15.4375 20.5625 \r\nL 15.4375 0 \r\nz\r\n\" id=\"ArialMT-107\"/>\r\n      </defs>\r\n      <use xlink:href=\"#ArialMT-73\"/>\r\n      <use x=\"27.783203\" xlink:href=\"#ArialMT-100\"/>\r\n      <use x=\"83.398438\" xlink:href=\"#ArialMT-101\"/>\r\n      <use x=\"139.013672\" xlink:href=\"#ArialMT-97\"/>\r\n      <use x=\"194.628906\" xlink:href=\"#ArialMT-108\"/>\r\n      <use x=\"216.845703\" xlink:href=\"#ArialMT-78\"/>\r\n      <use x=\"289.0625\" xlink:href=\"#ArialMT-117\"/>\r\n      <use x=\"344.677734\" xlink:href=\"#ArialMT-109\"/>\r\n      <use x=\"427.978516\" xlink:href=\"#ArialMT-98\"/>\r\n      <use x=\"483.59375\" xlink:href=\"#ArialMT-101\"/>\r\n      <use x=\"539.208984\" xlink:href=\"#ArialMT-114\"/>\r\n      <use x=\"572.509766\" xlink:href=\"#ArialMT-79\"/>\r\n      <use x=\"650.292969\" xlink:href=\"#ArialMT-102\"/>\r\n      <use x=\"678.076172\" xlink:href=\"#ArialMT-87\"/>\r\n      <use x=\"770.710938\" xlink:href=\"#ArialMT-111\"/>\r\n      <use x=\"826.326172\" xlink:href=\"#ArialMT-114\"/>\r\n      <use x=\"859.626953\" xlink:href=\"#ArialMT-107\"/>\r\n      <use x=\"909.626953\" xlink:href=\"#ArialMT-100\"/>\r\n      <use x=\"965.242188\" xlink:href=\"#ArialMT-97\"/>\r\n      <use x=\"1020.857422\" xlink:href=\"#ArialMT-121\"/>\r\n      <use x=\"1070.857422\" xlink:href=\"#ArialMT-115\"/>\r\n     </g>\r\n    </g>\r\n   </g>\r\n   <g id=\"patch_3\">\r\n    <path clip-path=\"url(#p57c5ccdf90)\" d=\"M 68.892188 659.52 \r\nL 128.412188 659.52 \r\nL 128.412188 283.000519 \r\nL 68.892188 283.000519 \r\nz\r\n\" style=\"fill:#3274a1;stroke:#ffffff;stroke-linejoin:miter;\"/>\r\n   </g>\r\n   <g id=\"patch_4\">\r\n    <path clip-path=\"url(#p57c5ccdf90)\" d=\"M 366.492188 659.52 \r\nL 426.012187 659.52 \r\nL 426.012187 188.870649 \r\nL 366.492188 188.870649 \r\nz\r\n\" style=\"fill:#3274a1;stroke:#ffffff;stroke-linejoin:miter;\"/>\r\n   </g>\r\n   <g id=\"patch_5\">\r\n    <path clip-path=\"url(#p57c5ccdf90)\" d=\"M 664.092187 659.52 \r\nL 723.612187 659.52 \r\nL 723.612187 94.740779 \r\nL 664.092187 94.740779 \r\nz\r\n\" style=\"fill:#3274a1;stroke:#ffffff;stroke-linejoin:miter;\"/>\r\n   </g>\r\n   <g id=\"patch_6\">\r\n    <path clip-path=\"url(#p57c5ccdf90)\" d=\"M 128.412188 659.52 \r\nL 187.932187 659.52 \r\nL 187.932187 212.403117 \r\nL 128.412188 212.403117 \r\nz\r\n\" style=\"fill:#e1812c;stroke:#ffffff;stroke-linejoin:miter;\"/>\r\n   </g>\r\n   <g id=\"patch_7\">\r\n    <path clip-path=\"url(#p57c5ccdf90)\" d=\"M 426.012187 659.52 \r\nL 485.532187 659.52 \r\nL 485.532187 226.522597 \r\nL 426.012187 226.522597 \r\nz\r\n\" style=\"fill:#e1812c;stroke:#ffffff;stroke-linejoin:miter;\"/>\r\n   </g>\r\n   <g id=\"patch_8\">\r\n    <path clip-path=\"url(#p57c5ccdf90)\" d=\"M 723.612187 659.52 \r\nL 783.132187 659.52 \r\nL 783.132187 94.740779 \r\nL 723.612187 94.740779 \r\nz\r\n\" style=\"fill:#e1812c;stroke:#ffffff;stroke-linejoin:miter;\"/>\r\n   </g>\r\n   <g id=\"patch_9\">\r\n    <path clip-path=\"url(#p57c5ccdf90)\" d=\"M 187.932187 659.52 \r\nL 247.452187 659.52 \r\nL 247.452187 267.312208 \r\nL 187.932187 267.312208 \r\nz\r\n\" style=\"fill:#3a923a;stroke:#ffffff;stroke-linejoin:miter;\"/>\r\n   </g>\r\n   <g id=\"patch_10\">\r\n    <path clip-path=\"url(#p57c5ccdf90)\" d=\"M 485.532187 659.52 \r\nL 545.052187 659.52 \r\nL 545.052187 223.93864 \r\nL 485.532187 223.93864 \r\nz\r\n\" style=\"fill:#3a923a;stroke:#ffffff;stroke-linejoin:miter;\"/>\r\n   </g>\r\n   <g id=\"patch_11\">\r\n    <path clip-path=\"url(#p57c5ccdf90)\" d=\"M 783.132187 659.52 \r\nL 842.652187 659.52 \r\nL 842.652187 119.842078 \r\nL 783.132187 119.842078 \r\nz\r\n\" style=\"fill:#3a923a;stroke:#ffffff;stroke-linejoin:miter;\"/>\r\n   </g>\r\n   <g id=\"patch_12\">\r\n    <path clip-path=\"url(#p57c5ccdf90)\" d=\"M 247.452188 659.52 \r\nL 306.972188 659.52 \r\nL 306.972188 188.870649 \r\nL 247.452188 188.870649 \r\nz\r\n\" style=\"fill:#c03d3e;stroke:#ffffff;stroke-linejoin:miter;\"/>\r\n   </g>\r\n   <g id=\"patch_13\">\r\n    <path clip-path=\"url(#p57c5ccdf90)\" d=\"M 545.052187 659.52 \r\nL 604.572187 659.52 \r\nL 604.572187 188.870649 \r\nL 545.052187 188.870649 \r\nz\r\n\" style=\"fill:#c03d3e;stroke:#ffffff;stroke-linejoin:miter;\"/>\r\n   </g>\r\n   <g id=\"patch_14\">\r\n    <path clip-path=\"url(#p57c5ccdf90)\" d=\"M 842.652187 659.52 \r\nL 902.172187 659.52 \r\nL 902.172187 54.399406 \r\nL 842.652187 54.399406 \r\nz\r\n\" style=\"fill:#c03d3e;stroke:#ffffff;stroke-linejoin:miter;\"/>\r\n   </g>\r\n   <g id=\"line2d_8\">\r\n    <path clip-path=\"url(#p57c5ccdf90)\" d=\"M 98.652187 283.000519 \r\nL 98.652187 283.000519 \r\n\" style=\"fill:none;stroke:#424242;stroke-linecap:round;stroke-width:2.7;\"/>\r\n   </g>\r\n   <g id=\"line2d_9\">\r\n    <path clip-path=\"url(#p57c5ccdf90)\" d=\"M 396.252187 188.870649 \r\nL 396.252187 188.870649 \r\n\" style=\"fill:none;stroke:#424242;stroke-linecap:round;stroke-width:2.7;\"/>\r\n   </g>\r\n   <g id=\"line2d_10\">\r\n    <path clip-path=\"url(#p57c5ccdf90)\" d=\"M 693.852187 94.740779 \r\nL 693.852187 94.740779 \r\n\" style=\"fill:none;stroke:#424242;stroke-linecap:round;stroke-width:2.7;\"/>\r\n   </g>\r\n   <g id=\"line2d_11\">\r\n    <path clip-path=\"url(#p57c5ccdf90)\" d=\"M 158.172188 227.110909 \r\nL 158.172188 200.636883 \r\n\" style=\"fill:none;stroke:#424242;stroke-linecap:round;stroke-width:2.7;\"/>\r\n   </g>\r\n   <g id=\"line2d_12\">\r\n    <path clip-path=\"url(#p57c5ccdf90)\" d=\"M 455.772187 245.348571 \r\nL 455.772187 210.834286 \r\n\" style=\"fill:none;stroke:#424242;stroke-linecap:round;stroke-width:2.7;\"/>\r\n   </g>\r\n   <g id=\"line2d_13\">\r\n    <path clip-path=\"url(#p57c5ccdf90)\" d=\"M 753.372187 94.740779 \r\nL 753.372187 94.740779 \r\n\" style=\"fill:none;stroke:#424242;stroke-linecap:round;stroke-width:2.7;\"/>\r\n   </g>\r\n   <g id=\"line2d_14\">\r\n    <path clip-path=\"url(#p57c5ccdf90)\" d=\"M 217.692187 279.862857 \r\nL 217.692187 254.761558 \r\n\" style=\"fill:none;stroke:#424242;stroke-linecap:round;stroke-width:2.7;\"/>\r\n   </g>\r\n   <g id=\"line2d_15\">\r\n    <path clip-path=\"url(#p57c5ccdf90)\" d=\"M 515.292187 236.858426 \r\nL 515.292187 211.018854 \r\n\" style=\"fill:none;stroke:#424242;stroke-linecap:round;stroke-width:2.7;\"/>\r\n   </g>\r\n   <g id=\"line2d_16\">\r\n    <path clip-path=\"url(#p57c5ccdf90)\" d=\"M 812.892187 135.53039 \r\nL 812.892187 107.291429 \r\n\" style=\"fill:none;stroke:#424242;stroke-linecap:round;stroke-width:2.7;\"/>\r\n   </g>\r\n   <g id=\"line2d_17\">\r\n    <path clip-path=\"url(#p57c5ccdf90)\" d=\"M 277.212188 188.870649 \r\nL 277.212188 188.870649 \r\n\" style=\"fill:none;stroke:#424242;stroke-linecap:round;stroke-width:2.7;\"/>\r\n   </g>\r\n   <g id=\"line2d_18\">\r\n    <path clip-path=\"url(#p57c5ccdf90)\" d=\"M 574.812187 188.870649 \r\nL 574.812187 188.870649 \r\n\" style=\"fill:none;stroke:#424242;stroke-linecap:round;stroke-width:2.7;\"/>\r\n   </g>\r\n   <g id=\"line2d_19\">\r\n    <path clip-path=\"url(#p57c5ccdf90)\" d=\"M 872.412187 67.913766 \r\nL 872.412187 38.262857 \r\n\" style=\"fill:none;stroke:#424242;stroke-linecap:round;stroke-width:2.7;\"/>\r\n   </g>\r\n   <g id=\"patch_15\">\r\n    <path d=\"M 39.132188 659.52 \r\nL 39.132188 7.2 \r\n\" style=\"fill:none;stroke:#ffffff;stroke-linecap:square;stroke-linejoin:miter;stroke-width:0.8;\"/>\r\n   </g>\r\n   <g id=\"patch_16\">\r\n    <path d=\"M 931.932187 659.52 \r\nL 931.932187 7.2 \r\n\" style=\"fill:none;stroke:#ffffff;stroke-linecap:square;stroke-linejoin:miter;stroke-width:0.8;\"/>\r\n   </g>\r\n   <g id=\"patch_17\">\r\n    <path d=\"M 39.132188 659.52 \r\nL 931.932187 659.52 \r\n\" style=\"fill:none;stroke:#ffffff;stroke-linecap:square;stroke-linejoin:miter;stroke-width:0.8;\"/>\r\n   </g>\r\n   <g id=\"patch_18\">\r\n    <path d=\"M 39.132188 7.2 \r\nL 931.932187 7.2 \r\n\" style=\"fill:none;stroke:#ffffff;stroke-linecap:square;stroke-linejoin:miter;stroke-width:0.8;\"/>\r\n   </g>\r\n   <g id=\"legend_1\">\r\n    <g id=\"patch_19\">\r\n     <path d=\"M 48.932188 117.58125 \r\nL 205.54625 117.58125 \r\nQ 208.34625 117.58125 208.34625 114.78125 \r\nL 208.34625 17 \r\nQ 208.34625 14.2 205.54625 14.2 \r\nL 48.932188 14.2 \r\nQ 46.132188 14.2 46.132188 17 \r\nL 46.132188 114.78125 \r\nQ 46.132188 117.58125 48.932188 117.58125 \r\nz\r\n\" style=\"fill:#eaeaf2;opacity:0.8;stroke:#cccccc;stroke-linejoin:miter;\"/>\r\n    </g>\r\n    <g id=\"text_13\">\r\n     <!-- IdealYearlyIncome -->\r\n     <g style=\"fill:#262626;\" transform=\"translate(69.905938 29.820938)scale(0.14 -0.14)\">\r\n      <defs>\r\n       <path d=\"M 27.875 0 \r\nL 27.875 30.328125 \r\nL 0.296875 71.578125 \r\nL 11.8125 71.578125 \r\nL 25.921875 50 \r\nQ 29.828125 43.953125 33.203125 37.890625 \r\nQ 36.421875 43.5 41.015625 50.53125 \r\nL 54.890625 71.578125 \r\nL 65.921875 71.578125 \r\nL 37.359375 30.328125 \r\nL 37.359375 0 \r\nz\r\n\" id=\"ArialMT-89\"/>\r\n      </defs>\r\n      <use xlink:href=\"#ArialMT-73\"/>\r\n      <use x=\"27.783203\" xlink:href=\"#ArialMT-100\"/>\r\n      <use x=\"83.398438\" xlink:href=\"#ArialMT-101\"/>\r\n      <use x=\"139.013672\" xlink:href=\"#ArialMT-97\"/>\r\n      <use x=\"194.628906\" xlink:href=\"#ArialMT-108\"/>\r\n      <use x=\"216.845703\" xlink:href=\"#ArialMT-89\"/>\r\n      <use x=\"274.419922\" xlink:href=\"#ArialMT-101\"/>\r\n      <use x=\"330.035156\" xlink:href=\"#ArialMT-97\"/>\r\n      <use x=\"385.650391\" xlink:href=\"#ArialMT-114\"/>\r\n      <use x=\"418.951172\" xlink:href=\"#ArialMT-108\"/>\r\n      <use x=\"441.167969\" xlink:href=\"#ArialMT-121\"/>\r\n      <use x=\"491.167969\" xlink:href=\"#ArialMT-73\"/>\r\n      <use x=\"518.951172\" xlink:href=\"#ArialMT-110\"/>\r\n      <use x=\"574.566406\" xlink:href=\"#ArialMT-99\"/>\r\n      <use x=\"624.566406\" xlink:href=\"#ArialMT-111\"/>\r\n      <use x=\"680.181641\" xlink:href=\"#ArialMT-109\"/>\r\n      <use x=\"763.482422\" xlink:href=\"#ArialMT-101\"/>\r\n     </g>\r\n    </g>\r\n    <g id=\"patch_20\">\r\n     <path d=\"M 51.732188 49.788437 \r\nL 79.732188 49.788437 \r\nL 79.732188 39.988437 \r\nL 51.732188 39.988437 \r\nz\r\n\" style=\"fill:#3274a1;stroke:#ffffff;stroke-linejoin:miter;\"/>\r\n    </g>\r\n    <g id=\"text_14\">\r\n     <!-- More Than 1500K -->\r\n     <g style=\"fill:#262626;\" transform=\"translate(90.932188 49.788437)scale(0.14 -0.14)\">\r\n      <defs>\r\n       <path d=\"M 7.421875 0 \r\nL 7.421875 71.578125 \r\nL 21.6875 71.578125 \r\nL 38.625 20.90625 \r\nQ 40.96875 13.8125 42.046875 10.296875 \r\nQ 43.265625 14.203125 45.84375 21.78125 \r\nL 62.984375 71.578125 \r\nL 75.734375 71.578125 \r\nL 75.734375 0 \r\nL 66.609375 0 \r\nL 66.609375 59.90625 \r\nL 45.796875 0 \r\nL 37.25 0 \r\nL 16.546875 60.9375 \r\nL 16.546875 0 \r\nz\r\n\" id=\"ArialMT-77\"/>\r\n       <path d=\"M 25.921875 0 \r\nL 25.921875 63.140625 \r\nL 2.34375 63.140625 \r\nL 2.34375 71.578125 \r\nL 59.078125 71.578125 \r\nL 59.078125 63.140625 \r\nL 35.40625 63.140625 \r\nL 35.40625 0 \r\nz\r\n\" id=\"ArialMT-84\"/>\r\n       <path d=\"M 7.328125 0 \r\nL 7.328125 71.578125 \r\nL 16.796875 71.578125 \r\nL 16.796875 36.078125 \r\nL 52.34375 71.578125 \r\nL 65.1875 71.578125 \r\nL 35.15625 42.578125 \r\nL 66.5 0 \r\nL 54 0 \r\nL 28.515625 36.234375 \r\nL 16.796875 24.8125 \r\nL 16.796875 0 \r\nz\r\n\" id=\"ArialMT-75\"/>\r\n      </defs>\r\n      <use xlink:href=\"#ArialMT-77\"/>\r\n      <use x=\"83.300781\" xlink:href=\"#ArialMT-111\"/>\r\n      <use x=\"138.916016\" xlink:href=\"#ArialMT-114\"/>\r\n      <use x=\"172.216797\" xlink:href=\"#ArialMT-101\"/>\r\n      <use x=\"227.832031\" xlink:href=\"#ArialMT-32\"/>\r\n      <use x=\"253.865234\" xlink:href=\"#ArialMT-84\"/>\r\n      <use x=\"314.949219\" xlink:href=\"#ArialMT-104\"/>\r\n      <use x=\"370.564453\" xlink:href=\"#ArialMT-97\"/>\r\n      <use x=\"426.179688\" xlink:href=\"#ArialMT-110\"/>\r\n      <use x=\"481.794922\" xlink:href=\"#ArialMT-32\"/>\r\n      <use x=\"509.578125\" xlink:href=\"#ArialMT-49\"/>\r\n      <use x=\"565.193359\" xlink:href=\"#ArialMT-53\"/>\r\n      <use x=\"620.808594\" xlink:href=\"#ArialMT-48\"/>\r\n      <use x=\"676.423828\" xlink:href=\"#ArialMT-48\"/>\r\n      <use x=\"732.039062\" xlink:href=\"#ArialMT-75\"/>\r\n     </g>\r\n    </g>\r\n    <g id=\"patch_21\">\r\n     <path d=\"M 51.732188 69.591875 \r\nL 79.732188 69.591875 \r\nL 79.732188 59.791875 \r\nL 51.732188 59.791875 \r\nz\r\n\" style=\"fill:#e1812c;stroke:#ffffff;stroke-linejoin:miter;\"/>\r\n    </g>\r\n    <g id=\"text_15\">\r\n     <!-- 600K-900K -->\r\n     <g style=\"fill:#262626;\" transform=\"translate(90.932188 69.591875)scale(0.14 -0.14)\">\r\n      <defs>\r\n       <path d=\"M 3.171875 21.484375 \r\nL 3.171875 30.328125 \r\nL 30.171875 30.328125 \r\nL 30.171875 21.484375 \r\nz\r\n\" id=\"ArialMT-45\"/>\r\n       <path d=\"M 5.46875 16.546875 \r\nL 13.921875 17.328125 \r\nQ 14.984375 11.375 18.015625 8.6875 \r\nQ 21.046875 6 25.78125 6 \r\nQ 29.828125 6 32.875 7.859375 \r\nQ 35.9375 9.71875 37.890625 12.8125 \r\nQ 39.84375 15.921875 41.15625 21.1875 \r\nQ 42.484375 26.46875 42.484375 31.9375 \r\nQ 42.484375 32.515625 42.4375 33.6875 \r\nQ 39.796875 29.5 35.234375 26.875 \r\nQ 30.671875 24.265625 25.34375 24.265625 \r\nQ 16.453125 24.265625 10.296875 30.703125 \r\nQ 4.15625 37.15625 4.15625 47.703125 \r\nQ 4.15625 58.59375 10.578125 65.234375 \r\nQ 17 71.875 26.65625 71.875 \r\nQ 33.640625 71.875 39.421875 68.109375 \r\nQ 45.21875 64.359375 48.21875 57.390625 \r\nQ 51.21875 50.4375 51.21875 37.25 \r\nQ 51.21875 23.53125 48.234375 15.40625 \r\nQ 45.265625 7.28125 39.375 3.03125 \r\nQ 33.5 -1.21875 25.59375 -1.21875 \r\nQ 17.1875 -1.21875 11.859375 3.4375 \r\nQ 6.546875 8.109375 5.46875 16.546875 \r\nz\r\nM 41.453125 48.140625 \r\nQ 41.453125 55.71875 37.421875 60.15625 \r\nQ 33.40625 64.59375 27.734375 64.59375 \r\nQ 21.875 64.59375 17.53125 59.8125 \r\nQ 13.1875 55.03125 13.1875 47.40625 \r\nQ 13.1875 40.578125 17.3125 36.296875 \r\nQ 21.4375 32.03125 27.484375 32.03125 \r\nQ 33.59375 32.03125 37.515625 36.296875 \r\nQ 41.453125 40.578125 41.453125 48.140625 \r\nz\r\n\" id=\"ArialMT-57\"/>\r\n      </defs>\r\n      <use xlink:href=\"#ArialMT-54\"/>\r\n      <use x=\"55.615234\" xlink:href=\"#ArialMT-48\"/>\r\n      <use x=\"111.230469\" xlink:href=\"#ArialMT-48\"/>\r\n      <use x=\"166.845703\" xlink:href=\"#ArialMT-75\"/>\r\n      <use x=\"233.544922\" xlink:href=\"#ArialMT-45\"/>\r\n      <use x=\"266.845703\" xlink:href=\"#ArialMT-57\"/>\r\n      <use x=\"322.460938\" xlink:href=\"#ArialMT-48\"/>\r\n      <use x=\"378.076172\" xlink:href=\"#ArialMT-48\"/>\r\n      <use x=\"433.691406\" xlink:href=\"#ArialMT-75\"/>\r\n     </g>\r\n    </g>\r\n    <g id=\"patch_22\">\r\n     <path d=\"M 51.732188 89.395312 \r\nL 79.732188 89.395312 \r\nL 79.732188 79.595312 \r\nL 51.732188 79.595312 \r\nz\r\n\" style=\"fill:#3a923a;stroke:#ffffff;stroke-linejoin:miter;\"/>\r\n    </g>\r\n    <g id=\"text_16\">\r\n     <!-- 900K-1200K -->\r\n     <g style=\"fill:#262626;\" transform=\"translate(90.932188 89.395312)scale(0.14 -0.14)\">\r\n      <use xlink:href=\"#ArialMT-57\"/>\r\n      <use x=\"55.615234\" xlink:href=\"#ArialMT-48\"/>\r\n      <use x=\"111.230469\" xlink:href=\"#ArialMT-48\"/>\r\n      <use x=\"166.845703\" xlink:href=\"#ArialMT-75\"/>\r\n      <use x=\"233.544922\" xlink:href=\"#ArialMT-45\"/>\r\n      <use x=\"266.845703\" xlink:href=\"#ArialMT-49\"/>\r\n      <use x=\"322.460938\" xlink:href=\"#ArialMT-50\"/>\r\n      <use x=\"378.076172\" xlink:href=\"#ArialMT-48\"/>\r\n      <use x=\"433.691406\" xlink:href=\"#ArialMT-48\"/>\r\n      <use x=\"489.306641\" xlink:href=\"#ArialMT-75\"/>\r\n     </g>\r\n    </g>\r\n    <g id=\"patch_23\">\r\n     <path d=\"M 51.732188 109.19875 \r\nL 79.732188 109.19875 \r\nL 79.732188 99.39875 \r\nL 51.732188 99.39875 \r\nz\r\n\" style=\"fill:#c03d3e;stroke:#ffffff;stroke-linejoin:miter;\"/>\r\n    </g>\r\n    <g id=\"text_17\">\r\n     <!-- 1200K-1500K -->\r\n     <g style=\"fill:#262626;\" transform=\"translate(90.932188 109.19875)scale(0.14 -0.14)\">\r\n      <use xlink:href=\"#ArialMT-49\"/>\r\n      <use x=\"55.615234\" xlink:href=\"#ArialMT-50\"/>\r\n      <use x=\"111.230469\" xlink:href=\"#ArialMT-48\"/>\r\n      <use x=\"166.845703\" xlink:href=\"#ArialMT-48\"/>\r\n      <use x=\"222.460938\" xlink:href=\"#ArialMT-75\"/>\r\n      <use x=\"289.160156\" xlink:href=\"#ArialMT-45\"/>\r\n      <use x=\"322.460938\" xlink:href=\"#ArialMT-49\"/>\r\n      <use x=\"378.076172\" xlink:href=\"#ArialMT-53\"/>\r\n      <use x=\"433.691406\" xlink:href=\"#ArialMT-48\"/>\r\n      <use x=\"489.306641\" xlink:href=\"#ArialMT-48\"/>\r\n      <use x=\"544.921875\" xlink:href=\"#ArialMT-75\"/>\r\n     </g>\r\n    </g>\r\n   </g>\r\n  </g>\r\n </g>\r\n <defs>\r\n  <clipPath id=\"p57c5ccdf90\">\r\n   <rect height=\"652.32\" width=\"892.8\" x=\"39.132188\" y=\"7.2\"/>\r\n  </clipPath>\r\n </defs>\r\n</svg>\r\n",
      "image/png": "[encoded data removed]"
     },
     "metadata": {
      "needs_background": "light"
     }
    }
   ],
   "source": [
    "sns.barplot(x='Employment Sector',y='IdealNumberOfWorkdays',data=raw_df,hue='IdealYearlyIncome')"
   ]
  },
  {
   "source": [
    "* People who are engaged in Entrepreneurship works more number of days as compared to those of Private and Government Sector"
   ],
   "cell_type": "markdown",
   "metadata": {}
  },
  {
   "cell_type": "code",
   "execution_count": 122,
   "metadata": {},
   "outputs": [
    {
     "output_type": "execute_result",
     "data": {
      "text/plain": [
       "<AxesSubplot:xlabel='IdealYearlyIncome', ylabel='IdealNumberOfWorkdays'>"
      ]
     },
     "metadata": {},
     "execution_count": 122
    },
    {
     "output_type": "display_data",
     "data": {
      "text/plain": "<Figure size 1152x864 with 1 Axes>",
      "image/svg+xml": "<?xml version=\"1.0\" encoding=\"utf-8\" standalone=\"no\"?>\r\n<!DOCTYPE svg PUBLIC \"-//W3C//DTD SVG 1.1//EN\"\r\n  \"http://www.w3.org/Graphics/SVG/1.1/DTD/svg11.dtd\">\r\n<!-- Created with matplotlib (https://matplotlib.org/) -->\r\n<svg height=\"703.490938pt\" version=\"1.1\" viewBox=\"0 0 939.132187 703.490938\" width=\"939.132187pt\" xmlns=\"http://www.w3.org/2000/svg\" xmlns:xlink=\"http://www.w3.org/1999/xlink\">\r\n <metadata>\r\n  <rdf:RDF xmlns:cc=\"http://creativecommons.org/ns#\" xmlns:dc=\"http://purl.org/dc/elements/1.1/\" xmlns:rdf=\"http://www.w3.org/1999/02/22-rdf-syntax-ns#\">\r\n   <cc:Work>\r\n    <dc:type rdf:resource=\"http://purl.org/dc/dcmitype/StillImage\"/>\r\n    <dc:date>2021-06-30T13:37:50.435026</dc:date>\r\n    <dc:format>image/svg+xml</dc:format>\r\n    <dc:creator>\r\n     <cc:Agent>\r\n      <dc:title>Matplotlib v3.3.2, https://matplotlib.org/</dc:title>\r\n     </cc:Agent>\r\n    </dc:creator>\r\n   </cc:Work>\r\n  </rdf:RDF>\r\n </metadata>\r\n <defs>\r\n  <style type=\"text/css\">*{stroke-linecap:butt;stroke-linejoin:round;}</style>\r\n </defs>\r\n <g id=\"figure_1\">\r\n  <g id=\"patch_1\">\r\n   <path d=\"M 0 703.490938 \r\nL 939.132187 703.490938 \r\nL 939.132187 0 \r\nL 0 0 \r\nz\r\n\" style=\"fill:none;\"/>\r\n  </g>\r\n  <g id=\"axes_1\">\r\n   <g id=\"patch_2\">\r\n    <path d=\"M 39.132188 659.52 \r\nL 931.932187 659.52 \r\nL 931.932187 7.2 \r\nL 39.132188 7.2 \r\nz\r\n\" style=\"fill:#eaeaf2;\"/>\r\n   </g>\r\n   <g id=\"matplotlib.axis_1\">\r\n    <g id=\"xtick_1\">\r\n     <g id=\"text_1\">\r\n      <!-- More Than 1500K -->\r\n      <g style=\"fill:#262626;\" transform=\"translate(94.825156 676.540938)scale(0.14 -0.14)\">\r\n       <defs>\r\n        <path d=\"M 7.421875 0 \r\nL 7.421875 71.578125 \r\nL 21.6875 71.578125 \r\nL 38.625 20.90625 \r\nQ 40.96875 13.8125 42.046875 10.296875 \r\nQ 43.265625 14.203125 45.84375 21.78125 \r\nL 62.984375 71.578125 \r\nL 75.734375 71.578125 \r\nL 75.734375 0 \r\nL 66.609375 0 \r\nL 66.609375 59.90625 \r\nL 45.796875 0 \r\nL 37.25 0 \r\nL 16.546875 60.9375 \r\nL 16.546875 0 \r\nz\r\n\" id=\"ArialMT-77\"/>\r\n        <path d=\"M 3.328125 25.921875 \r\nQ 3.328125 40.328125 11.328125 47.265625 \r\nQ 18.015625 53.03125 27.640625 53.03125 \r\nQ 38.328125 53.03125 45.109375 46.015625 \r\nQ 51.90625 39.015625 51.90625 26.65625 \r\nQ 51.90625 16.65625 48.90625 10.90625 \r\nQ 45.90625 5.171875 40.15625 2 \r\nQ 34.421875 -1.171875 27.640625 -1.171875 \r\nQ 16.75 -1.171875 10.03125 5.8125 \r\nQ 3.328125 12.796875 3.328125 25.921875 \r\nz\r\nM 12.359375 25.921875 \r\nQ 12.359375 15.96875 16.703125 11.015625 \r\nQ 21.046875 6.0625 27.640625 6.0625 \r\nQ 34.1875 6.0625 38.53125 11.03125 \r\nQ 42.875 16.015625 42.875 26.21875 \r\nQ 42.875 35.84375 38.5 40.796875 \r\nQ 34.125 45.75 27.640625 45.75 \r\nQ 21.046875 45.75 16.703125 40.8125 \r\nQ 12.359375 35.890625 12.359375 25.921875 \r\nz\r\n\" id=\"ArialMT-111\"/>\r\n        <path d=\"M 6.5 0 \r\nL 6.5 51.859375 \r\nL 14.40625 51.859375 \r\nL 14.40625 44 \r\nQ 17.4375 49.515625 20 51.265625 \r\nQ 22.5625 53.03125 25.640625 53.03125 \r\nQ 30.078125 53.03125 34.671875 50.203125 \r\nL 31.640625 42.046875 \r\nQ 28.421875 43.953125 25.203125 43.953125 \r\nQ 22.3125 43.953125 20.015625 42.21875 \r\nQ 17.71875 40.484375 16.75 37.40625 \r\nQ 15.28125 32.71875 15.28125 27.15625 \r\nL 15.28125 0 \r\nz\r\n\" id=\"ArialMT-114\"/>\r\n        <path d=\"M 42.09375 16.703125 \r\nL 51.171875 15.578125 \r\nQ 49.03125 7.625 43.21875 3.21875 \r\nQ 37.40625 -1.171875 28.375 -1.171875 \r\nQ 17 -1.171875 10.328125 5.828125 \r\nQ 3.65625 12.84375 3.65625 25.484375 \r\nQ 3.65625 38.578125 10.390625 45.796875 \r\nQ 17.140625 53.03125 27.875 53.03125 \r\nQ 38.28125 53.03125 44.875 45.953125 \r\nQ 51.46875 38.875 51.46875 26.03125 \r\nQ 51.46875 25.25 51.421875 23.6875 \r\nL 12.75 23.6875 \r\nQ 13.234375 15.140625 17.578125 10.59375 \r\nQ 21.921875 6.0625 28.421875 6.0625 \r\nQ 33.25 6.0625 36.671875 8.59375 \r\nQ 40.09375 11.140625 42.09375 16.703125 \r\nz\r\nM 13.234375 30.90625 \r\nL 42.1875 30.90625 \r\nQ 41.609375 37.453125 38.875 40.71875 \r\nQ 34.671875 45.796875 27.984375 45.796875 \r\nQ 21.921875 45.796875 17.796875 41.75 \r\nQ 13.671875 37.703125 13.234375 30.90625 \r\nz\r\n\" id=\"ArialMT-101\"/>\r\n        <path id=\"ArialMT-32\"/>\r\n        <path d=\"M 25.921875 0 \r\nL 25.921875 63.140625 \r\nL 2.34375 63.140625 \r\nL 2.34375 71.578125 \r\nL 59.078125 71.578125 \r\nL 59.078125 63.140625 \r\nL 35.40625 63.140625 \r\nL 35.40625 0 \r\nz\r\n\" id=\"ArialMT-84\"/>\r\n        <path d=\"M 6.59375 0 \r\nL 6.59375 71.578125 \r\nL 15.375 71.578125 \r\nL 15.375 45.90625 \r\nQ 21.53125 53.03125 30.90625 53.03125 \r\nQ 36.671875 53.03125 40.921875 50.75 \r\nQ 45.171875 48.484375 47 44.484375 \r\nQ 48.828125 40.484375 48.828125 32.859375 \r\nL 48.828125 0 \r\nL 40.046875 0 \r\nL 40.046875 32.859375 \r\nQ 40.046875 39.453125 37.1875 42.453125 \r\nQ 34.328125 45.453125 29.109375 45.453125 \r\nQ 25.203125 45.453125 21.75 43.421875 \r\nQ 18.3125 41.40625 16.84375 37.9375 \r\nQ 15.375 34.46875 15.375 28.375 \r\nL 15.375 0 \r\nz\r\n\" id=\"ArialMT-104\"/>\r\n        <path d=\"M 40.4375 6.390625 \r\nQ 35.546875 2.25 31.03125 0.53125 \r\nQ 26.515625 -1.171875 21.34375 -1.171875 \r\nQ 12.796875 -1.171875 8.203125 3 \r\nQ 3.609375 7.171875 3.609375 13.671875 \r\nQ 3.609375 17.484375 5.34375 20.625 \r\nQ 7.078125 23.78125 9.890625 25.6875 \r\nQ 12.703125 27.59375 16.21875 28.5625 \r\nQ 18.796875 29.25 24.03125 29.890625 \r\nQ 34.671875 31.15625 39.703125 32.90625 \r\nQ 39.75 34.71875 39.75 35.203125 \r\nQ 39.75 40.578125 37.25 42.78125 \r\nQ 33.890625 45.75 27.25 45.75 \r\nQ 21.046875 45.75 18.09375 43.578125 \r\nQ 15.140625 41.40625 13.71875 35.890625 \r\nL 5.125 37.0625 \r\nQ 6.296875 42.578125 8.984375 45.96875 \r\nQ 11.671875 49.359375 16.75 51.1875 \r\nQ 21.828125 53.03125 28.515625 53.03125 \r\nQ 35.15625 53.03125 39.296875 51.46875 \r\nQ 43.453125 49.90625 45.40625 47.53125 \r\nQ 47.359375 45.171875 48.140625 41.546875 \r\nQ 48.578125 39.3125 48.578125 33.453125 \r\nL 48.578125 21.734375 \r\nQ 48.578125 9.46875 49.140625 6.21875 \r\nQ 49.703125 2.984375 51.375 0 \r\nL 42.1875 0 \r\nQ 40.828125 2.734375 40.4375 6.390625 \r\nz\r\nM 39.703125 26.03125 \r\nQ 34.90625 24.078125 25.34375 22.703125 \r\nQ 19.921875 21.921875 17.671875 20.9375 \r\nQ 15.4375 19.96875 14.203125 18.09375 \r\nQ 12.984375 16.21875 12.984375 13.921875 \r\nQ 12.984375 10.40625 15.640625 8.0625 \r\nQ 18.3125 5.71875 23.4375 5.71875 \r\nQ 28.515625 5.71875 32.46875 7.9375 \r\nQ 36.421875 10.15625 38.28125 14.015625 \r\nQ 39.703125 17 39.703125 22.796875 \r\nz\r\n\" id=\"ArialMT-97\"/>\r\n        <path d=\"M 6.59375 0 \r\nL 6.59375 51.859375 \r\nL 14.5 51.859375 \r\nL 14.5 44.484375 \r\nQ 20.21875 53.03125 31 53.03125 \r\nQ 35.6875 53.03125 39.625 51.34375 \r\nQ 43.5625 49.65625 45.515625 46.921875 \r\nQ 47.46875 44.1875 48.25 40.4375 \r\nQ 48.734375 37.984375 48.734375 31.890625 \r\nL 48.734375 0 \r\nL 39.9375 0 \r\nL 39.9375 31.546875 \r\nQ 39.9375 36.921875 38.90625 39.578125 \r\nQ 37.890625 42.234375 35.28125 43.8125 \r\nQ 32.671875 45.40625 29.15625 45.40625 \r\nQ 23.53125 45.40625 19.453125 41.84375 \r\nQ 15.375 38.28125 15.375 28.328125 \r\nL 15.375 0 \r\nz\r\n\" id=\"ArialMT-110\"/>\r\n        <path d=\"M 37.25 0 \r\nL 28.46875 0 \r\nL 28.46875 56 \r\nQ 25.296875 52.984375 20.140625 49.953125 \r\nQ 14.984375 46.921875 10.890625 45.40625 \r\nL 10.890625 53.90625 \r\nQ 18.265625 57.375 23.78125 62.296875 \r\nQ 29.296875 67.234375 31.59375 71.875 \r\nL 37.25 71.875 \r\nz\r\n\" id=\"ArialMT-49\"/>\r\n        <path d=\"M 4.15625 18.75 \r\nL 13.375 19.53125 \r\nQ 14.40625 12.796875 18.140625 9.390625 \r\nQ 21.875 6 27.15625 6 \r\nQ 33.5 6 37.890625 10.78125 \r\nQ 42.28125 15.578125 42.28125 23.484375 \r\nQ 42.28125 31 38.0625 35.34375 \r\nQ 33.84375 39.703125 27 39.703125 \r\nQ 22.75 39.703125 19.328125 37.765625 \r\nQ 15.921875 35.84375 13.96875 32.765625 \r\nL 5.71875 33.84375 \r\nL 12.640625 70.609375 \r\nL 48.25 70.609375 \r\nL 48.25 62.203125 \r\nL 19.671875 62.203125 \r\nL 15.828125 42.96875 \r\nQ 22.265625 47.46875 29.34375 47.46875 \r\nQ 38.71875 47.46875 45.15625 40.96875 \r\nQ 51.609375 34.46875 51.609375 24.265625 \r\nQ 51.609375 14.546875 45.953125 7.46875 \r\nQ 39.0625 -1.21875 27.15625 -1.21875 \r\nQ 17.390625 -1.21875 11.203125 4.25 \r\nQ 5.03125 9.71875 4.15625 18.75 \r\nz\r\n\" id=\"ArialMT-53\"/>\r\n        <path d=\"M 4.15625 35.296875 \r\nQ 4.15625 48 6.765625 55.734375 \r\nQ 9.375 63.484375 14.515625 67.671875 \r\nQ 19.671875 71.875 27.484375 71.875 \r\nQ 33.25 71.875 37.59375 69.546875 \r\nQ 41.9375 67.234375 44.765625 62.859375 \r\nQ 47.609375 58.5 49.21875 52.21875 \r\nQ 50.828125 45.953125 50.828125 35.296875 \r\nQ 50.828125 22.703125 48.234375 14.96875 \r\nQ 45.65625 7.234375 40.5 3 \r\nQ 35.359375 -1.21875 27.484375 -1.21875 \r\nQ 17.140625 -1.21875 11.234375 6.203125 \r\nQ 4.15625 15.140625 4.15625 35.296875 \r\nz\r\nM 13.1875 35.296875 \r\nQ 13.1875 17.671875 17.3125 11.828125 \r\nQ 21.4375 6 27.484375 6 \r\nQ 33.546875 6 37.671875 11.859375 \r\nQ 41.796875 17.71875 41.796875 35.296875 \r\nQ 41.796875 52.984375 37.671875 58.78125 \r\nQ 33.546875 64.59375 27.390625 64.59375 \r\nQ 21.34375 64.59375 17.71875 59.46875 \r\nQ 13.1875 52.9375 13.1875 35.296875 \r\nz\r\n\" id=\"ArialMT-48\"/>\r\n        <path d=\"M 7.328125 0 \r\nL 7.328125 71.578125 \r\nL 16.796875 71.578125 \r\nL 16.796875 36.078125 \r\nL 52.34375 71.578125 \r\nL 65.1875 71.578125 \r\nL 35.15625 42.578125 \r\nL 66.5 0 \r\nL 54 0 \r\nL 28.515625 36.234375 \r\nL 16.796875 24.8125 \r\nL 16.796875 0 \r\nz\r\n\" id=\"ArialMT-75\"/>\r\n       </defs>\r\n       <use xlink:href=\"#ArialMT-77\"/>\r\n       <use x=\"83.300781\" xlink:href=\"#ArialMT-111\"/>\r\n       <use x=\"138.916016\" xlink:href=\"#ArialMT-114\"/>\r\n       <use x=\"172.216797\" xlink:href=\"#ArialMT-101\"/>\r\n       <use x=\"227.832031\" xlink:href=\"#ArialMT-32\"/>\r\n       <use x=\"253.865234\" xlink:href=\"#ArialMT-84\"/>\r\n       <use x=\"314.949219\" xlink:href=\"#ArialMT-104\"/>\r\n       <use x=\"370.564453\" xlink:href=\"#ArialMT-97\"/>\r\n       <use x=\"426.179688\" xlink:href=\"#ArialMT-110\"/>\r\n       <use x=\"481.794922\" xlink:href=\"#ArialMT-32\"/>\r\n       <use x=\"509.578125\" xlink:href=\"#ArialMT-49\"/>\r\n       <use x=\"565.193359\" xlink:href=\"#ArialMT-53\"/>\r\n       <use x=\"620.808594\" xlink:href=\"#ArialMT-48\"/>\r\n       <use x=\"676.423828\" xlink:href=\"#ArialMT-48\"/>\r\n       <use x=\"732.039062\" xlink:href=\"#ArialMT-75\"/>\r\n      </g>\r\n     </g>\r\n    </g>\r\n    <g id=\"xtick_2\">\r\n     <g id=\"text_2\">\r\n      <!-- 600K-900K -->\r\n      <g style=\"fill:#262626;\" transform=\"translate(338.907031 676.540938)scale(0.14 -0.14)\">\r\n       <defs>\r\n        <path d=\"M 49.75 54.046875 \r\nL 41.015625 53.375 \r\nQ 39.84375 58.546875 37.703125 60.890625 \r\nQ 34.125 64.65625 28.90625 64.65625 \r\nQ 24.703125 64.65625 21.53125 62.3125 \r\nQ 17.390625 59.28125 14.984375 53.46875 \r\nQ 12.59375 47.65625 12.5 36.921875 \r\nQ 15.671875 41.75 20.265625 44.09375 \r\nQ 24.859375 46.4375 29.890625 46.4375 \r\nQ 38.671875 46.4375 44.84375 39.96875 \r\nQ 51.03125 33.5 51.03125 23.25 \r\nQ 51.03125 16.5 48.125 10.71875 \r\nQ 45.21875 4.9375 40.140625 1.859375 \r\nQ 35.0625 -1.21875 28.609375 -1.21875 \r\nQ 17.625 -1.21875 10.6875 6.859375 \r\nQ 3.765625 14.9375 3.765625 33.5 \r\nQ 3.765625 54.25 11.421875 63.671875 \r\nQ 18.109375 71.875 29.4375 71.875 \r\nQ 37.890625 71.875 43.28125 67.140625 \r\nQ 48.6875 62.40625 49.75 54.046875 \r\nz\r\nM 13.875 23.1875 \r\nQ 13.875 18.65625 15.796875 14.5 \r\nQ 17.71875 10.359375 21.1875 8.171875 \r\nQ 24.65625 6 28.46875 6 \r\nQ 34.03125 6 38.03125 10.484375 \r\nQ 42.046875 14.984375 42.046875 22.703125 \r\nQ 42.046875 30.125 38.078125 34.390625 \r\nQ 34.125 38.671875 28.125 38.671875 \r\nQ 22.171875 38.671875 18.015625 34.390625 \r\nQ 13.875 30.125 13.875 23.1875 \r\nz\r\n\" id=\"ArialMT-54\"/>\r\n        <path d=\"M 3.171875 21.484375 \r\nL 3.171875 30.328125 \r\nL 30.171875 30.328125 \r\nL 30.171875 21.484375 \r\nz\r\n\" id=\"ArialMT-45\"/>\r\n        <path d=\"M 5.46875 16.546875 \r\nL 13.921875 17.328125 \r\nQ 14.984375 11.375 18.015625 8.6875 \r\nQ 21.046875 6 25.78125 6 \r\nQ 29.828125 6 32.875 7.859375 \r\nQ 35.9375 9.71875 37.890625 12.8125 \r\nQ 39.84375 15.921875 41.15625 21.1875 \r\nQ 42.484375 26.46875 42.484375 31.9375 \r\nQ 42.484375 32.515625 42.4375 33.6875 \r\nQ 39.796875 29.5 35.234375 26.875 \r\nQ 30.671875 24.265625 25.34375 24.265625 \r\nQ 16.453125 24.265625 10.296875 30.703125 \r\nQ 4.15625 37.15625 4.15625 47.703125 \r\nQ 4.15625 58.59375 10.578125 65.234375 \r\nQ 17 71.875 26.65625 71.875 \r\nQ 33.640625 71.875 39.421875 68.109375 \r\nQ 45.21875 64.359375 48.21875 57.390625 \r\nQ 51.21875 50.4375 51.21875 37.25 \r\nQ 51.21875 23.53125 48.234375 15.40625 \r\nQ 45.265625 7.28125 39.375 3.03125 \r\nQ 33.5 -1.21875 25.59375 -1.21875 \r\nQ 17.1875 -1.21875 11.859375 3.4375 \r\nQ 6.546875 8.109375 5.46875 16.546875 \r\nz\r\nM 41.453125 48.140625 \r\nQ 41.453125 55.71875 37.421875 60.15625 \r\nQ 33.40625 64.59375 27.734375 64.59375 \r\nQ 21.875 64.59375 17.53125 59.8125 \r\nQ 13.1875 55.03125 13.1875 47.40625 \r\nQ 13.1875 40.578125 17.3125 36.296875 \r\nQ 21.4375 32.03125 27.484375 32.03125 \r\nQ 33.59375 32.03125 37.515625 36.296875 \r\nQ 41.453125 40.578125 41.453125 48.140625 \r\nz\r\n\" id=\"ArialMT-57\"/>\r\n       </defs>\r\n       <use xlink:href=\"#ArialMT-54\"/>\r\n       <use x=\"55.615234\" xlink:href=\"#ArialMT-48\"/>\r\n       <use x=\"111.230469\" xlink:href=\"#ArialMT-48\"/>\r\n       <use x=\"166.845703\" xlink:href=\"#ArialMT-75\"/>\r\n       <use x=\"233.544922\" xlink:href=\"#ArialMT-45\"/>\r\n       <use x=\"266.845703\" xlink:href=\"#ArialMT-57\"/>\r\n       <use x=\"322.460938\" xlink:href=\"#ArialMT-48\"/>\r\n       <use x=\"378.076172\" xlink:href=\"#ArialMT-48\"/>\r\n       <use x=\"433.691406\" xlink:href=\"#ArialMT-75\"/>\r\n      </g>\r\n     </g>\r\n    </g>\r\n    <g id=\"xtick_3\">\r\n     <g id=\"text_3\">\r\n      <!-- 900K-1200K -->\r\n      <g style=\"fill:#262626;\" transform=\"translate(558.214375 676.540938)scale(0.14 -0.14)\">\r\n       <defs>\r\n        <path d=\"M 50.34375 8.453125 \r\nL 50.34375 0 \r\nL 3.03125 0 \r\nQ 2.9375 3.171875 4.046875 6.109375 \r\nQ 5.859375 10.9375 9.828125 15.625 \r\nQ 13.8125 20.3125 21.34375 26.46875 \r\nQ 33.015625 36.03125 37.109375 41.625 \r\nQ 41.21875 47.21875 41.21875 52.203125 \r\nQ 41.21875 57.421875 37.46875 61 \r\nQ 33.734375 64.59375 27.734375 64.59375 \r\nQ 21.390625 64.59375 17.578125 60.78125 \r\nQ 13.765625 56.984375 13.71875 50.25 \r\nL 4.6875 51.171875 \r\nQ 5.609375 61.28125 11.65625 66.578125 \r\nQ 17.71875 71.875 27.9375 71.875 \r\nQ 38.234375 71.875 44.234375 66.15625 \r\nQ 50.25 60.453125 50.25 52 \r\nQ 50.25 47.703125 48.484375 43.546875 \r\nQ 46.734375 39.40625 42.65625 34.8125 \r\nQ 38.578125 30.21875 29.109375 22.21875 \r\nQ 21.1875 15.578125 18.9375 13.203125 \r\nQ 16.703125 10.84375 15.234375 8.453125 \r\nz\r\n\" id=\"ArialMT-50\"/>\r\n       </defs>\r\n       <use xlink:href=\"#ArialMT-57\"/>\r\n       <use x=\"55.615234\" xlink:href=\"#ArialMT-48\"/>\r\n       <use x=\"111.230469\" xlink:href=\"#ArialMT-48\"/>\r\n       <use x=\"166.845703\" xlink:href=\"#ArialMT-75\"/>\r\n       <use x=\"233.544922\" xlink:href=\"#ArialMT-45\"/>\r\n       <use x=\"266.845703\" xlink:href=\"#ArialMT-49\"/>\r\n       <use x=\"322.460938\" xlink:href=\"#ArialMT-50\"/>\r\n       <use x=\"378.076172\" xlink:href=\"#ArialMT-48\"/>\r\n       <use x=\"433.691406\" xlink:href=\"#ArialMT-48\"/>\r\n       <use x=\"489.306641\" xlink:href=\"#ArialMT-75\"/>\r\n      </g>\r\n     </g>\r\n    </g>\r\n    <g id=\"xtick_4\">\r\n     <g id=\"text_4\">\r\n      <!-- 1200K-1500K -->\r\n      <g style=\"fill:#262626;\" transform=\"translate(777.521719 676.540938)scale(0.14 -0.14)\">\r\n       <use xlink:href=\"#ArialMT-49\"/>\r\n       <use x=\"55.615234\" xlink:href=\"#ArialMT-50\"/>\r\n       <use x=\"111.230469\" xlink:href=\"#ArialMT-48\"/>\r\n       <use x=\"166.845703\" xlink:href=\"#ArialMT-48\"/>\r\n       <use x=\"222.460938\" xlink:href=\"#ArialMT-75\"/>\r\n       <use x=\"289.160156\" xlink:href=\"#ArialMT-45\"/>\r\n       <use x=\"322.460938\" xlink:href=\"#ArialMT-49\"/>\r\n       <use x=\"378.076172\" xlink:href=\"#ArialMT-53\"/>\r\n       <use x=\"433.691406\" xlink:href=\"#ArialMT-48\"/>\r\n       <use x=\"489.306641\" xlink:href=\"#ArialMT-48\"/>\r\n       <use x=\"544.921875\" xlink:href=\"#ArialMT-75\"/>\r\n      </g>\r\n     </g>\r\n    </g>\r\n    <g id=\"text_5\">\r\n     <!-- IdealYearlyIncome -->\r\n     <g style=\"fill:#262626;\" transform=\"translate(428.198906 693.344375)scale(0.14 -0.14)\">\r\n      <defs>\r\n       <path d=\"M 9.328125 0 \r\nL 9.328125 71.578125 \r\nL 18.796875 71.578125 \r\nL 18.796875 0 \r\nz\r\n\" id=\"ArialMT-73\"/>\r\n       <path d=\"M 40.234375 0 \r\nL 40.234375 6.546875 \r\nQ 35.296875 -1.171875 25.734375 -1.171875 \r\nQ 19.53125 -1.171875 14.328125 2.25 \r\nQ 9.125 5.671875 6.265625 11.796875 \r\nQ 3.421875 17.921875 3.421875 25.875 \r\nQ 3.421875 33.640625 6 39.96875 \r\nQ 8.59375 46.296875 13.765625 49.65625 \r\nQ 18.953125 53.03125 25.34375 53.03125 \r\nQ 30.03125 53.03125 33.6875 51.046875 \r\nQ 37.359375 49.078125 39.65625 45.90625 \r\nL 39.65625 71.578125 \r\nL 48.390625 71.578125 \r\nL 48.390625 0 \r\nz\r\nM 12.453125 25.875 \r\nQ 12.453125 15.921875 16.640625 10.984375 \r\nQ 20.84375 6.0625 26.5625 6.0625 \r\nQ 32.328125 6.0625 36.34375 10.765625 \r\nQ 40.375 15.484375 40.375 25.140625 \r\nQ 40.375 35.796875 36.265625 40.765625 \r\nQ 32.171875 45.75 26.171875 45.75 \r\nQ 20.3125 45.75 16.375 40.96875 \r\nQ 12.453125 36.1875 12.453125 25.875 \r\nz\r\n\" id=\"ArialMT-100\"/>\r\n       <path d=\"M 6.390625 0 \r\nL 6.390625 71.578125 \r\nL 15.1875 71.578125 \r\nL 15.1875 0 \r\nz\r\n\" id=\"ArialMT-108\"/>\r\n       <path d=\"M 27.875 0 \r\nL 27.875 30.328125 \r\nL 0.296875 71.578125 \r\nL 11.8125 71.578125 \r\nL 25.921875 50 \r\nQ 29.828125 43.953125 33.203125 37.890625 \r\nQ 36.421875 43.5 41.015625 50.53125 \r\nL 54.890625 71.578125 \r\nL 65.921875 71.578125 \r\nL 37.359375 30.328125 \r\nL 37.359375 0 \r\nz\r\n\" id=\"ArialMT-89\"/>\r\n       <path d=\"M 6.203125 -19.96875 \r\nL 5.21875 -11.71875 \r\nQ 8.109375 -12.5 10.25 -12.5 \r\nQ 13.1875 -12.5 14.9375 -11.515625 \r\nQ 16.703125 -10.546875 17.828125 -8.796875 \r\nQ 18.65625 -7.46875 20.515625 -2.25 \r\nQ 20.75 -1.515625 21.296875 -0.09375 \r\nL 1.609375 51.859375 \r\nL 11.078125 51.859375 \r\nL 21.875 21.828125 \r\nQ 23.96875 16.109375 25.640625 9.8125 \r\nQ 27.15625 15.875 29.25 21.625 \r\nL 40.328125 51.859375 \r\nL 49.125 51.859375 \r\nL 29.390625 -0.875 \r\nQ 26.21875 -9.421875 24.46875 -12.640625 \r\nQ 22.125 -17 19.09375 -19.015625 \r\nQ 16.0625 -21.046875 11.859375 -21.046875 \r\nQ 9.328125 -21.046875 6.203125 -19.96875 \r\nz\r\n\" id=\"ArialMT-121\"/>\r\n       <path d=\"M 40.4375 19 \r\nL 49.078125 17.875 \r\nQ 47.65625 8.9375 41.8125 3.875 \r\nQ 35.984375 -1.171875 27.484375 -1.171875 \r\nQ 16.84375 -1.171875 10.375 5.78125 \r\nQ 3.90625 12.75 3.90625 25.734375 \r\nQ 3.90625 34.125 6.6875 40.421875 \r\nQ 9.46875 46.734375 15.15625 49.875 \r\nQ 20.84375 53.03125 27.546875 53.03125 \r\nQ 35.984375 53.03125 41.359375 48.75 \r\nQ 46.734375 44.484375 48.25 36.625 \r\nL 39.703125 35.296875 \r\nQ 38.484375 40.53125 35.375 43.15625 \r\nQ 32.28125 45.796875 27.875 45.796875 \r\nQ 21.234375 45.796875 17.078125 41.03125 \r\nQ 12.9375 36.28125 12.9375 25.984375 \r\nQ 12.9375 15.53125 16.9375 10.796875 \r\nQ 20.953125 6.0625 27.390625 6.0625 \r\nQ 32.5625 6.0625 36.03125 9.234375 \r\nQ 39.5 12.40625 40.4375 19 \r\nz\r\n\" id=\"ArialMT-99\"/>\r\n       <path d=\"M 6.59375 0 \r\nL 6.59375 51.859375 \r\nL 14.453125 51.859375 \r\nL 14.453125 44.578125 \r\nQ 16.890625 48.390625 20.9375 50.703125 \r\nQ 25 53.03125 30.171875 53.03125 \r\nQ 35.9375 53.03125 39.625 50.640625 \r\nQ 43.3125 48.25 44.828125 43.953125 \r\nQ 50.984375 53.03125 60.84375 53.03125 \r\nQ 68.5625 53.03125 72.703125 48.75 \r\nQ 76.859375 44.484375 76.859375 35.59375 \r\nL 76.859375 0 \r\nL 68.109375 0 \r\nL 68.109375 32.671875 \r\nQ 68.109375 37.9375 67.25 40.25 \r\nQ 66.40625 42.578125 64.15625 43.984375 \r\nQ 61.921875 45.40625 58.890625 45.40625 \r\nQ 53.421875 45.40625 49.796875 41.765625 \r\nQ 46.1875 38.140625 46.1875 30.125 \r\nL 46.1875 0 \r\nL 37.40625 0 \r\nL 37.40625 33.6875 \r\nQ 37.40625 39.546875 35.25 42.46875 \r\nQ 33.109375 45.40625 28.21875 45.40625 \r\nQ 24.515625 45.40625 21.359375 43.453125 \r\nQ 18.21875 41.5 16.796875 37.734375 \r\nQ 15.375 33.984375 15.375 26.90625 \r\nL 15.375 0 \r\nz\r\n\" id=\"ArialMT-109\"/>\r\n      </defs>\r\n      <use xlink:href=\"#ArialMT-73\"/>\r\n      <use x=\"27.783203\" xlink:href=\"#ArialMT-100\"/>\r\n      <use x=\"83.398438\" xlink:href=\"#ArialMT-101\"/>\r\n      <use x=\"139.013672\" xlink:href=\"#ArialMT-97\"/>\r\n      <use x=\"194.628906\" xlink:href=\"#ArialMT-108\"/>\r\n      <use x=\"216.845703\" xlink:href=\"#ArialMT-89\"/>\r\n      <use x=\"274.419922\" xlink:href=\"#ArialMT-101\"/>\r\n      <use x=\"330.035156\" xlink:href=\"#ArialMT-97\"/>\r\n      <use x=\"385.650391\" xlink:href=\"#ArialMT-114\"/>\r\n      <use x=\"418.951172\" xlink:href=\"#ArialMT-108\"/>\r\n      <use x=\"441.167969\" xlink:href=\"#ArialMT-121\"/>\r\n      <use x=\"491.167969\" xlink:href=\"#ArialMT-73\"/>\r\n      <use x=\"518.951172\" xlink:href=\"#ArialMT-110\"/>\r\n      <use x=\"574.566406\" xlink:href=\"#ArialMT-99\"/>\r\n      <use x=\"624.566406\" xlink:href=\"#ArialMT-111\"/>\r\n      <use x=\"680.181641\" xlink:href=\"#ArialMT-109\"/>\r\n      <use x=\"763.482422\" xlink:href=\"#ArialMT-101\"/>\r\n     </g>\r\n    </g>\r\n   </g>\r\n   <g id=\"matplotlib.axis_2\">\r\n    <g id=\"ytick_1\">\r\n     <g id=\"line2d_1\">\r\n      <path clip-path=\"url(#pae54414d8a)\" d=\"M 39.132188 659.52 \r\nL 931.932187 659.52 \r\n\" style=\"fill:none;stroke:#ffffff;stroke-linecap:round;stroke-width:0.8;\"/>\r\n     </g>\r\n     <g id=\"text_6\">\r\n      <!-- 0 -->\r\n      <g style=\"fill:#262626;\" transform=\"translate(24.346875 664.530469)scale(0.14 -0.14)\">\r\n       <use xlink:href=\"#ArialMT-48\"/>\r\n      </g>\r\n     </g>\r\n    </g>\r\n    <g id=\"ytick_2\">\r\n     <g id=\"line2d_2\">\r\n      <path clip-path=\"url(#pae54414d8a)\" d=\"M 39.132188 549.505714 \r\nL 931.932187 549.505714 \r\n\" style=\"fill:none;stroke:#ffffff;stroke-linecap:round;stroke-width:0.8;\"/>\r\n     </g>\r\n     <g id=\"text_7\">\r\n      <!-- 1 -->\r\n      <g style=\"fill:#262626;\" transform=\"translate(24.346875 554.516183)scale(0.14 -0.14)\">\r\n       <use xlink:href=\"#ArialMT-49\"/>\r\n      </g>\r\n     </g>\r\n    </g>\r\n    <g id=\"ytick_3\">\r\n     <g id=\"line2d_3\">\r\n      <path clip-path=\"url(#pae54414d8a)\" d=\"M 39.132188 439.491429 \r\nL 931.932187 439.491429 \r\n\" style=\"fill:none;stroke:#ffffff;stroke-linecap:round;stroke-width:0.8;\"/>\r\n     </g>\r\n     <g id=\"text_8\">\r\n      <!-- 2 -->\r\n      <g style=\"fill:#262626;\" transform=\"translate(24.346875 444.501897)scale(0.14 -0.14)\">\r\n       <use xlink:href=\"#ArialMT-50\"/>\r\n      </g>\r\n     </g>\r\n    </g>\r\n    <g id=\"ytick_4\">\r\n     <g id=\"line2d_4\">\r\n      <path clip-path=\"url(#pae54414d8a)\" d=\"M 39.132188 329.477143 \r\nL 931.932187 329.477143 \r\n\" style=\"fill:none;stroke:#ffffff;stroke-linecap:round;stroke-width:0.8;\"/>\r\n     </g>\r\n     <g id=\"text_9\">\r\n      <!-- 3 -->\r\n      <g style=\"fill:#262626;\" transform=\"translate(24.346875 334.487612)scale(0.14 -0.14)\">\r\n       <defs>\r\n        <path d=\"M 4.203125 18.890625 \r\nL 12.984375 20.0625 \r\nQ 14.5 12.59375 18.140625 9.296875 \r\nQ 21.78125 6 27 6 \r\nQ 33.203125 6 37.46875 10.296875 \r\nQ 41.75 14.59375 41.75 20.953125 \r\nQ 41.75 27 37.796875 30.921875 \r\nQ 33.84375 34.859375 27.734375 34.859375 \r\nQ 25.25 34.859375 21.53125 33.890625 \r\nL 22.515625 41.609375 \r\nQ 23.390625 41.5 23.921875 41.5 \r\nQ 29.546875 41.5 34.03125 44.421875 \r\nQ 38.53125 47.359375 38.53125 53.46875 \r\nQ 38.53125 58.296875 35.25 61.46875 \r\nQ 31.984375 64.65625 26.8125 64.65625 \r\nQ 21.6875 64.65625 18.265625 61.421875 \r\nQ 14.84375 58.203125 13.875 51.765625 \r\nL 5.078125 53.328125 \r\nQ 6.6875 62.15625 12.390625 67.015625 \r\nQ 18.109375 71.875 26.609375 71.875 \r\nQ 32.46875 71.875 37.390625 69.359375 \r\nQ 42.328125 66.84375 44.9375 62.5 \r\nQ 47.5625 58.15625 47.5625 53.265625 \r\nQ 47.5625 48.640625 45.0625 44.828125 \r\nQ 42.578125 41.015625 37.703125 38.765625 \r\nQ 44.046875 37.3125 47.5625 32.6875 \r\nQ 51.078125 28.078125 51.078125 21.140625 \r\nQ 51.078125 11.765625 44.234375 5.25 \r\nQ 37.40625 -1.265625 26.953125 -1.265625 \r\nQ 17.53125 -1.265625 11.296875 4.34375 \r\nQ 5.078125 9.96875 4.203125 18.890625 \r\nz\r\n\" id=\"ArialMT-51\"/>\r\n       </defs>\r\n       <use xlink:href=\"#ArialMT-51\"/>\r\n      </g>\r\n     </g>\r\n    </g>\r\n    <g id=\"ytick_5\">\r\n     <g id=\"line2d_5\">\r\n      <path clip-path=\"url(#pae54414d8a)\" d=\"M 39.132188 219.462857 \r\nL 931.932187 219.462857 \r\n\" style=\"fill:none;stroke:#ffffff;stroke-linecap:round;stroke-width:0.8;\"/>\r\n     </g>\r\n     <g id=\"text_10\">\r\n      <!-- 4 -->\r\n      <g style=\"fill:#262626;\" transform=\"translate(24.346875 224.473326)scale(0.14 -0.14)\">\r\n       <defs>\r\n        <path d=\"M 32.328125 0 \r\nL 32.328125 17.140625 \r\nL 1.265625 17.140625 \r\nL 1.265625 25.203125 \r\nL 33.9375 71.578125 \r\nL 41.109375 71.578125 \r\nL 41.109375 25.203125 \r\nL 50.78125 25.203125 \r\nL 50.78125 17.140625 \r\nL 41.109375 17.140625 \r\nL 41.109375 0 \r\nz\r\nM 32.328125 25.203125 \r\nL 32.328125 57.46875 \r\nL 9.90625 25.203125 \r\nz\r\n\" id=\"ArialMT-52\"/>\r\n       </defs>\r\n       <use xlink:href=\"#ArialMT-52\"/>\r\n      </g>\r\n     </g>\r\n    </g>\r\n    <g id=\"ytick_6\">\r\n     <g id=\"line2d_6\">\r\n      <path clip-path=\"url(#pae54414d8a)\" d=\"M 39.132188 109.448571 \r\nL 931.932187 109.448571 \r\n\" style=\"fill:none;stroke:#ffffff;stroke-linecap:round;stroke-width:0.8;\"/>\r\n     </g>\r\n     <g id=\"text_11\">\r\n      <!-- 5 -->\r\n      <g style=\"fill:#262626;\" transform=\"translate(24.346875 114.45904)scale(0.14 -0.14)\">\r\n       <use xlink:href=\"#ArialMT-53\"/>\r\n      </g>\r\n     </g>\r\n    </g>\r\n    <g id=\"text_12\">\r\n     <!-- IdealNumberOfWorkdays -->\r\n     <g style=\"fill:#262626;\" transform=\"translate(17.400313 411.815781)rotate(-90)scale(0.14 -0.14)\">\r\n      <defs>\r\n       <path d=\"M 7.625 0 \r\nL 7.625 71.578125 \r\nL 17.328125 71.578125 \r\nL 54.9375 15.375 \r\nL 54.9375 71.578125 \r\nL 64.015625 71.578125 \r\nL 64.015625 0 \r\nL 54.296875 0 \r\nL 16.703125 56.25 \r\nL 16.703125 0 \r\nz\r\n\" id=\"ArialMT-78\"/>\r\n       <path d=\"M 40.578125 0 \r\nL 40.578125 7.625 \r\nQ 34.515625 -1.171875 24.125 -1.171875 \r\nQ 19.53125 -1.171875 15.546875 0.578125 \r\nQ 11.578125 2.34375 9.640625 5 \r\nQ 7.71875 7.671875 6.9375 11.53125 \r\nQ 6.390625 14.109375 6.390625 19.734375 \r\nL 6.390625 51.859375 \r\nL 15.1875 51.859375 \r\nL 15.1875 23.09375 \r\nQ 15.1875 16.21875 15.71875 13.8125 \r\nQ 16.546875 10.359375 19.234375 8.375 \r\nQ 21.921875 6.390625 25.875 6.390625 \r\nQ 29.828125 6.390625 33.296875 8.421875 \r\nQ 36.765625 10.453125 38.203125 13.9375 \r\nQ 39.65625 17.4375 39.65625 24.078125 \r\nL 39.65625 51.859375 \r\nL 48.4375 51.859375 \r\nL 48.4375 0 \r\nz\r\n\" id=\"ArialMT-117\"/>\r\n       <path d=\"M 14.703125 0 \r\nL 6.546875 0 \r\nL 6.546875 71.578125 \r\nL 15.328125 71.578125 \r\nL 15.328125 46.046875 \r\nQ 20.90625 53.03125 29.546875 53.03125 \r\nQ 34.328125 53.03125 38.59375 51.09375 \r\nQ 42.875 49.171875 45.625 45.671875 \r\nQ 48.390625 42.1875 49.953125 37.25 \r\nQ 51.515625 32.328125 51.515625 26.703125 \r\nQ 51.515625 13.375 44.921875 6.09375 \r\nQ 38.328125 -1.171875 29.109375 -1.171875 \r\nQ 19.921875 -1.171875 14.703125 6.5 \r\nz\r\nM 14.59375 26.3125 \r\nQ 14.59375 17 17.140625 12.84375 \r\nQ 21.296875 6.0625 28.375 6.0625 \r\nQ 34.125 6.0625 38.328125 11.0625 \r\nQ 42.53125 16.0625 42.53125 25.984375 \r\nQ 42.53125 36.140625 38.5 40.96875 \r\nQ 34.46875 45.796875 28.765625 45.796875 \r\nQ 23 45.796875 18.796875 40.796875 \r\nQ 14.59375 35.796875 14.59375 26.3125 \r\nz\r\n\" id=\"ArialMT-98\"/>\r\n       <path d=\"M 4.828125 34.859375 \r\nQ 4.828125 52.6875 14.390625 62.765625 \r\nQ 23.96875 72.859375 39.109375 72.859375 \r\nQ 49.03125 72.859375 56.984375 68.109375 \r\nQ 64.9375 63.375 69.109375 54.90625 \r\nQ 73.296875 46.4375 73.296875 35.6875 \r\nQ 73.296875 24.8125 68.890625 16.21875 \r\nQ 64.5 7.625 56.4375 3.203125 \r\nQ 48.390625 -1.21875 39.0625 -1.21875 \r\nQ 28.953125 -1.21875 20.984375 3.65625 \r\nQ 13.03125 8.546875 8.921875 16.984375 \r\nQ 4.828125 25.4375 4.828125 34.859375 \r\nz\r\nM 14.59375 34.71875 \r\nQ 14.59375 21.78125 21.546875 14.328125 \r\nQ 28.515625 6.890625 39.015625 6.890625 \r\nQ 49.703125 6.890625 56.609375 14.40625 \r\nQ 63.53125 21.921875 63.53125 35.75 \r\nQ 63.53125 44.484375 60.578125 51 \r\nQ 57.625 57.515625 51.921875 61.109375 \r\nQ 46.234375 64.703125 39.15625 64.703125 \r\nQ 29.109375 64.703125 21.84375 57.78125 \r\nQ 14.59375 50.875 14.59375 34.71875 \r\nz\r\n\" id=\"ArialMT-79\"/>\r\n       <path d=\"M 8.6875 0 \r\nL 8.6875 45.015625 \r\nL 0.921875 45.015625 \r\nL 0.921875 51.859375 \r\nL 8.6875 51.859375 \r\nL 8.6875 57.375 \r\nQ 8.6875 62.59375 9.625 65.140625 \r\nQ 10.890625 68.5625 14.078125 70.671875 \r\nQ 17.28125 72.796875 23.046875 72.796875 \r\nQ 26.765625 72.796875 31.25 71.921875 \r\nL 29.9375 64.265625 \r\nQ 27.203125 64.75 24.75 64.75 \r\nQ 20.75 64.75 19.09375 63.03125 \r\nQ 17.4375 61.328125 17.4375 56.640625 \r\nL 17.4375 51.859375 \r\nL 27.546875 51.859375 \r\nL 27.546875 45.015625 \r\nL 17.4375 45.015625 \r\nL 17.4375 0 \r\nz\r\n\" id=\"ArialMT-102\"/>\r\n       <path d=\"M 20.21875 0 \r\nL 1.21875 71.578125 \r\nL 10.9375 71.578125 \r\nL 21.828125 24.65625 \r\nQ 23.578125 17.28125 24.859375 10.015625 \r\nQ 27.59375 21.484375 28.078125 23.25 \r\nL 41.703125 71.578125 \r\nL 53.125 71.578125 \r\nL 63.375 35.359375 \r\nQ 67.234375 21.875 68.953125 10.015625 \r\nQ 70.3125 16.796875 72.515625 25.59375 \r\nL 83.734375 71.578125 \r\nL 93.265625 71.578125 \r\nL 73.640625 0 \r\nL 64.5 0 \r\nL 49.421875 54.546875 \r\nQ 47.515625 61.375 47.171875 62.9375 \r\nQ 46.046875 58.015625 45.0625 54.546875 \r\nL 29.890625 0 \r\nz\r\n\" id=\"ArialMT-87\"/>\r\n       <path d=\"M 6.640625 0 \r\nL 6.640625 71.578125 \r\nL 15.4375 71.578125 \r\nL 15.4375 30.765625 \r\nL 36.234375 51.859375 \r\nL 47.609375 51.859375 \r\nL 27.78125 32.625 \r\nL 49.609375 0 \r\nL 38.765625 0 \r\nL 21.625 26.515625 \r\nL 15.4375 20.5625 \r\nL 15.4375 0 \r\nz\r\n\" id=\"ArialMT-107\"/>\r\n       <path d=\"M 3.078125 15.484375 \r\nL 11.765625 16.84375 \r\nQ 12.5 11.625 15.84375 8.84375 \r\nQ 19.1875 6.0625 25.203125 6.0625 \r\nQ 31.25 6.0625 34.171875 8.515625 \r\nQ 37.109375 10.984375 37.109375 14.3125 \r\nQ 37.109375 17.28125 34.515625 19 \r\nQ 32.71875 20.171875 25.53125 21.96875 \r\nQ 15.875 24.421875 12.140625 26.203125 \r\nQ 8.40625 27.984375 6.46875 31.125 \r\nQ 4.546875 34.28125 4.546875 38.09375 \r\nQ 4.546875 41.546875 6.125 44.5 \r\nQ 7.71875 47.46875 10.453125 49.421875 \r\nQ 12.5 50.921875 16.03125 51.96875 \r\nQ 19.578125 53.03125 23.640625 53.03125 \r\nQ 29.734375 53.03125 34.34375 51.265625 \r\nQ 38.96875 49.515625 41.15625 46.5 \r\nQ 43.359375 43.5 44.1875 38.484375 \r\nL 35.59375 37.3125 \r\nQ 35.015625 41.3125 32.203125 43.546875 \r\nQ 29.390625 45.796875 24.265625 45.796875 \r\nQ 18.21875 45.796875 15.625 43.796875 \r\nQ 13.03125 41.796875 13.03125 39.109375 \r\nQ 13.03125 37.40625 14.109375 36.03125 \r\nQ 15.1875 34.625 17.484375 33.6875 \r\nQ 18.796875 33.203125 25.25 31.453125 \r\nQ 34.578125 28.953125 38.25 27.359375 \r\nQ 41.9375 25.78125 44.03125 22.75 \r\nQ 46.140625 19.734375 46.140625 15.234375 \r\nQ 46.140625 10.84375 43.578125 6.953125 \r\nQ 41.015625 3.078125 36.171875 0.953125 \r\nQ 31.34375 -1.171875 25.25 -1.171875 \r\nQ 15.140625 -1.171875 9.84375 3.03125 \r\nQ 4.546875 7.234375 3.078125 15.484375 \r\nz\r\n\" id=\"ArialMT-115\"/>\r\n      </defs>\r\n      <use xlink:href=\"#ArialMT-73\"/>\r\n      <use x=\"27.783203\" xlink:href=\"#ArialMT-100\"/>\r\n      <use x=\"83.398438\" xlink:href=\"#ArialMT-101\"/>\r\n      <use x=\"139.013672\" xlink:href=\"#ArialMT-97\"/>\r\n      <use x=\"194.628906\" xlink:href=\"#ArialMT-108\"/>\r\n      <use x=\"216.845703\" xlink:href=\"#ArialMT-78\"/>\r\n      <use x=\"289.0625\" xlink:href=\"#ArialMT-117\"/>\r\n      <use x=\"344.677734\" xlink:href=\"#ArialMT-109\"/>\r\n      <use x=\"427.978516\" xlink:href=\"#ArialMT-98\"/>\r\n      <use x=\"483.59375\" xlink:href=\"#ArialMT-101\"/>\r\n      <use x=\"539.208984\" xlink:href=\"#ArialMT-114\"/>\r\n      <use x=\"572.509766\" xlink:href=\"#ArialMT-79\"/>\r\n      <use x=\"650.292969\" xlink:href=\"#ArialMT-102\"/>\r\n      <use x=\"678.076172\" xlink:href=\"#ArialMT-87\"/>\r\n      <use x=\"770.710938\" xlink:href=\"#ArialMT-111\"/>\r\n      <use x=\"826.326172\" xlink:href=\"#ArialMT-114\"/>\r\n      <use x=\"859.626953\" xlink:href=\"#ArialMT-107\"/>\r\n      <use x=\"909.626953\" xlink:href=\"#ArialMT-100\"/>\r\n      <use x=\"965.242188\" xlink:href=\"#ArialMT-97\"/>\r\n      <use x=\"1020.857422\" xlink:href=\"#ArialMT-121\"/>\r\n      <use x=\"1070.857422\" xlink:href=\"#ArialMT-115\"/>\r\n     </g>\r\n    </g>\r\n   </g>\r\n   <g id=\"patch_3\">\r\n    <path clip-path=\"url(#pae54414d8a)\" d=\"M 61.452188 659.52 \r\nL 240.012188 659.52 \r\nL 240.012188 157.482978 \r\nL 61.452188 157.482978 \r\nz\r\n\" style=\"fill:#3274a1;stroke:#ffffff;stroke-linejoin:miter;\"/>\r\n   </g>\r\n   <g id=\"patch_4\">\r\n    <path clip-path=\"url(#pae54414d8a)\" d=\"M 284.652187 659.52 \r\nL 463.212187 659.52 \r\nL 463.212187 138.221538 \r\nL 284.652187 138.221538 \r\nz\r\n\" style=\"fill:#e1812c;stroke:#ffffff;stroke-linejoin:miter;\"/>\r\n   </g>\r\n   <g id=\"patch_5\">\r\n    <path clip-path=\"url(#pae54414d8a)\" d=\"M 507.852188 659.52 \r\nL 686.412188 659.52 \r\nL 686.412188 137.291693 \r\nL 507.852188 137.291693 \r\nz\r\n\" style=\"fill:#3a923a;stroke:#ffffff;stroke-linejoin:miter;\"/>\r\n   </g>\r\n   <g id=\"patch_6\">\r\n    <path clip-path=\"url(#pae54414d8a)\" d=\"M 731.052187 659.52 \r\nL 909.612188 659.52 \r\nL 909.612188 55.52 \r\nL 731.052187 55.52 \r\nz\r\n\" style=\"fill:#c03d3e;stroke:#ffffff;stroke-linejoin:miter;\"/>\r\n   </g>\r\n   <g id=\"line2d_7\">\r\n    <path clip-path=\"url(#pae54414d8a)\" d=\"M 150.732188 174.527445 \r\nL 150.732188 141.988008 \r\n\" style=\"fill:none;stroke:#424242;stroke-linecap:round;stroke-width:2.7;\"/>\r\n   </g>\r\n   <g id=\"line2d_8\">\r\n    <path clip-path=\"url(#pae54414d8a)\" d=\"M 373.932187 151.761758 \r\nL 373.932187 124.681319 \r\n\" style=\"fill:none;stroke:#424242;stroke-linecap:round;stroke-width:2.7;\"/>\r\n   </g>\r\n   <g id=\"line2d_9\">\r\n    <path clip-path=\"url(#pae54414d8a)\" d=\"M 597.132187 151.552804 \r\nL 597.132187 124.388783 \r\n\" style=\"fill:none;stroke:#424242;stroke-linecap:round;stroke-width:2.7;\"/>\r\n   </g>\r\n   <g id=\"line2d_10\">\r\n    <path clip-path=\"url(#pae54414d8a)\" d=\"M 820.332187 70.62 \r\nL 820.332187 38.262857 \r\n\" style=\"fill:none;stroke:#424242;stroke-linecap:round;stroke-width:2.7;\"/>\r\n   </g>\r\n   <g id=\"patch_7\">\r\n    <path d=\"M 39.132188 659.52 \r\nL 39.132188 7.2 \r\n\" style=\"fill:none;stroke:#ffffff;stroke-linecap:square;stroke-linejoin:miter;stroke-width:0.8;\"/>\r\n   </g>\r\n   <g id=\"patch_8\">\r\n    <path d=\"M 931.932187 659.52 \r\nL 931.932187 7.2 \r\n\" style=\"fill:none;stroke:#ffffff;stroke-linecap:square;stroke-linejoin:miter;stroke-width:0.8;\"/>\r\n   </g>\r\n   <g id=\"patch_9\">\r\n    <path d=\"M 39.132188 659.52 \r\nL 931.932187 659.52 \r\n\" style=\"fill:none;stroke:#ffffff;stroke-linecap:square;stroke-linejoin:miter;stroke-width:0.8;\"/>\r\n   </g>\r\n   <g id=\"patch_10\">\r\n    <path d=\"M 39.132188 7.2 \r\nL 931.932187 7.2 \r\n\" style=\"fill:none;stroke:#ffffff;stroke-linecap:square;stroke-linejoin:miter;stroke-width:0.8;\"/>\r\n   </g>\r\n  </g>\r\n </g>\r\n <defs>\r\n  <clipPath id=\"pae54414d8a\">\r\n   <rect height=\"652.32\" width=\"892.8\" x=\"39.132188\" y=\"7.2\"/>\r\n  </clipPath>\r\n </defs>\r\n</svg>\r\n",
      "image/png": "[encoded data removed]"
     },
     "metadata": {
      "needs_background": "light"
     }
    }
   ],
   "source": [
    "sns.barplot(x='IdealYearlyIncome',y='IdealNumberOfWorkdays',data=raw_df)"
   ]
  },
  {
   "source": [
    "* People who earns more tha 1500k doesn't have to work less number of days as comapred to others."
   ],
   "cell_type": "markdown",
   "metadata": {}
  },
  {
   "cell_type": "code",
   "execution_count": 123,
   "metadata": {},
   "outputs": [
    {
     "output_type": "execute_result",
     "data": {
      "text/plain": [
       "Employment Sector        0\n",
       "Employment Background    0\n",
       "Public Dealing           0\n",
       "Degree                   0\n",
       "IdealNumberOfWorkdays    0\n",
       "IdealYearlyIncome        0\n",
       "dtype: int64"
      ]
     },
     "metadata": {},
     "execution_count": 123
    }
   ],
   "source": [
    "raw_df.isna().sum()"
   ]
  },
  {
   "source": [
    "## Creating Training , Validation and Tests sets"
   ],
   "cell_type": "markdown",
   "metadata": {}
  },
  {
   "cell_type": "code",
   "execution_count": 249,
   "metadata": {},
   "outputs": [],
   "source": [
    "from sklearn.model_selection import train_test_split"
   ]
  },
  {
   "cell_type": "code",
   "execution_count": 327,
   "metadata": {},
   "outputs": [],
   "source": [
    "train_val_df,test_df=train_test_split(raw_df,test_size=0.1,random_state=42)\n"
   ]
  },
  {
   "cell_type": "code",
   "execution_count": 328,
   "metadata": {},
   "outputs": [],
   "source": [
    "train_df,val_df=train_test_split(train_val_df,test_size=0.1,random_state=42)"
   ]
  },
  {
   "cell_type": "code",
   "execution_count": 329,
   "metadata": {},
   "outputs": [
    {
     "output_type": "execute_result",
     "data": {
      "text/plain": [
       "     Employment Sector Employment Background Public Dealing Degree  \\\n",
       "255     Private Sector             Technical             No    Yes   \n",
       "121     Private Sector         Non-Technical            Yes    Yes   \n",
       "119     Private Sector             Technical             No    Yes   \n",
       "311     Private Sector             Technical             No    Yes   \n",
       "362  Government Sector                   Art            Yes     No   \n",
       "..                 ...                   ...            ...    ...   \n",
       "387     Private Sector         Non-Technical            Yes    Yes   \n",
       "59    Entrepreneurship         Non-Technical            Yes     No   \n",
       "14      Private Sector         Non-Technical            Yes    Yes   \n",
       "87      Private Sector         Non-Technical            Yes    Yes   \n",
       "291   Entrepreneurship                   Art             No    Yes   \n",
       "\n",
       "     IdealNumberOfWorkdays IdealYearlyIncome  \n",
       "255                    4.0   More Than 1500K  \n",
       "121                    4.0        900K-1200K  \n",
       "119                    5.0       1200K-1500K  \n",
       "311                    5.0       1200K-1500K  \n",
       "362                    5.0        900K-1200K  \n",
       "..                     ...               ...  \n",
       "387                    4.0   More Than 1500K  \n",
       "59                     6.0        900K-1200K  \n",
       "14                     4.0   More Than 1500K  \n",
       "87                     4.0        900K-1200K  \n",
       "291                    6.0       1200K-1500K  \n",
       "\n",
       "[324 rows x 6 columns]"
      ],
      "text/html": "<div>\n<style scoped>\n    .dataframe tbody tr th:only-of-type {\n        vertical-align: middle;\n    }\n\n    .dataframe tbody tr th {\n        vertical-align: top;\n    }\n\n    .dataframe thead th {\n        text-align: right;\n    }\n</style>\n<table border=\"1\" class=\"dataframe\">\n  <thead>\n    <tr style=\"text-align: right;\">\n      <th></th>\n      <th>Employment Sector</th>\n      <th>Employment Background</th>\n      <th>Public Dealing</th>\n      <th>Degree</th>\n      <th>IdealNumberOfWorkdays</th>\n      <th>IdealYearlyIncome</th>\n    </tr>\n  </thead>\n  <tbody>\n    <tr>\n      <th>255</th>\n      <td>Private Sector</td>\n      <td>Technical</td>\n      <td>No</td>\n      <td>Yes</td>\n      <td>4.0</td>\n      <td>More Than 1500K</td>\n    </tr>\n    <tr>\n      <th>121</th>\n      <td>Private Sector</td>\n      <td>Non-Technical</td>\n      <td>Yes</td>\n      <td>Yes</td>\n      <td>4.0</td>\n      <td>900K-1200K</td>\n    </tr>\n    <tr>\n      <th>119</th>\n      <td>Private Sector</td>\n      <td>Technical</td>\n      <td>No</td>\n      <td>Yes</td>\n      <td>5.0</td>\n      <td>1200K-1500K</td>\n    </tr>\n    <tr>\n      <th>311</th>\n      <td>Private Sector</td>\n      <td>Technical</td>\n      <td>No</td>\n      <td>Yes</td>\n      <td>5.0</td>\n      <td>1200K-1500K</td>\n    </tr>\n    <tr>\n      <th>362</th>\n      <td>Government Sector</td>\n      <td>Art</td>\n      <td>Yes</td>\n      <td>No</td>\n      <td>5.0</td>\n      <td>900K-1200K</td>\n    </tr>\n    <tr>\n      <th>...</th>\n      <td>...</td>\n      <td>...</td>\n      <td>...</td>\n      <td>...</td>\n      <td>...</td>\n      <td>...</td>\n    </tr>\n    <tr>\n      <th>387</th>\n      <td>Private Sector</td>\n      <td>Non-Technical</td>\n      <td>Yes</td>\n      <td>Yes</td>\n      <td>4.0</td>\n      <td>More Than 1500K</td>\n    </tr>\n    <tr>\n      <th>59</th>\n      <td>Entrepreneurship</td>\n      <td>Non-Technical</td>\n      <td>Yes</td>\n      <td>No</td>\n      <td>6.0</td>\n      <td>900K-1200K</td>\n    </tr>\n    <tr>\n      <th>14</th>\n      <td>Private Sector</td>\n      <td>Non-Technical</td>\n      <td>Yes</td>\n      <td>Yes</td>\n      <td>4.0</td>\n      <td>More Than 1500K</td>\n    </tr>\n    <tr>\n      <th>87</th>\n      <td>Private Sector</td>\n      <td>Non-Technical</td>\n      <td>Yes</td>\n      <td>Yes</td>\n      <td>4.0</td>\n      <td>900K-1200K</td>\n    </tr>\n    <tr>\n      <th>291</th>\n      <td>Entrepreneurship</td>\n      <td>Art</td>\n      <td>No</td>\n      <td>Yes</td>\n      <td>6.0</td>\n      <td>1200K-1500K</td>\n    </tr>\n  </tbody>\n</table>\n<p>324 rows × 6 columns</p>\n</div>"
     },
     "metadata": {},
     "execution_count": 329
    }
   ],
   "source": [
    "train_df"
   ]
  },
  {
   "cell_type": "code",
   "execution_count": 330,
   "metadata": {},
   "outputs": [
    {
     "output_type": "stream",
     "name": "stdout",
     "text": [
      "<class 'pandas.core.frame.DataFrame'>\nInt64Index: 36 entries, 170 to 289\nData columns (total 6 columns):\n #   Column                 Non-Null Count  Dtype  \n---  ------                 --------------  -----  \n 0   Employment Sector      36 non-null     object \n 1   Employment Background  36 non-null     object \n 2   Public Dealing         36 non-null     object \n 3   Degree                 36 non-null     object \n 4   IdealNumberOfWorkdays  36 non-null     float64\n 5   IdealYearlyIncome      36 non-null     object \ndtypes: float64(1), object(5)\nmemory usage: 2.0+ KB\n"
     ]
    }
   ],
   "source": [
    "val_df.info()"
   ]
  },
  {
   "source": [
    "## Identifying input and taregt cols"
   ],
   "cell_type": "markdown",
   "metadata": {}
  },
  {
   "cell_type": "code",
   "execution_count": 331,
   "metadata": {},
   "outputs": [],
   "source": [
    "input_cols=list(raw_df.columns)[0:-1]"
   ]
  },
  {
   "cell_type": "code",
   "execution_count": 332,
   "metadata": {},
   "outputs": [
    {
     "output_type": "execute_result",
     "data": {
      "text/plain": [
       "['Employment Sector',\n",
       " 'Employment Background',\n",
       " 'Public Dealing',\n",
       " 'Degree',\n",
       " 'IdealNumberOfWorkdays']"
      ]
     },
     "metadata": {},
     "execution_count": 332
    }
   ],
   "source": [
    "input_cols"
   ]
  },
  {
   "cell_type": "code",
   "execution_count": 333,
   "metadata": {},
   "outputs": [],
   "source": [
    "target_col='IdealYearlyIncome'"
   ]
  },
  {
   "cell_type": "code",
   "execution_count": 334,
   "metadata": {},
   "outputs": [],
   "source": [
    "train_inputs=train_df[input_cols].copy()\n",
    "train_targets=train_df[target_col].copy()"
   ]
  },
  {
   "cell_type": "code",
   "execution_count": 335,
   "metadata": {},
   "outputs": [
    {
     "output_type": "execute_result",
     "data": {
      "text/plain": [
       "     Employment Sector Employment Background Public Dealing Degree  \\\n",
       "255     Private Sector             Technical             No    Yes   \n",
       "121     Private Sector         Non-Technical            Yes    Yes   \n",
       "119     Private Sector             Technical             No    Yes   \n",
       "311     Private Sector             Technical             No    Yes   \n",
       "362  Government Sector                   Art            Yes     No   \n",
       "..                 ...                   ...            ...    ...   \n",
       "387     Private Sector         Non-Technical            Yes    Yes   \n",
       "59    Entrepreneurship         Non-Technical            Yes     No   \n",
       "14      Private Sector         Non-Technical            Yes    Yes   \n",
       "87      Private Sector         Non-Technical            Yes    Yes   \n",
       "291   Entrepreneurship                   Art             No    Yes   \n",
       "\n",
       "     IdealNumberOfWorkdays  \n",
       "255                    4.0  \n",
       "121                    4.0  \n",
       "119                    5.0  \n",
       "311                    5.0  \n",
       "362                    5.0  \n",
       "..                     ...  \n",
       "387                    4.0  \n",
       "59                     6.0  \n",
       "14                     4.0  \n",
       "87                     4.0  \n",
       "291                    6.0  \n",
       "\n",
       "[324 rows x 5 columns]"
      ],
      "text/html": "<div>\n<style scoped>\n    .dataframe tbody tr th:only-of-type {\n        vertical-align: middle;\n    }\n\n    .dataframe tbody tr th {\n        vertical-align: top;\n    }\n\n    .dataframe thead th {\n        text-align: right;\n    }\n</style>\n<table border=\"1\" class=\"dataframe\">\n  <thead>\n    <tr style=\"text-align: right;\">\n      <th></th>\n      <th>Employment Sector</th>\n      <th>Employment Background</th>\n      <th>Public Dealing</th>\n      <th>Degree</th>\n      <th>IdealNumberOfWorkdays</th>\n    </tr>\n  </thead>\n  <tbody>\n    <tr>\n      <th>255</th>\n      <td>Private Sector</td>\n      <td>Technical</td>\n      <td>No</td>\n      <td>Yes</td>\n      <td>4.0</td>\n    </tr>\n    <tr>\n      <th>121</th>\n      <td>Private Sector</td>\n      <td>Non-Technical</td>\n      <td>Yes</td>\n      <td>Yes</td>\n      <td>4.0</td>\n    </tr>\n    <tr>\n      <th>119</th>\n      <td>Private Sector</td>\n      <td>Technical</td>\n      <td>No</td>\n      <td>Yes</td>\n      <td>5.0</td>\n    </tr>\n    <tr>\n      <th>311</th>\n      <td>Private Sector</td>\n      <td>Technical</td>\n      <td>No</td>\n      <td>Yes</td>\n      <td>5.0</td>\n    </tr>\n    <tr>\n      <th>362</th>\n      <td>Government Sector</td>\n      <td>Art</td>\n      <td>Yes</td>\n      <td>No</td>\n      <td>5.0</td>\n    </tr>\n    <tr>\n      <th>...</th>\n      <td>...</td>\n      <td>...</td>\n      <td>...</td>\n      <td>...</td>\n      <td>...</td>\n    </tr>\n    <tr>\n      <th>387</th>\n      <td>Private Sector</td>\n      <td>Non-Technical</td>\n      <td>Yes</td>\n      <td>Yes</td>\n      <td>4.0</td>\n    </tr>\n    <tr>\n      <th>59</th>\n      <td>Entrepreneurship</td>\n      <td>Non-Technical</td>\n      <td>Yes</td>\n      <td>No</td>\n      <td>6.0</td>\n    </tr>\n    <tr>\n      <th>14</th>\n      <td>Private Sector</td>\n      <td>Non-Technical</td>\n      <td>Yes</td>\n      <td>Yes</td>\n      <td>4.0</td>\n    </tr>\n    <tr>\n      <th>87</th>\n      <td>Private Sector</td>\n      <td>Non-Technical</td>\n      <td>Yes</td>\n      <td>Yes</td>\n      <td>4.0</td>\n    </tr>\n    <tr>\n      <th>291</th>\n      <td>Entrepreneurship</td>\n      <td>Art</td>\n      <td>No</td>\n      <td>Yes</td>\n      <td>6.0</td>\n    </tr>\n  </tbody>\n</table>\n<p>324 rows × 5 columns</p>\n</div>"
     },
     "metadata": {},
     "execution_count": 335
    }
   ],
   "source": [
    "train_inputs"
   ]
  },
  {
   "cell_type": "code",
   "execution_count": 336,
   "metadata": {},
   "outputs": [],
   "source": [
    "val_inputs=val_df[input_cols].copy()\n",
    "val_targets=val_df[target_col].copy()"
   ]
  },
  {
   "cell_type": "code",
   "execution_count": 337,
   "metadata": {},
   "outputs": [],
   "source": [
    "test_inputs=test_df[input_cols].copy()\n",
    "test_targets=test_df[target_col].copy()"
   ]
  },
  {
   "cell_type": "code",
   "execution_count": 261,
   "metadata": {},
   "outputs": [],
   "source": [
    "#Identifying numeric and categorcial column"
   ]
  },
  {
   "cell_type": "code",
   "execution_count": 338,
   "metadata": {},
   "outputs": [],
   "source": [
    "import numpy as np "
   ]
  },
  {
   "cell_type": "code",
   "execution_count": 339,
   "metadata": {},
   "outputs": [],
   "source": [
    "numeric_cols=train_inputs.select_dtypes(include=np.number).columns.tolist()\n",
    "categorical_cols=train_inputs.select_dtypes('object').columns.tolist()"
   ]
  },
  {
   "cell_type": "code",
   "execution_count": 340,
   "metadata": {},
   "outputs": [
    {
     "output_type": "execute_result",
     "data": {
      "text/plain": [
       "     IdealNumberOfWorkdays\n",
       "255                    4.0\n",
       "121                    4.0\n",
       "119                    5.0\n",
       "311                    5.0\n",
       "362                    5.0\n",
       "..                     ...\n",
       "387                    4.0\n",
       "59                     6.0\n",
       "14                     4.0\n",
       "87                     4.0\n",
       "291                    6.0\n",
       "\n",
       "[324 rows x 1 columns]"
      ],
      "text/html": "<div>\n<style scoped>\n    .dataframe tbody tr th:only-of-type {\n        vertical-align: middle;\n    }\n\n    .dataframe tbody tr th {\n        vertical-align: top;\n    }\n\n    .dataframe thead th {\n        text-align: right;\n    }\n</style>\n<table border=\"1\" class=\"dataframe\">\n  <thead>\n    <tr style=\"text-align: right;\">\n      <th></th>\n      <th>IdealNumberOfWorkdays</th>\n    </tr>\n  </thead>\n  <tbody>\n    <tr>\n      <th>255</th>\n      <td>4.0</td>\n    </tr>\n    <tr>\n      <th>121</th>\n      <td>4.0</td>\n    </tr>\n    <tr>\n      <th>119</th>\n      <td>5.0</td>\n    </tr>\n    <tr>\n      <th>311</th>\n      <td>5.0</td>\n    </tr>\n    <tr>\n      <th>362</th>\n      <td>5.0</td>\n    </tr>\n    <tr>\n      <th>...</th>\n      <td>...</td>\n    </tr>\n    <tr>\n      <th>387</th>\n      <td>4.0</td>\n    </tr>\n    <tr>\n      <th>59</th>\n      <td>6.0</td>\n    </tr>\n    <tr>\n      <th>14</th>\n      <td>4.0</td>\n    </tr>\n    <tr>\n      <th>87</th>\n      <td>4.0</td>\n    </tr>\n    <tr>\n      <th>291</th>\n      <td>6.0</td>\n    </tr>\n  </tbody>\n</table>\n<p>324 rows × 1 columns</p>\n</div>"
     },
     "metadata": {},
     "execution_count": 340
    }
   ],
   "source": [
    "train_inputs[numric_cols]"
   ]
  },
  {
   "source": [
    "## Scaling Numeric features"
   ],
   "cell_type": "markdown",
   "metadata": {}
  },
  {
   "cell_type": "code",
   "execution_count": 341,
   "metadata": {},
   "outputs": [],
   "source": [
    "from sklearn.preprocessing import StandardScaler,OneHotEncoder"
   ]
  },
  {
   "cell_type": "code",
   "execution_count": 342,
   "metadata": {},
   "outputs": [],
   "source": [
    "scaler=StandardScaler()"
   ]
  },
  {
   "cell_type": "code",
   "execution_count": 343,
   "metadata": {},
   "outputs": [
    {
     "output_type": "execute_result",
     "data": {
      "text/plain": [
       "StandardScaler()"
      ]
     },
     "metadata": {},
     "execution_count": 343
    }
   ],
   "source": [
    "scaler.fit(raw_df[numeric_cols])"
   ]
  },
  {
   "cell_type": "code",
   "execution_count": 344,
   "metadata": {},
   "outputs": [],
   "source": [
    "train_inputs[numeric_cols]=scaler.transform(train_inputs[numeric_cols])\n",
    "val_inputs[numeric_cols]=scaler.transform(val_inputs[numeric_cols])\n",
    "test_inputs[numeric_cols]=scaler.transform(test_inputs[numeric_cols])"
   ]
  },
  {
   "source": [
    "## Encoding categrorcial data"
   ],
   "cell_type": "markdown",
   "metadata": {}
  },
  {
   "cell_type": "code",
   "execution_count": 345,
   "metadata": {},
   "outputs": [
    {
     "output_type": "execute_result",
     "data": {
      "text/plain": [
       "Employment Sector        3\n",
       "Employment Background    3\n",
       "Public Dealing           2\n",
       "Degree                   2\n",
       "dtype: int64"
      ]
     },
     "metadata": {},
     "execution_count": 345
    }
   ],
   "source": [
    "raw_df[categorical_cols].nunique()"
   ]
  },
  {
   "cell_type": "code",
   "execution_count": 304,
   "metadata": {},
   "outputs": [],
   "source": [
    "encoder=OneHotEncoder(sparse=False,handle_unknown='ignore')"
   ]
  },
  {
   "cell_type": "code",
   "execution_count": 346,
   "metadata": {},
   "outputs": [
    {
     "output_type": "execute_result",
     "data": {
      "text/plain": [
       "OneHotEncoder(handle_unknown='ignore', sparse=False)"
      ]
     },
     "metadata": {},
     "execution_count": 346
    }
   ],
   "source": [
    "encoder.fit(raw_df[categorical_cols])"
   ]
  },
  {
   "cell_type": "code",
   "execution_count": 347,
   "metadata": {},
   "outputs": [],
   "source": [
    "encoded_cols=list(encoder.get_feature_names(categorical_cols))\n"
   ]
  },
  {
   "cell_type": "code",
   "execution_count": 348,
   "metadata": {},
   "outputs": [],
   "source": [
    "train_inputs[encoded_cols]=encoder.transform(train_inputs[categorical_cols].fillna('Unknown'))\n",
    "val_inputs[encoded_cols]=encoder.transform(val_inputs[categorical_cols].fillna('Unknown'))\n",
    "test_inputs[encoded_cols]=encoder.transform(test_inputs[categorical_cols].fillna('Unknown'))"
   ]
  },
  {
   "cell_type": "code",
   "execution_count": 308,
   "metadata": {},
   "outputs": [
    {
     "output_type": "execute_result",
     "data": {
      "text/plain": [
       "     Employment Sector Employment Background Public Dealing Degree  \\\n",
       "96   Government Sector         Non-Technical             No     No   \n",
       "277     Private Sector             Technical             No    Yes   \n",
       "307  Government Sector         Non-Technical            Yes    Yes   \n",
       "337  Government Sector         Non-Technical             No     No   \n",
       "248  Government Sector         Non-Technical            Yes     No   \n",
       "..                 ...                   ...            ...    ...   \n",
       "221     Private Sector         Non-Technical            Yes    Yes   \n",
       "333  Government Sector         Non-Technical            Yes    Yes   \n",
       "324   Entrepreneurship             Technical             No    Yes   \n",
       "315     Private Sector         Non-Technical             No    Yes   \n",
       "122   Entrepreneurship                   Art            Yes    Yes   \n",
       "\n",
       "     IdealNumberOfWorkdays  Employment Sector_Entrepreneurship  \\\n",
       "96                0.121121                                 0.0   \n",
       "277               0.121121                                 0.0   \n",
       "307              -1.121145                                 0.0   \n",
       "337               0.121121                                 0.0   \n",
       "248              -1.121145                                 0.0   \n",
       "..                     ...                                 ...   \n",
       "221              -1.121145                                 0.0   \n",
       "333              -1.121145                                 0.0   \n",
       "324               0.121121                                 1.0   \n",
       "315               0.121121                                 0.0   \n",
       "122               2.605653                                 1.0   \n",
       "\n",
       "     Employment Sector_Government Sector  Employment Sector_Private Sector  \\\n",
       "96                                   1.0                               0.0   \n",
       "277                                  0.0                               1.0   \n",
       "307                                  1.0                               0.0   \n",
       "337                                  1.0                               0.0   \n",
       "248                                  1.0                               0.0   \n",
       "..                                   ...                               ...   \n",
       "221                                  0.0                               1.0   \n",
       "333                                  1.0                               0.0   \n",
       "324                                  0.0                               0.0   \n",
       "315                                  0.0                               1.0   \n",
       "122                                  0.0                               0.0   \n",
       "\n",
       "     Employment Background_Art  Employment Background_Non-Technical  \\\n",
       "96                         0.0                                  1.0   \n",
       "277                        0.0                                  0.0   \n",
       "307                        0.0                                  1.0   \n",
       "337                        0.0                                  1.0   \n",
       "248                        0.0                                  1.0   \n",
       "..                         ...                                  ...   \n",
       "221                        0.0                                  1.0   \n",
       "333                        0.0                                  1.0   \n",
       "324                        0.0                                  0.0   \n",
       "315                        0.0                                  1.0   \n",
       "122                        1.0                                  0.0   \n",
       "\n",
       "     Employment Background_Technical  Public Dealing_No  Public Dealing_Yes  \\\n",
       "96                               0.0                1.0                 0.0   \n",
       "277                              1.0                1.0                 0.0   \n",
       "307                              0.0                0.0                 1.0   \n",
       "337                              0.0                1.0                 0.0   \n",
       "248                              0.0                0.0                 1.0   \n",
       "..                               ...                ...                 ...   \n",
       "221                              0.0                0.0                 1.0   \n",
       "333                              0.0                0.0                 1.0   \n",
       "324                              1.0                1.0                 0.0   \n",
       "315                              0.0                1.0                 0.0   \n",
       "122                              0.0                0.0                 1.0   \n",
       "\n",
       "     Degree_No  Degree_Yes  \n",
       "96         1.0         0.0  \n",
       "277        0.0         1.0  \n",
       "307        0.0         1.0  \n",
       "337        1.0         0.0  \n",
       "248        1.0         0.0  \n",
       "..         ...         ...  \n",
       "221        0.0         1.0  \n",
       "333        0.0         1.0  \n",
       "324        0.0         1.0  \n",
       "315        0.0         1.0  \n",
       "122        0.0         1.0  \n",
       "\n",
       "[240 rows x 15 columns]"
      ],
      "text/html": "<div>\n<style scoped>\n    .dataframe tbody tr th:only-of-type {\n        vertical-align: middle;\n    }\n\n    .dataframe tbody tr th {\n        vertical-align: top;\n    }\n\n    .dataframe thead th {\n        text-align: right;\n    }\n</style>\n<table border=\"1\" class=\"dataframe\">\n  <thead>\n    <tr style=\"text-align: right;\">\n      <th></th>\n      <th>Employment Sector</th>\n      <th>Employment Background</th>\n      <th>Public Dealing</th>\n      <th>Degree</th>\n      <th>IdealNumberOfWorkdays</th>\n      <th>Employment Sector_Entrepreneurship</th>\n      <th>Employment Sector_Government Sector</th>\n      <th>Employment Sector_Private Sector</th>\n      <th>Employment Background_Art</th>\n      <th>Employment Background_Non-Technical</th>\n      <th>Employment Background_Technical</th>\n      <th>Public Dealing_No</th>\n      <th>Public Dealing_Yes</th>\n      <th>Degree_No</th>\n      <th>Degree_Yes</th>\n    </tr>\n  </thead>\n  <tbody>\n    <tr>\n      <th>96</th>\n      <td>Government Sector</td>\n      <td>Non-Technical</td>\n      <td>No</td>\n      <td>No</td>\n      <td>0.121121</td>\n      <td>0.0</td>\n      <td>1.0</td>\n      <td>0.0</td>\n      <td>0.0</td>\n      <td>1.0</td>\n      <td>0.0</td>\n      <td>1.0</td>\n      <td>0.0</td>\n      <td>1.0</td>\n      <td>0.0</td>\n    </tr>\n    <tr>\n      <th>277</th>\n      <td>Private Sector</td>\n      <td>Technical</td>\n      <td>No</td>\n      <td>Yes</td>\n      <td>0.121121</td>\n      <td>0.0</td>\n      <td>0.0</td>\n      <td>1.0</td>\n      <td>0.0</td>\n      <td>0.0</td>\n      <td>1.0</td>\n      <td>1.0</td>\n      <td>0.0</td>\n      <td>0.0</td>\n      <td>1.0</td>\n    </tr>\n    <tr>\n      <th>307</th>\n      <td>Government Sector</td>\n      <td>Non-Technical</td>\n      <td>Yes</td>\n      <td>Yes</td>\n      <td>-1.121145</td>\n      <td>0.0</td>\n      <td>1.0</td>\n      <td>0.0</td>\n      <td>0.0</td>\n      <td>1.0</td>\n      <td>0.0</td>\n      <td>0.0</td>\n      <td>1.0</td>\n      <td>0.0</td>\n      <td>1.0</td>\n    </tr>\n    <tr>\n      <th>337</th>\n      <td>Government Sector</td>\n      <td>Non-Technical</td>\n      <td>No</td>\n      <td>No</td>\n      <td>0.121121</td>\n      <td>0.0</td>\n      <td>1.0</td>\n      <td>0.0</td>\n      <td>0.0</td>\n      <td>1.0</td>\n      <td>0.0</td>\n      <td>1.0</td>\n      <td>0.0</td>\n      <td>1.0</td>\n      <td>0.0</td>\n    </tr>\n    <tr>\n      <th>248</th>\n      <td>Government Sector</td>\n      <td>Non-Technical</td>\n      <td>Yes</td>\n      <td>No</td>\n      <td>-1.121145</td>\n      <td>0.0</td>\n      <td>1.0</td>\n      <td>0.0</td>\n      <td>0.0</td>\n      <td>1.0</td>\n      <td>0.0</td>\n      <td>0.0</td>\n      <td>1.0</td>\n      <td>1.0</td>\n      <td>0.0</td>\n    </tr>\n    <tr>\n      <th>...</th>\n      <td>...</td>\n      <td>...</td>\n      <td>...</td>\n      <td>...</td>\n      <td>...</td>\n      <td>...</td>\n      <td>...</td>\n      <td>...</td>\n      <td>...</td>\n      <td>...</td>\n      <td>...</td>\n      <td>...</td>\n      <td>...</td>\n      <td>...</td>\n      <td>...</td>\n    </tr>\n    <tr>\n      <th>221</th>\n      <td>Private Sector</td>\n      <td>Non-Technical</td>\n      <td>Yes</td>\n      <td>Yes</td>\n      <td>-1.121145</td>\n      <td>0.0</td>\n      <td>0.0</td>\n      <td>1.0</td>\n      <td>0.0</td>\n      <td>1.0</td>\n      <td>0.0</td>\n      <td>0.0</td>\n      <td>1.0</td>\n      <td>0.0</td>\n      <td>1.0</td>\n    </tr>\n    <tr>\n      <th>333</th>\n      <td>Government Sector</td>\n      <td>Non-Technical</td>\n      <td>Yes</td>\n      <td>Yes</td>\n      <td>-1.121145</td>\n      <td>0.0</td>\n      <td>1.0</td>\n      <td>0.0</td>\n      <td>0.0</td>\n      <td>1.0</td>\n      <td>0.0</td>\n      <td>0.0</td>\n      <td>1.0</td>\n      <td>0.0</td>\n      <td>1.0</td>\n    </tr>\n    <tr>\n      <th>324</th>\n      <td>Entrepreneurship</td>\n      <td>Technical</td>\n      <td>No</td>\n      <td>Yes</td>\n      <td>0.121121</td>\n      <td>1.0</td>\n      <td>0.0</td>\n      <td>0.0</td>\n      <td>0.0</td>\n      <td>0.0</td>\n      <td>1.0</td>\n      <td>1.0</td>\n      <td>0.0</td>\n      <td>0.0</td>\n      <td>1.0</td>\n    </tr>\n    <tr>\n      <th>315</th>\n      <td>Private Sector</td>\n      <td>Non-Technical</td>\n      <td>No</td>\n      <td>Yes</td>\n      <td>0.121121</td>\n      <td>0.0</td>\n      <td>0.0</td>\n      <td>1.0</td>\n      <td>0.0</td>\n      <td>1.0</td>\n      <td>0.0</td>\n      <td>1.0</td>\n      <td>0.0</td>\n      <td>0.0</td>\n      <td>1.0</td>\n    </tr>\n    <tr>\n      <th>122</th>\n      <td>Entrepreneurship</td>\n      <td>Art</td>\n      <td>Yes</td>\n      <td>Yes</td>\n      <td>2.605653</td>\n      <td>1.0</td>\n      <td>0.0</td>\n      <td>0.0</td>\n      <td>1.0</td>\n      <td>0.0</td>\n      <td>0.0</td>\n      <td>0.0</td>\n      <td>1.0</td>\n      <td>0.0</td>\n      <td>1.0</td>\n    </tr>\n  </tbody>\n</table>\n<p>240 rows × 15 columns</p>\n</div>"
     },
     "metadata": {},
     "execution_count": 308
    }
   ],
   "source": [
    "train_inputs"
   ]
  },
  {
   "cell_type": "code",
   "execution_count": null,
   "metadata": {},
   "outputs": [],
   "source": []
  },
  {
   "source": [
    "## Training the model"
   ],
   "cell_type": "markdown",
   "metadata": {}
  },
  {
   "cell_type": "code",
   "execution_count": 309,
   "metadata": {},
   "outputs": [],
   "source": [
    "from sklearn.linear_model import LogisticRegression"
   ]
  },
  {
   "cell_type": "code",
   "execution_count": 349,
   "metadata": {},
   "outputs": [],
   "source": [
    "model=LogisticRegression(solver='liblinear')"
   ]
  },
  {
   "cell_type": "code",
   "execution_count": 350,
   "metadata": {},
   "outputs": [
    {
     "output_type": "execute_result",
     "data": {
      "text/plain": [
       "LogisticRegression(solver='liblinear')"
      ]
     },
     "metadata": {},
     "execution_count": 350
    }
   ],
   "source": [
    "model.fit(train_inputs[numeric_cols+encoded_cols],train_targets)"
   ]
  },
  {
   "cell_type": "code",
   "execution_count": 351,
   "metadata": {},
   "outputs": [],
   "source": [
    "\n",
    "n=len(model.coef_.tolist())\n",
    "weight_df=pd.DataFrame({\n",
    "    'feature':(numeric_cols+encoded_cols),\n",
    "    'weight':model.coef_.tolist()[0]\n",
    "\n",
    "})"
   ]
  },
  {
   "cell_type": "code",
   "execution_count": 352,
   "metadata": {},
   "outputs": [
    {
     "output_type": "execute_result",
     "data": {
      "text/plain": [
       "                                feature    weight\n",
       "0                 IdealNumberOfWorkdays  1.841555\n",
       "1    Employment Sector_Entrepreneurship -1.714188\n",
       "2   Employment Sector_Government Sector -0.327305\n",
       "3      Employment Sector_Private Sector  1.492806\n",
       "4             Employment Background_Art  0.046058\n",
       "5   Employment Background_Non-Technical -0.202146\n",
       "6       Employment Background_Technical -0.392599\n",
       "7                     Public Dealing_No -0.269390\n",
       "8                    Public Dealing_Yes -0.279296\n",
       "9                             Degree_No  0.065875\n",
       "10                           Degree_Yes -0.614561"
      ],
      "text/html": "<div>\n<style scoped>\n    .dataframe tbody tr th:only-of-type {\n        vertical-align: middle;\n    }\n\n    .dataframe tbody tr th {\n        vertical-align: top;\n    }\n\n    .dataframe thead th {\n        text-align: right;\n    }\n</style>\n<table border=\"1\" class=\"dataframe\">\n  <thead>\n    <tr style=\"text-align: right;\">\n      <th></th>\n      <th>feature</th>\n      <th>weight</th>\n    </tr>\n  </thead>\n  <tbody>\n    <tr>\n      <th>0</th>\n      <td>IdealNumberOfWorkdays</td>\n      <td>1.841555</td>\n    </tr>\n    <tr>\n      <th>1</th>\n      <td>Employment Sector_Entrepreneurship</td>\n      <td>-1.714188</td>\n    </tr>\n    <tr>\n      <th>2</th>\n      <td>Employment Sector_Government Sector</td>\n      <td>-0.327305</td>\n    </tr>\n    <tr>\n      <th>3</th>\n      <td>Employment Sector_Private Sector</td>\n      <td>1.492806</td>\n    </tr>\n    <tr>\n      <th>4</th>\n      <td>Employment Background_Art</td>\n      <td>0.046058</td>\n    </tr>\n    <tr>\n      <th>5</th>\n      <td>Employment Background_Non-Technical</td>\n      <td>-0.202146</td>\n    </tr>\n    <tr>\n      <th>6</th>\n      <td>Employment Background_Technical</td>\n      <td>-0.392599</td>\n    </tr>\n    <tr>\n      <th>7</th>\n      <td>Public Dealing_No</td>\n      <td>-0.269390</td>\n    </tr>\n    <tr>\n      <th>8</th>\n      <td>Public Dealing_Yes</td>\n      <td>-0.279296</td>\n    </tr>\n    <tr>\n      <th>9</th>\n      <td>Degree_No</td>\n      <td>0.065875</td>\n    </tr>\n    <tr>\n      <th>10</th>\n      <td>Degree_Yes</td>\n      <td>-0.614561</td>\n    </tr>\n  </tbody>\n</table>\n</div>"
     },
     "metadata": {},
     "execution_count": 352
    }
   ],
   "source": [
    "weight_df"
   ]
  },
  {
   "cell_type": "code",
   "execution_count": 353,
   "metadata": {},
   "outputs": [
    {
     "output_type": "execute_result",
     "data": {
      "text/plain": [
       "<AxesSubplot:xlabel='weight', ylabel='feature'>"
      ]
     },
     "metadata": {},
     "execution_count": 353
    },
    {
     "output_type": "display_data",
     "data": {
      "text/plain": "<Figure size 1152x864 with 1 Axes>",
      "image/svg+xml": "<?xml version=\"1.0\" encoding=\"utf-8\" standalone=\"no\"?>\r\n<!DOCTYPE svg PUBLIC \"-//W3C//DTD SVG 1.1//EN\"\r\n  \"http://www.w3.org/Graphics/SVG/1.1/DTD/svg11.dtd\">\r\n<!-- Created with matplotlib (https://matplotlib.org/) -->\r\n<svg height=\"703.490938pt\" version=\"1.1\" viewBox=\"0 0 1183.891562 703.490938\" width=\"1183.891562pt\" xmlns=\"http://www.w3.org/2000/svg\" xmlns:xlink=\"http://www.w3.org/1999/xlink\">\r\n <metadata>\r\n  <rdf:RDF xmlns:cc=\"http://creativecommons.org/ns#\" xmlns:dc=\"http://purl.org/dc/elements/1.1/\" xmlns:rdf=\"http://www.w3.org/1999/02/22-rdf-syntax-ns#\">\r\n   <cc:Work>\r\n    <dc:type rdf:resource=\"http://purl.org/dc/dcmitype/StillImage\"/>\r\n    <dc:date>2021-06-30T14:07:16.510879</dc:date>\r\n    <dc:format>image/svg+xml</dc:format>\r\n    <dc:creator>\r\n     <cc:Agent>\r\n      <dc:title>Matplotlib v3.3.2, https://matplotlib.org/</dc:title>\r\n     </cc:Agent>\r\n    </dc:creator>\r\n   </cc:Work>\r\n  </rdf:RDF>\r\n </metadata>\r\n <defs>\r\n  <style type=\"text/css\">*{stroke-linecap:butt;stroke-linejoin:round;}</style>\r\n </defs>\r\n <g id=\"figure_1\">\r\n  <g id=\"patch_1\">\r\n   <path d=\"M 0 703.490938 \r\nL 1183.891562 703.490938 \r\nL 1183.891562 0 \r\nL 0 0 \r\nz\r\n\" style=\"fill:none;\"/>\r\n  </g>\r\n  <g id=\"axes_1\">\r\n   <g id=\"patch_2\">\r\n    <path d=\"M 283.891563 659.52 \r\nL 1176.691562 659.52 \r\nL 1176.691562 7.2 \r\nL 283.891563 7.2 \r\nz\r\n\" style=\"fill:#eaeaf2;\"/>\r\n   </g>\r\n   <g id=\"matplotlib.axis_1\">\r\n    <g id=\"xtick_1\">\r\n     <g id=\"line2d_1\">\r\n      <path clip-path=\"url(#p881849aa8f)\" d=\"M 362.330575 659.52 \r\nL 362.330575 7.2 \r\n\" style=\"fill:none;stroke:#ffffff;stroke-linecap:round;stroke-width:0.8;\"/>\r\n     </g>\r\n     <g id=\"text_1\">\r\n      <!-- −0.5 -->\r\n      <g style=\"fill:#262626;\" transform=\"translate(348.512137 676.540938)scale(0.14 -0.14)\">\r\n       <defs>\r\n        <path d=\"M 52.828125 31.203125 \r\nL 5.5625 31.203125 \r\nL 5.5625 39.40625 \r\nL 52.828125 39.40625 \r\nz\r\n\" id=\"ArialMT-8722\"/>\r\n        <path d=\"M 4.15625 35.296875 \r\nQ 4.15625 48 6.765625 55.734375 \r\nQ 9.375 63.484375 14.515625 67.671875 \r\nQ 19.671875 71.875 27.484375 71.875 \r\nQ 33.25 71.875 37.59375 69.546875 \r\nQ 41.9375 67.234375 44.765625 62.859375 \r\nQ 47.609375 58.5 49.21875 52.21875 \r\nQ 50.828125 45.953125 50.828125 35.296875 \r\nQ 50.828125 22.703125 48.234375 14.96875 \r\nQ 45.65625 7.234375 40.5 3 \r\nQ 35.359375 -1.21875 27.484375 -1.21875 \r\nQ 17.140625 -1.21875 11.234375 6.203125 \r\nQ 4.15625 15.140625 4.15625 35.296875 \r\nz\r\nM 13.1875 35.296875 \r\nQ 13.1875 17.671875 17.3125 11.828125 \r\nQ 21.4375 6 27.484375 6 \r\nQ 33.546875 6 37.671875 11.859375 \r\nQ 41.796875 17.71875 41.796875 35.296875 \r\nQ 41.796875 52.984375 37.671875 58.78125 \r\nQ 33.546875 64.59375 27.390625 64.59375 \r\nQ 21.34375 64.59375 17.71875 59.46875 \r\nQ 13.1875 52.9375 13.1875 35.296875 \r\nz\r\n\" id=\"ArialMT-48\"/>\r\n        <path d=\"M 9.078125 0 \r\nL 9.078125 10.015625 \r\nL 19.09375 10.015625 \r\nL 19.09375 0 \r\nz\r\n\" id=\"ArialMT-46\"/>\r\n        <path d=\"M 4.15625 18.75 \r\nL 13.375 19.53125 \r\nQ 14.40625 12.796875 18.140625 9.390625 \r\nQ 21.875 6 27.15625 6 \r\nQ 33.5 6 37.890625 10.78125 \r\nQ 42.28125 15.578125 42.28125 23.484375 \r\nQ 42.28125 31 38.0625 35.34375 \r\nQ 33.84375 39.703125 27 39.703125 \r\nQ 22.75 39.703125 19.328125 37.765625 \r\nQ 15.921875 35.84375 13.96875 32.765625 \r\nL 5.71875 33.84375 \r\nL 12.640625 70.609375 \r\nL 48.25 70.609375 \r\nL 48.25 62.203125 \r\nL 19.671875 62.203125 \r\nL 15.828125 42.96875 \r\nQ 22.265625 47.46875 29.34375 47.46875 \r\nQ 38.71875 47.46875 45.15625 40.96875 \r\nQ 51.609375 34.46875 51.609375 24.265625 \r\nQ 51.609375 14.546875 45.953125 7.46875 \r\nQ 39.0625 -1.21875 27.15625 -1.21875 \r\nQ 17.390625 -1.21875 11.203125 4.25 \r\nQ 5.03125 9.71875 4.15625 18.75 \r\nz\r\n\" id=\"ArialMT-53\"/>\r\n       </defs>\r\n       <use xlink:href=\"#ArialMT-8722\"/>\r\n       <use x=\"58.398438\" xlink:href=\"#ArialMT-48\"/>\r\n       <use x=\"114.013672\" xlink:href=\"#ArialMT-46\"/>\r\n       <use x=\"141.796875\" xlink:href=\"#ArialMT-53\"/>\r\n      </g>\r\n     </g>\r\n    </g>\r\n    <g id=\"xtick_2\">\r\n     <g id=\"line2d_2\">\r\n      <path clip-path=\"url(#p881849aa8f)\" d=\"M 527.558175 659.52 \r\nL 527.558175 7.2 \r\n\" style=\"fill:none;stroke:#ffffff;stroke-linecap:round;stroke-width:0.8;\"/>\r\n     </g>\r\n     <g id=\"text_2\">\r\n      <!-- 0.0 -->\r\n      <g style=\"fill:#262626;\" transform=\"translate(517.828175 676.540938)scale(0.14 -0.14)\">\r\n       <use xlink:href=\"#ArialMT-48\"/>\r\n       <use x=\"55.615234\" xlink:href=\"#ArialMT-46\"/>\r\n       <use x=\"83.398438\" xlink:href=\"#ArialMT-48\"/>\r\n      </g>\r\n     </g>\r\n    </g>\r\n    <g id=\"xtick_3\">\r\n     <g id=\"line2d_3\">\r\n      <path clip-path=\"url(#p881849aa8f)\" d=\"M 692.785776 659.52 \r\nL 692.785776 7.2 \r\n\" style=\"fill:none;stroke:#ffffff;stroke-linecap:round;stroke-width:0.8;\"/>\r\n     </g>\r\n     <g id=\"text_3\">\r\n      <!-- 0.5 -->\r\n      <g style=\"fill:#262626;\" transform=\"translate(683.055776 676.540938)scale(0.14 -0.14)\">\r\n       <use xlink:href=\"#ArialMT-48\"/>\r\n       <use x=\"55.615234\" xlink:href=\"#ArialMT-46\"/>\r\n       <use x=\"83.398438\" xlink:href=\"#ArialMT-53\"/>\r\n      </g>\r\n     </g>\r\n    </g>\r\n    <g id=\"xtick_4\">\r\n     <g id=\"line2d_4\">\r\n      <path clip-path=\"url(#p881849aa8f)\" d=\"M 858.013377 659.52 \r\nL 858.013377 7.2 \r\n\" style=\"fill:none;stroke:#ffffff;stroke-linecap:round;stroke-width:0.8;\"/>\r\n     </g>\r\n     <g id=\"text_4\">\r\n      <!-- 1.0 -->\r\n      <g style=\"fill:#262626;\" transform=\"translate(848.283377 676.540938)scale(0.14 -0.14)\">\r\n       <defs>\r\n        <path d=\"M 37.25 0 \r\nL 28.46875 0 \r\nL 28.46875 56 \r\nQ 25.296875 52.984375 20.140625 49.953125 \r\nQ 14.984375 46.921875 10.890625 45.40625 \r\nL 10.890625 53.90625 \r\nQ 18.265625 57.375 23.78125 62.296875 \r\nQ 29.296875 67.234375 31.59375 71.875 \r\nL 37.25 71.875 \r\nz\r\n\" id=\"ArialMT-49\"/>\r\n       </defs>\r\n       <use xlink:href=\"#ArialMT-49\"/>\r\n       <use x=\"55.615234\" xlink:href=\"#ArialMT-46\"/>\r\n       <use x=\"83.398438\" xlink:href=\"#ArialMT-48\"/>\r\n      </g>\r\n     </g>\r\n    </g>\r\n    <g id=\"xtick_5\">\r\n     <g id=\"line2d_5\">\r\n      <path clip-path=\"url(#p881849aa8f)\" d=\"M 1023.240978 659.52 \r\nL 1023.240978 7.2 \r\n\" style=\"fill:none;stroke:#ffffff;stroke-linecap:round;stroke-width:0.8;\"/>\r\n     </g>\r\n     <g id=\"text_5\">\r\n      <!-- 1.5 -->\r\n      <g style=\"fill:#262626;\" transform=\"translate(1013.510978 676.540938)scale(0.14 -0.14)\">\r\n       <use xlink:href=\"#ArialMT-49\"/>\r\n       <use x=\"55.615234\" xlink:href=\"#ArialMT-46\"/>\r\n       <use x=\"83.398438\" xlink:href=\"#ArialMT-53\"/>\r\n      </g>\r\n     </g>\r\n    </g>\r\n    <g id=\"text_6\">\r\n     <!-- weight -->\r\n     <g style=\"fill:#262626;\" transform=\"translate(710.058281 693.344375)scale(0.14 -0.14)\">\r\n      <defs>\r\n       <path d=\"M 16.15625 0 \r\nL 0.296875 51.859375 \r\nL 9.375 51.859375 \r\nL 17.625 21.921875 \r\nL 20.703125 10.796875 \r\nQ 20.90625 11.625 23.390625 21.484375 \r\nL 31.640625 51.859375 \r\nL 40.671875 51.859375 \r\nL 48.4375 21.78125 \r\nL 51.03125 11.859375 \r\nL 54 21.875 \r\nL 62.890625 51.859375 \r\nL 71.4375 51.859375 \r\nL 55.21875 0 \r\nL 46.09375 0 \r\nL 37.84375 31.0625 \r\nL 35.84375 39.890625 \r\nL 25.34375 0 \r\nz\r\n\" id=\"ArialMT-119\"/>\r\n       <path d=\"M 42.09375 16.703125 \r\nL 51.171875 15.578125 \r\nQ 49.03125 7.625 43.21875 3.21875 \r\nQ 37.40625 -1.171875 28.375 -1.171875 \r\nQ 17 -1.171875 10.328125 5.828125 \r\nQ 3.65625 12.84375 3.65625 25.484375 \r\nQ 3.65625 38.578125 10.390625 45.796875 \r\nQ 17.140625 53.03125 27.875 53.03125 \r\nQ 38.28125 53.03125 44.875 45.953125 \r\nQ 51.46875 38.875 51.46875 26.03125 \r\nQ 51.46875 25.25 51.421875 23.6875 \r\nL 12.75 23.6875 \r\nQ 13.234375 15.140625 17.578125 10.59375 \r\nQ 21.921875 6.0625 28.421875 6.0625 \r\nQ 33.25 6.0625 36.671875 8.59375 \r\nQ 40.09375 11.140625 42.09375 16.703125 \r\nz\r\nM 13.234375 30.90625 \r\nL 42.1875 30.90625 \r\nQ 41.609375 37.453125 38.875 40.71875 \r\nQ 34.671875 45.796875 27.984375 45.796875 \r\nQ 21.921875 45.796875 17.796875 41.75 \r\nQ 13.671875 37.703125 13.234375 30.90625 \r\nz\r\n\" id=\"ArialMT-101\"/>\r\n       <path d=\"M 6.640625 61.46875 \r\nL 6.640625 71.578125 \r\nL 15.4375 71.578125 \r\nL 15.4375 61.46875 \r\nz\r\nM 6.640625 0 \r\nL 6.640625 51.859375 \r\nL 15.4375 51.859375 \r\nL 15.4375 0 \r\nz\r\n\" id=\"ArialMT-105\"/>\r\n       <path d=\"M 4.984375 -4.296875 \r\nL 13.53125 -5.5625 \r\nQ 14.0625 -9.515625 16.5 -11.328125 \r\nQ 19.78125 -13.765625 25.4375 -13.765625 \r\nQ 31.546875 -13.765625 34.859375 -11.328125 \r\nQ 38.1875 -8.890625 39.359375 -4.5 \r\nQ 40.046875 -1.8125 39.984375 6.78125 \r\nQ 34.234375 0 25.640625 0 \r\nQ 14.9375 0 9.078125 7.71875 \r\nQ 3.21875 15.4375 3.21875 26.21875 \r\nQ 3.21875 33.640625 5.90625 39.90625 \r\nQ 8.59375 46.1875 13.6875 49.609375 \r\nQ 18.796875 53.03125 25.6875 53.03125 \r\nQ 34.859375 53.03125 40.828125 45.609375 \r\nL 40.828125 51.859375 \r\nL 48.921875 51.859375 \r\nL 48.921875 7.03125 \r\nQ 48.921875 -5.078125 46.453125 -10.125 \r\nQ 44 -15.1875 38.640625 -18.109375 \r\nQ 33.296875 -21.046875 25.484375 -21.046875 \r\nQ 16.21875 -21.046875 10.5 -16.875 \r\nQ 4.78125 -12.703125 4.984375 -4.296875 \r\nz\r\nM 12.25 26.859375 \r\nQ 12.25 16.65625 16.296875 11.96875 \r\nQ 20.359375 7.28125 26.46875 7.28125 \r\nQ 32.515625 7.28125 36.609375 11.9375 \r\nQ 40.71875 16.609375 40.71875 26.5625 \r\nQ 40.71875 36.078125 36.5 40.90625 \r\nQ 32.28125 45.75 26.3125 45.75 \r\nQ 20.453125 45.75 16.34375 40.984375 \r\nQ 12.25 36.234375 12.25 26.859375 \r\nz\r\n\" id=\"ArialMT-103\"/>\r\n       <path d=\"M 6.59375 0 \r\nL 6.59375 71.578125 \r\nL 15.375 71.578125 \r\nL 15.375 45.90625 \r\nQ 21.53125 53.03125 30.90625 53.03125 \r\nQ 36.671875 53.03125 40.921875 50.75 \r\nQ 45.171875 48.484375 47 44.484375 \r\nQ 48.828125 40.484375 48.828125 32.859375 \r\nL 48.828125 0 \r\nL 40.046875 0 \r\nL 40.046875 32.859375 \r\nQ 40.046875 39.453125 37.1875 42.453125 \r\nQ 34.328125 45.453125 29.109375 45.453125 \r\nQ 25.203125 45.453125 21.75 43.421875 \r\nQ 18.3125 41.40625 16.84375 37.9375 \r\nQ 15.375 34.46875 15.375 28.375 \r\nL 15.375 0 \r\nz\r\n\" id=\"ArialMT-104\"/>\r\n       <path d=\"M 25.78125 7.859375 \r\nL 27.046875 0.09375 \r\nQ 23.34375 -0.6875 20.40625 -0.6875 \r\nQ 15.625 -0.6875 12.984375 0.828125 \r\nQ 10.359375 2.34375 9.28125 4.8125 \r\nQ 8.203125 7.28125 8.203125 15.1875 \r\nL 8.203125 45.015625 \r\nL 1.765625 45.015625 \r\nL 1.765625 51.859375 \r\nL 8.203125 51.859375 \r\nL 8.203125 64.703125 \r\nL 16.9375 69.96875 \r\nL 16.9375 51.859375 \r\nL 25.78125 51.859375 \r\nL 25.78125 45.015625 \r\nL 16.9375 45.015625 \r\nL 16.9375 14.703125 \r\nQ 16.9375 10.9375 17.40625 9.859375 \r\nQ 17.875 8.796875 18.921875 8.15625 \r\nQ 19.96875 7.515625 21.921875 7.515625 \r\nQ 23.390625 7.515625 25.78125 7.859375 \r\nz\r\n\" id=\"ArialMT-116\"/>\r\n      </defs>\r\n      <use xlink:href=\"#ArialMT-119\"/>\r\n      <use x=\"72.216797\" xlink:href=\"#ArialMT-101\"/>\r\n      <use x=\"127.832031\" xlink:href=\"#ArialMT-105\"/>\r\n      <use x=\"150.048828\" xlink:href=\"#ArialMT-103\"/>\r\n      <use x=\"205.664062\" xlink:href=\"#ArialMT-104\"/>\r\n      <use x=\"261.279297\" xlink:href=\"#ArialMT-116\"/>\r\n     </g>\r\n    </g>\r\n   </g>\r\n   <g id=\"matplotlib.axis_2\">\r\n    <g id=\"ytick_1\">\r\n     <g id=\"text_7\">\r\n      <!-- IdealNumberOfWorkdays -->\r\n      <g style=\"fill:#262626;\" transform=\"translate(119.98 44.916156)scale(0.14 -0.14)\">\r\n       <defs>\r\n        <path d=\"M 9.328125 0 \r\nL 9.328125 71.578125 \r\nL 18.796875 71.578125 \r\nL 18.796875 0 \r\nz\r\n\" id=\"ArialMT-73\"/>\r\n        <path d=\"M 40.234375 0 \r\nL 40.234375 6.546875 \r\nQ 35.296875 -1.171875 25.734375 -1.171875 \r\nQ 19.53125 -1.171875 14.328125 2.25 \r\nQ 9.125 5.671875 6.265625 11.796875 \r\nQ 3.421875 17.921875 3.421875 25.875 \r\nQ 3.421875 33.640625 6 39.96875 \r\nQ 8.59375 46.296875 13.765625 49.65625 \r\nQ 18.953125 53.03125 25.34375 53.03125 \r\nQ 30.03125 53.03125 33.6875 51.046875 \r\nQ 37.359375 49.078125 39.65625 45.90625 \r\nL 39.65625 71.578125 \r\nL 48.390625 71.578125 \r\nL 48.390625 0 \r\nz\r\nM 12.453125 25.875 \r\nQ 12.453125 15.921875 16.640625 10.984375 \r\nQ 20.84375 6.0625 26.5625 6.0625 \r\nQ 32.328125 6.0625 36.34375 10.765625 \r\nQ 40.375 15.484375 40.375 25.140625 \r\nQ 40.375 35.796875 36.265625 40.765625 \r\nQ 32.171875 45.75 26.171875 45.75 \r\nQ 20.3125 45.75 16.375 40.96875 \r\nQ 12.453125 36.1875 12.453125 25.875 \r\nz\r\n\" id=\"ArialMT-100\"/>\r\n        <path d=\"M 40.4375 6.390625 \r\nQ 35.546875 2.25 31.03125 0.53125 \r\nQ 26.515625 -1.171875 21.34375 -1.171875 \r\nQ 12.796875 -1.171875 8.203125 3 \r\nQ 3.609375 7.171875 3.609375 13.671875 \r\nQ 3.609375 17.484375 5.34375 20.625 \r\nQ 7.078125 23.78125 9.890625 25.6875 \r\nQ 12.703125 27.59375 16.21875 28.5625 \r\nQ 18.796875 29.25 24.03125 29.890625 \r\nQ 34.671875 31.15625 39.703125 32.90625 \r\nQ 39.75 34.71875 39.75 35.203125 \r\nQ 39.75 40.578125 37.25 42.78125 \r\nQ 33.890625 45.75 27.25 45.75 \r\nQ 21.046875 45.75 18.09375 43.578125 \r\nQ 15.140625 41.40625 13.71875 35.890625 \r\nL 5.125 37.0625 \r\nQ 6.296875 42.578125 8.984375 45.96875 \r\nQ 11.671875 49.359375 16.75 51.1875 \r\nQ 21.828125 53.03125 28.515625 53.03125 \r\nQ 35.15625 53.03125 39.296875 51.46875 \r\nQ 43.453125 49.90625 45.40625 47.53125 \r\nQ 47.359375 45.171875 48.140625 41.546875 \r\nQ 48.578125 39.3125 48.578125 33.453125 \r\nL 48.578125 21.734375 \r\nQ 48.578125 9.46875 49.140625 6.21875 \r\nQ 49.703125 2.984375 51.375 0 \r\nL 42.1875 0 \r\nQ 40.828125 2.734375 40.4375 6.390625 \r\nz\r\nM 39.703125 26.03125 \r\nQ 34.90625 24.078125 25.34375 22.703125 \r\nQ 19.921875 21.921875 17.671875 20.9375 \r\nQ 15.4375 19.96875 14.203125 18.09375 \r\nQ 12.984375 16.21875 12.984375 13.921875 \r\nQ 12.984375 10.40625 15.640625 8.0625 \r\nQ 18.3125 5.71875 23.4375 5.71875 \r\nQ 28.515625 5.71875 32.46875 7.9375 \r\nQ 36.421875 10.15625 38.28125 14.015625 \r\nQ 39.703125 17 39.703125 22.796875 \r\nz\r\n\" id=\"ArialMT-97\"/>\r\n        <path d=\"M 6.390625 0 \r\nL 6.390625 71.578125 \r\nL 15.1875 71.578125 \r\nL 15.1875 0 \r\nz\r\n\" id=\"ArialMT-108\"/>\r\n        <path d=\"M 7.625 0 \r\nL 7.625 71.578125 \r\nL 17.328125 71.578125 \r\nL 54.9375 15.375 \r\nL 54.9375 71.578125 \r\nL 64.015625 71.578125 \r\nL 64.015625 0 \r\nL 54.296875 0 \r\nL 16.703125 56.25 \r\nL 16.703125 0 \r\nz\r\n\" id=\"ArialMT-78\"/>\r\n        <path d=\"M 40.578125 0 \r\nL 40.578125 7.625 \r\nQ 34.515625 -1.171875 24.125 -1.171875 \r\nQ 19.53125 -1.171875 15.546875 0.578125 \r\nQ 11.578125 2.34375 9.640625 5 \r\nQ 7.71875 7.671875 6.9375 11.53125 \r\nQ 6.390625 14.109375 6.390625 19.734375 \r\nL 6.390625 51.859375 \r\nL 15.1875 51.859375 \r\nL 15.1875 23.09375 \r\nQ 15.1875 16.21875 15.71875 13.8125 \r\nQ 16.546875 10.359375 19.234375 8.375 \r\nQ 21.921875 6.390625 25.875 6.390625 \r\nQ 29.828125 6.390625 33.296875 8.421875 \r\nQ 36.765625 10.453125 38.203125 13.9375 \r\nQ 39.65625 17.4375 39.65625 24.078125 \r\nL 39.65625 51.859375 \r\nL 48.4375 51.859375 \r\nL 48.4375 0 \r\nz\r\n\" id=\"ArialMT-117\"/>\r\n        <path d=\"M 6.59375 0 \r\nL 6.59375 51.859375 \r\nL 14.453125 51.859375 \r\nL 14.453125 44.578125 \r\nQ 16.890625 48.390625 20.9375 50.703125 \r\nQ 25 53.03125 30.171875 53.03125 \r\nQ 35.9375 53.03125 39.625 50.640625 \r\nQ 43.3125 48.25 44.828125 43.953125 \r\nQ 50.984375 53.03125 60.84375 53.03125 \r\nQ 68.5625 53.03125 72.703125 48.75 \r\nQ 76.859375 44.484375 76.859375 35.59375 \r\nL 76.859375 0 \r\nL 68.109375 0 \r\nL 68.109375 32.671875 \r\nQ 68.109375 37.9375 67.25 40.25 \r\nQ 66.40625 42.578125 64.15625 43.984375 \r\nQ 61.921875 45.40625 58.890625 45.40625 \r\nQ 53.421875 45.40625 49.796875 41.765625 \r\nQ 46.1875 38.140625 46.1875 30.125 \r\nL 46.1875 0 \r\nL 37.40625 0 \r\nL 37.40625 33.6875 \r\nQ 37.40625 39.546875 35.25 42.46875 \r\nQ 33.109375 45.40625 28.21875 45.40625 \r\nQ 24.515625 45.40625 21.359375 43.453125 \r\nQ 18.21875 41.5 16.796875 37.734375 \r\nQ 15.375 33.984375 15.375 26.90625 \r\nL 15.375 0 \r\nz\r\n\" id=\"ArialMT-109\"/>\r\n        <path d=\"M 14.703125 0 \r\nL 6.546875 0 \r\nL 6.546875 71.578125 \r\nL 15.328125 71.578125 \r\nL 15.328125 46.046875 \r\nQ 20.90625 53.03125 29.546875 53.03125 \r\nQ 34.328125 53.03125 38.59375 51.09375 \r\nQ 42.875 49.171875 45.625 45.671875 \r\nQ 48.390625 42.1875 49.953125 37.25 \r\nQ 51.515625 32.328125 51.515625 26.703125 \r\nQ 51.515625 13.375 44.921875 6.09375 \r\nQ 38.328125 -1.171875 29.109375 -1.171875 \r\nQ 19.921875 -1.171875 14.703125 6.5 \r\nz\r\nM 14.59375 26.3125 \r\nQ 14.59375 17 17.140625 12.84375 \r\nQ 21.296875 6.0625 28.375 6.0625 \r\nQ 34.125 6.0625 38.328125 11.0625 \r\nQ 42.53125 16.0625 42.53125 25.984375 \r\nQ 42.53125 36.140625 38.5 40.96875 \r\nQ 34.46875 45.796875 28.765625 45.796875 \r\nQ 23 45.796875 18.796875 40.796875 \r\nQ 14.59375 35.796875 14.59375 26.3125 \r\nz\r\n\" id=\"ArialMT-98\"/>\r\n        <path d=\"M 6.5 0 \r\nL 6.5 51.859375 \r\nL 14.40625 51.859375 \r\nL 14.40625 44 \r\nQ 17.4375 49.515625 20 51.265625 \r\nQ 22.5625 53.03125 25.640625 53.03125 \r\nQ 30.078125 53.03125 34.671875 50.203125 \r\nL 31.640625 42.046875 \r\nQ 28.421875 43.953125 25.203125 43.953125 \r\nQ 22.3125 43.953125 20.015625 42.21875 \r\nQ 17.71875 40.484375 16.75 37.40625 \r\nQ 15.28125 32.71875 15.28125 27.15625 \r\nL 15.28125 0 \r\nz\r\n\" id=\"ArialMT-114\"/>\r\n        <path d=\"M 4.828125 34.859375 \r\nQ 4.828125 52.6875 14.390625 62.765625 \r\nQ 23.96875 72.859375 39.109375 72.859375 \r\nQ 49.03125 72.859375 56.984375 68.109375 \r\nQ 64.9375 63.375 69.109375 54.90625 \r\nQ 73.296875 46.4375 73.296875 35.6875 \r\nQ 73.296875 24.8125 68.890625 16.21875 \r\nQ 64.5 7.625 56.4375 3.203125 \r\nQ 48.390625 -1.21875 39.0625 -1.21875 \r\nQ 28.953125 -1.21875 20.984375 3.65625 \r\nQ 13.03125 8.546875 8.921875 16.984375 \r\nQ 4.828125 25.4375 4.828125 34.859375 \r\nz\r\nM 14.59375 34.71875 \r\nQ 14.59375 21.78125 21.546875 14.328125 \r\nQ 28.515625 6.890625 39.015625 6.890625 \r\nQ 49.703125 6.890625 56.609375 14.40625 \r\nQ 63.53125 21.921875 63.53125 35.75 \r\nQ 63.53125 44.484375 60.578125 51 \r\nQ 57.625 57.515625 51.921875 61.109375 \r\nQ 46.234375 64.703125 39.15625 64.703125 \r\nQ 29.109375 64.703125 21.84375 57.78125 \r\nQ 14.59375 50.875 14.59375 34.71875 \r\nz\r\n\" id=\"ArialMT-79\"/>\r\n        <path d=\"M 8.6875 0 \r\nL 8.6875 45.015625 \r\nL 0.921875 45.015625 \r\nL 0.921875 51.859375 \r\nL 8.6875 51.859375 \r\nL 8.6875 57.375 \r\nQ 8.6875 62.59375 9.625 65.140625 \r\nQ 10.890625 68.5625 14.078125 70.671875 \r\nQ 17.28125 72.796875 23.046875 72.796875 \r\nQ 26.765625 72.796875 31.25 71.921875 \r\nL 29.9375 64.265625 \r\nQ 27.203125 64.75 24.75 64.75 \r\nQ 20.75 64.75 19.09375 63.03125 \r\nQ 17.4375 61.328125 17.4375 56.640625 \r\nL 17.4375 51.859375 \r\nL 27.546875 51.859375 \r\nL 27.546875 45.015625 \r\nL 17.4375 45.015625 \r\nL 17.4375 0 \r\nz\r\n\" id=\"ArialMT-102\"/>\r\n        <path d=\"M 20.21875 0 \r\nL 1.21875 71.578125 \r\nL 10.9375 71.578125 \r\nL 21.828125 24.65625 \r\nQ 23.578125 17.28125 24.859375 10.015625 \r\nQ 27.59375 21.484375 28.078125 23.25 \r\nL 41.703125 71.578125 \r\nL 53.125 71.578125 \r\nL 63.375 35.359375 \r\nQ 67.234375 21.875 68.953125 10.015625 \r\nQ 70.3125 16.796875 72.515625 25.59375 \r\nL 83.734375 71.578125 \r\nL 93.265625 71.578125 \r\nL 73.640625 0 \r\nL 64.5 0 \r\nL 49.421875 54.546875 \r\nQ 47.515625 61.375 47.171875 62.9375 \r\nQ 46.046875 58.015625 45.0625 54.546875 \r\nL 29.890625 0 \r\nz\r\n\" id=\"ArialMT-87\"/>\r\n        <path d=\"M 3.328125 25.921875 \r\nQ 3.328125 40.328125 11.328125 47.265625 \r\nQ 18.015625 53.03125 27.640625 53.03125 \r\nQ 38.328125 53.03125 45.109375 46.015625 \r\nQ 51.90625 39.015625 51.90625 26.65625 \r\nQ 51.90625 16.65625 48.90625 10.90625 \r\nQ 45.90625 5.171875 40.15625 2 \r\nQ 34.421875 -1.171875 27.640625 -1.171875 \r\nQ 16.75 -1.171875 10.03125 5.8125 \r\nQ 3.328125 12.796875 3.328125 25.921875 \r\nz\r\nM 12.359375 25.921875 \r\nQ 12.359375 15.96875 16.703125 11.015625 \r\nQ 21.046875 6.0625 27.640625 6.0625 \r\nQ 34.1875 6.0625 38.53125 11.03125 \r\nQ 42.875 16.015625 42.875 26.21875 \r\nQ 42.875 35.84375 38.5 40.796875 \r\nQ 34.125 45.75 27.640625 45.75 \r\nQ 21.046875 45.75 16.703125 40.8125 \r\nQ 12.359375 35.890625 12.359375 25.921875 \r\nz\r\n\" id=\"ArialMT-111\"/>\r\n        <path d=\"M 6.640625 0 \r\nL 6.640625 71.578125 \r\nL 15.4375 71.578125 \r\nL 15.4375 30.765625 \r\nL 36.234375 51.859375 \r\nL 47.609375 51.859375 \r\nL 27.78125 32.625 \r\nL 49.609375 0 \r\nL 38.765625 0 \r\nL 21.625 26.515625 \r\nL 15.4375 20.5625 \r\nL 15.4375 0 \r\nz\r\n\" id=\"ArialMT-107\"/>\r\n        <path d=\"M 6.203125 -19.96875 \r\nL 5.21875 -11.71875 \r\nQ 8.109375 -12.5 10.25 -12.5 \r\nQ 13.1875 -12.5 14.9375 -11.515625 \r\nQ 16.703125 -10.546875 17.828125 -8.796875 \r\nQ 18.65625 -7.46875 20.515625 -2.25 \r\nQ 20.75 -1.515625 21.296875 -0.09375 \r\nL 1.609375 51.859375 \r\nL 11.078125 51.859375 \r\nL 21.875 21.828125 \r\nQ 23.96875 16.109375 25.640625 9.8125 \r\nQ 27.15625 15.875 29.25 21.625 \r\nL 40.328125 51.859375 \r\nL 49.125 51.859375 \r\nL 29.390625 -0.875 \r\nQ 26.21875 -9.421875 24.46875 -12.640625 \r\nQ 22.125 -17 19.09375 -19.015625 \r\nQ 16.0625 -21.046875 11.859375 -21.046875 \r\nQ 9.328125 -21.046875 6.203125 -19.96875 \r\nz\r\n\" id=\"ArialMT-121\"/>\r\n        <path d=\"M 3.078125 15.484375 \r\nL 11.765625 16.84375 \r\nQ 12.5 11.625 15.84375 8.84375 \r\nQ 19.1875 6.0625 25.203125 6.0625 \r\nQ 31.25 6.0625 34.171875 8.515625 \r\nQ 37.109375 10.984375 37.109375 14.3125 \r\nQ 37.109375 17.28125 34.515625 19 \r\nQ 32.71875 20.171875 25.53125 21.96875 \r\nQ 15.875 24.421875 12.140625 26.203125 \r\nQ 8.40625 27.984375 6.46875 31.125 \r\nQ 4.546875 34.28125 4.546875 38.09375 \r\nQ 4.546875 41.546875 6.125 44.5 \r\nQ 7.71875 47.46875 10.453125 49.421875 \r\nQ 12.5 50.921875 16.03125 51.96875 \r\nQ 19.578125 53.03125 23.640625 53.03125 \r\nQ 29.734375 53.03125 34.34375 51.265625 \r\nQ 38.96875 49.515625 41.15625 46.5 \r\nQ 43.359375 43.5 44.1875 38.484375 \r\nL 35.59375 37.3125 \r\nQ 35.015625 41.3125 32.203125 43.546875 \r\nQ 29.390625 45.796875 24.265625 45.796875 \r\nQ 18.21875 45.796875 15.625 43.796875 \r\nQ 13.03125 41.796875 13.03125 39.109375 \r\nQ 13.03125 37.40625 14.109375 36.03125 \r\nQ 15.1875 34.625 17.484375 33.6875 \r\nQ 18.796875 33.203125 25.25 31.453125 \r\nQ 34.578125 28.953125 38.25 27.359375 \r\nQ 41.9375 25.78125 44.03125 22.75 \r\nQ 46.140625 19.734375 46.140625 15.234375 \r\nQ 46.140625 10.84375 43.578125 6.953125 \r\nQ 41.015625 3.078125 36.171875 0.953125 \r\nQ 31.34375 -1.171875 25.25 -1.171875 \r\nQ 15.140625 -1.171875 9.84375 3.03125 \r\nQ 4.546875 7.234375 3.078125 15.484375 \r\nz\r\n\" id=\"ArialMT-115\"/>\r\n       </defs>\r\n       <use xlink:href=\"#ArialMT-73\"/>\r\n       <use x=\"27.783203\" xlink:href=\"#ArialMT-100\"/>\r\n       <use x=\"83.398438\" xlink:href=\"#ArialMT-101\"/>\r\n       <use x=\"139.013672\" xlink:href=\"#ArialMT-97\"/>\r\n       <use x=\"194.628906\" xlink:href=\"#ArialMT-108\"/>\r\n       <use x=\"216.845703\" xlink:href=\"#ArialMT-78\"/>\r\n       <use x=\"289.0625\" xlink:href=\"#ArialMT-117\"/>\r\n       <use x=\"344.677734\" xlink:href=\"#ArialMT-109\"/>\r\n       <use x=\"427.978516\" xlink:href=\"#ArialMT-98\"/>\r\n       <use x=\"483.59375\" xlink:href=\"#ArialMT-101\"/>\r\n       <use x=\"539.208984\" xlink:href=\"#ArialMT-114\"/>\r\n       <use x=\"572.509766\" xlink:href=\"#ArialMT-79\"/>\r\n       <use x=\"650.292969\" xlink:href=\"#ArialMT-102\"/>\r\n       <use x=\"678.076172\" xlink:href=\"#ArialMT-87\"/>\r\n       <use x=\"770.710938\" xlink:href=\"#ArialMT-111\"/>\r\n       <use x=\"826.326172\" xlink:href=\"#ArialMT-114\"/>\r\n       <use x=\"859.626953\" xlink:href=\"#ArialMT-107\"/>\r\n       <use x=\"909.626953\" xlink:href=\"#ArialMT-100\"/>\r\n       <use x=\"965.242188\" xlink:href=\"#ArialMT-97\"/>\r\n       <use x=\"1020.857422\" xlink:href=\"#ArialMT-121\"/>\r\n       <use x=\"1070.857422\" xlink:href=\"#ArialMT-115\"/>\r\n      </g>\r\n     </g>\r\n    </g>\r\n    <g id=\"ytick_2\">\r\n     <g id=\"text_8\">\r\n      <!-- Employment Sector_Private Sector -->\r\n      <g style=\"fill:#262626;\" transform=\"translate(59.034063 110.143781)scale(0.14 -0.14)\">\r\n       <defs>\r\n        <path d=\"M 7.90625 0 \r\nL 7.90625 71.578125 \r\nL 59.671875 71.578125 \r\nL 59.671875 63.140625 \r\nL 17.390625 63.140625 \r\nL 17.390625 41.21875 \r\nL 56.984375 41.21875 \r\nL 56.984375 32.8125 \r\nL 17.390625 32.8125 \r\nL 17.390625 8.453125 \r\nL 61.328125 8.453125 \r\nL 61.328125 0 \r\nz\r\n\" id=\"ArialMT-69\"/>\r\n        <path d=\"M 6.59375 -19.875 \r\nL 6.59375 51.859375 \r\nL 14.59375 51.859375 \r\nL 14.59375 45.125 \r\nQ 17.4375 49.078125 21 51.046875 \r\nQ 24.5625 53.03125 29.640625 53.03125 \r\nQ 36.28125 53.03125 41.359375 49.609375 \r\nQ 46.4375 46.1875 49.015625 39.953125 \r\nQ 51.609375 33.734375 51.609375 26.3125 \r\nQ 51.609375 18.359375 48.75 11.984375 \r\nQ 45.90625 5.609375 40.453125 2.21875 \r\nQ 35.015625 -1.171875 29 -1.171875 \r\nQ 24.609375 -1.171875 21.109375 0.6875 \r\nQ 17.625 2.546875 15.375 5.375 \r\nL 15.375 -19.875 \r\nz\r\nM 14.546875 25.640625 \r\nQ 14.546875 15.625 18.59375 10.84375 \r\nQ 22.65625 6.0625 28.421875 6.0625 \r\nQ 34.28125 6.0625 38.453125 11.015625 \r\nQ 42.625 15.96875 42.625 26.375 \r\nQ 42.625 36.28125 38.546875 41.203125 \r\nQ 34.46875 46.140625 28.8125 46.140625 \r\nQ 23.1875 46.140625 18.859375 40.890625 \r\nQ 14.546875 35.640625 14.546875 25.640625 \r\nz\r\n\" id=\"ArialMT-112\"/>\r\n        <path d=\"M 6.59375 0 \r\nL 6.59375 51.859375 \r\nL 14.5 51.859375 \r\nL 14.5 44.484375 \r\nQ 20.21875 53.03125 31 53.03125 \r\nQ 35.6875 53.03125 39.625 51.34375 \r\nQ 43.5625 49.65625 45.515625 46.921875 \r\nQ 47.46875 44.1875 48.25 40.4375 \r\nQ 48.734375 37.984375 48.734375 31.890625 \r\nL 48.734375 0 \r\nL 39.9375 0 \r\nL 39.9375 31.546875 \r\nQ 39.9375 36.921875 38.90625 39.578125 \r\nQ 37.890625 42.234375 35.28125 43.8125 \r\nQ 32.671875 45.40625 29.15625 45.40625 \r\nQ 23.53125 45.40625 19.453125 41.84375 \r\nQ 15.375 38.28125 15.375 28.328125 \r\nL 15.375 0 \r\nz\r\n\" id=\"ArialMT-110\"/>\r\n        <path id=\"ArialMT-32\"/>\r\n        <path d=\"M 4.5 23 \r\nL 13.421875 23.78125 \r\nQ 14.0625 18.40625 16.375 14.96875 \r\nQ 18.703125 11.53125 23.578125 9.40625 \r\nQ 28.46875 7.28125 34.578125 7.28125 \r\nQ 39.984375 7.28125 44.140625 8.890625 \r\nQ 48.296875 10.5 50.3125 13.296875 \r\nQ 52.34375 16.109375 52.34375 19.4375 \r\nQ 52.34375 22.796875 50.390625 25.3125 \r\nQ 48.4375 27.828125 43.953125 29.546875 \r\nQ 41.0625 30.671875 31.203125 33.03125 \r\nQ 21.34375 35.40625 17.390625 37.5 \r\nQ 12.25 40.1875 9.734375 44.15625 \r\nQ 7.234375 48.140625 7.234375 53.078125 \r\nQ 7.234375 58.5 10.296875 63.203125 \r\nQ 13.375 67.921875 19.28125 70.359375 \r\nQ 25.203125 72.796875 32.421875 72.796875 \r\nQ 40.375 72.796875 46.453125 70.234375 \r\nQ 52.546875 67.671875 55.8125 62.6875 \r\nQ 59.078125 57.71875 59.328125 51.421875 \r\nL 50.25 50.734375 \r\nQ 49.515625 57.515625 45.28125 60.984375 \r\nQ 41.0625 64.453125 32.8125 64.453125 \r\nQ 24.21875 64.453125 20.28125 61.296875 \r\nQ 16.359375 58.15625 16.359375 53.71875 \r\nQ 16.359375 49.859375 19.140625 47.359375 \r\nQ 21.875 44.875 33.421875 42.265625 \r\nQ 44.96875 39.65625 49.265625 37.703125 \r\nQ 55.515625 34.8125 58.484375 30.390625 \r\nQ 61.46875 25.984375 61.46875 20.21875 \r\nQ 61.46875 14.5 58.203125 9.4375 \r\nQ 54.9375 4.390625 48.796875 1.578125 \r\nQ 42.671875 -1.21875 35.015625 -1.21875 \r\nQ 25.296875 -1.21875 18.71875 1.609375 \r\nQ 12.15625 4.4375 8.421875 10.125 \r\nQ 4.6875 15.828125 4.5 23 \r\nz\r\n\" id=\"ArialMT-83\"/>\r\n        <path d=\"M 40.4375 19 \r\nL 49.078125 17.875 \r\nQ 47.65625 8.9375 41.8125 3.875 \r\nQ 35.984375 -1.171875 27.484375 -1.171875 \r\nQ 16.84375 -1.171875 10.375 5.78125 \r\nQ 3.90625 12.75 3.90625 25.734375 \r\nQ 3.90625 34.125 6.6875 40.421875 \r\nQ 9.46875 46.734375 15.15625 49.875 \r\nQ 20.84375 53.03125 27.546875 53.03125 \r\nQ 35.984375 53.03125 41.359375 48.75 \r\nQ 46.734375 44.484375 48.25 36.625 \r\nL 39.703125 35.296875 \r\nQ 38.484375 40.53125 35.375 43.15625 \r\nQ 32.28125 45.796875 27.875 45.796875 \r\nQ 21.234375 45.796875 17.078125 41.03125 \r\nQ 12.9375 36.28125 12.9375 25.984375 \r\nQ 12.9375 15.53125 16.9375 10.796875 \r\nQ 20.953125 6.0625 27.390625 6.0625 \r\nQ 32.5625 6.0625 36.03125 9.234375 \r\nQ 39.5 12.40625 40.4375 19 \r\nz\r\n\" id=\"ArialMT-99\"/>\r\n        <path d=\"M -1.515625 -19.875 \r\nL -1.515625 -13.53125 \r\nL 56.734375 -13.53125 \r\nL 56.734375 -19.875 \r\nz\r\n\" id=\"ArialMT-95\"/>\r\n        <path d=\"M 7.71875 0 \r\nL 7.71875 71.578125 \r\nL 34.71875 71.578125 \r\nQ 41.84375 71.578125 45.609375 70.90625 \r\nQ 50.875 70.015625 54.4375 67.546875 \r\nQ 58.015625 65.09375 60.1875 60.640625 \r\nQ 62.359375 56.203125 62.359375 50.875 \r\nQ 62.359375 41.75 56.546875 35.421875 \r\nQ 50.734375 29.109375 35.546875 29.109375 \r\nL 17.1875 29.109375 \r\nL 17.1875 0 \r\nz\r\nM 17.1875 37.546875 \r\nL 35.6875 37.546875 \r\nQ 44.875 37.546875 48.734375 40.96875 \r\nQ 52.59375 44.390625 52.59375 50.59375 \r\nQ 52.59375 55.078125 50.3125 58.265625 \r\nQ 48.046875 61.46875 44.34375 62.5 \r\nQ 41.9375 63.140625 35.5 63.140625 \r\nL 17.1875 63.140625 \r\nz\r\n\" id=\"ArialMT-80\"/>\r\n        <path d=\"M 21 0 \r\nL 1.265625 51.859375 \r\nL 10.546875 51.859375 \r\nL 21.6875 20.796875 \r\nQ 23.484375 15.765625 25 10.359375 \r\nQ 26.171875 14.453125 28.265625 20.21875 \r\nL 39.796875 51.859375 \r\nL 48.828125 51.859375 \r\nL 29.203125 0 \r\nz\r\n\" id=\"ArialMT-118\"/>\r\n       </defs>\r\n       <use xlink:href=\"#ArialMT-69\"/>\r\n       <use x=\"66.699219\" xlink:href=\"#ArialMT-109\"/>\r\n       <use x=\"150\" xlink:href=\"#ArialMT-112\"/>\r\n       <use x=\"205.615234\" xlink:href=\"#ArialMT-108\"/>\r\n       <use x=\"227.832031\" xlink:href=\"#ArialMT-111\"/>\r\n       <use x=\"283.447266\" xlink:href=\"#ArialMT-121\"/>\r\n       <use x=\"333.447266\" xlink:href=\"#ArialMT-109\"/>\r\n       <use x=\"416.748047\" xlink:href=\"#ArialMT-101\"/>\r\n       <use x=\"472.363281\" xlink:href=\"#ArialMT-110\"/>\r\n       <use x=\"527.978516\" xlink:href=\"#ArialMT-116\"/>\r\n       <use x=\"555.761719\" xlink:href=\"#ArialMT-32\"/>\r\n       <use x=\"583.544922\" xlink:href=\"#ArialMT-83\"/>\r\n       <use x=\"650.244141\" xlink:href=\"#ArialMT-101\"/>\r\n       <use x=\"705.859375\" xlink:href=\"#ArialMT-99\"/>\r\n       <use x=\"755.859375\" xlink:href=\"#ArialMT-116\"/>\r\n       <use x=\"783.642578\" xlink:href=\"#ArialMT-111\"/>\r\n       <use x=\"839.257812\" xlink:href=\"#ArialMT-114\"/>\r\n       <use x=\"872.558594\" xlink:href=\"#ArialMT-95\"/>\r\n       <use x=\"928.173828\" xlink:href=\"#ArialMT-80\"/>\r\n       <use x=\"994.873047\" xlink:href=\"#ArialMT-114\"/>\r\n       <use x=\"1028.173828\" xlink:href=\"#ArialMT-105\"/>\r\n       <use x=\"1050.390625\" xlink:href=\"#ArialMT-118\"/>\r\n       <use x=\"1100.390625\" xlink:href=\"#ArialMT-97\"/>\r\n       <use x=\"1156.005859\" xlink:href=\"#ArialMT-116\"/>\r\n       <use x=\"1183.789062\" xlink:href=\"#ArialMT-101\"/>\r\n       <use x=\"1239.404297\" xlink:href=\"#ArialMT-32\"/>\r\n       <use x=\"1267.1875\" xlink:href=\"#ArialMT-83\"/>\r\n       <use x=\"1333.886719\" xlink:href=\"#ArialMT-101\"/>\r\n       <use x=\"1389.501953\" xlink:href=\"#ArialMT-99\"/>\r\n       <use x=\"1439.501953\" xlink:href=\"#ArialMT-116\"/>\r\n       <use x=\"1467.285156\" xlink:href=\"#ArialMT-111\"/>\r\n       <use x=\"1522.900391\" xlink:href=\"#ArialMT-114\"/>\r\n      </g>\r\n     </g>\r\n    </g>\r\n    <g id=\"ytick_3\">\r\n     <g id=\"text_9\">\r\n      <!-- Degree_No -->\r\n      <g style=\"fill:#262626;\" transform=\"translate(205.296875 175.290469)scale(0.14 -0.14)\">\r\n       <defs>\r\n        <path d=\"M 7.71875 0 \r\nL 7.71875 71.578125 \r\nL 32.375 71.578125 \r\nQ 40.71875 71.578125 45.125 70.5625 \r\nQ 51.265625 69.140625 55.609375 65.4375 \r\nQ 61.28125 60.640625 64.078125 53.1875 \r\nQ 66.890625 45.75 66.890625 36.1875 \r\nQ 66.890625 28.03125 64.984375 21.734375 \r\nQ 63.09375 15.4375 60.109375 11.296875 \r\nQ 57.125 7.171875 53.578125 4.796875 \r\nQ 50.046875 2.4375 45.046875 1.21875 \r\nQ 40.046875 0 33.546875 0 \r\nz\r\nM 17.1875 8.453125 \r\nL 32.46875 8.453125 \r\nQ 39.546875 8.453125 43.578125 9.765625 \r\nQ 47.609375 11.078125 50 13.484375 \r\nQ 53.375 16.84375 55.25 22.53125 \r\nQ 57.125 28.21875 57.125 36.328125 \r\nQ 57.125 47.5625 53.4375 53.59375 \r\nQ 49.75 59.625 44.484375 61.671875 \r\nQ 40.671875 63.140625 32.234375 63.140625 \r\nL 17.1875 63.140625 \r\nz\r\n\" id=\"ArialMT-68\"/>\r\n       </defs>\r\n       <use xlink:href=\"#ArialMT-68\"/>\r\n       <use x=\"72.216797\" xlink:href=\"#ArialMT-101\"/>\r\n       <use x=\"127.832031\" xlink:href=\"#ArialMT-103\"/>\r\n       <use x=\"183.447266\" xlink:href=\"#ArialMT-114\"/>\r\n       <use x=\"216.748047\" xlink:href=\"#ArialMT-101\"/>\r\n       <use x=\"272.363281\" xlink:href=\"#ArialMT-101\"/>\r\n       <use x=\"327.978516\" xlink:href=\"#ArialMT-95\"/>\r\n       <use x=\"383.59375\" xlink:href=\"#ArialMT-78\"/>\r\n       <use x=\"455.810547\" xlink:href=\"#ArialMT-111\"/>\r\n      </g>\r\n     </g>\r\n    </g>\r\n    <g id=\"ytick_4\">\r\n     <g id=\"text_10\">\r\n      <!-- Employment Background_Art -->\r\n      <g style=\"fill:#262626;\" transform=\"translate(94.812813 240.522469)scale(0.14 -0.14)\">\r\n       <defs>\r\n        <path d=\"M 7.328125 0 \r\nL 7.328125 71.578125 \r\nL 34.1875 71.578125 \r\nQ 42.390625 71.578125 47.34375 69.40625 \r\nQ 52.296875 67.234375 55.09375 62.71875 \r\nQ 57.90625 58.203125 57.90625 53.265625 \r\nQ 57.90625 48.6875 55.421875 44.625 \r\nQ 52.9375 40.578125 47.90625 38.09375 \r\nQ 54.390625 36.1875 57.875 31.59375 \r\nQ 61.375 27 61.375 20.75 \r\nQ 61.375 15.71875 59.25 11.390625 \r\nQ 57.125 7.078125 54 4.734375 \r\nQ 50.875 2.390625 46.15625 1.1875 \r\nQ 41.453125 0 34.625 0 \r\nz\r\nM 16.796875 41.5 \r\nL 32.28125 41.5 \r\nQ 38.578125 41.5 41.3125 42.328125 \r\nQ 44.921875 43.40625 46.75 45.890625 \r\nQ 48.578125 48.390625 48.578125 52.15625 \r\nQ 48.578125 55.71875 46.875 58.421875 \r\nQ 45.171875 61.140625 41.984375 62.140625 \r\nQ 38.8125 63.140625 31.109375 63.140625 \r\nL 16.796875 63.140625 \r\nz\r\nM 16.796875 8.453125 \r\nL 34.625 8.453125 \r\nQ 39.203125 8.453125 41.0625 8.796875 \r\nQ 44.34375 9.375 46.53125 10.734375 \r\nQ 48.734375 12.109375 50.140625 14.71875 \r\nQ 51.5625 17.328125 51.5625 20.75 \r\nQ 51.5625 24.75 49.515625 27.703125 \r\nQ 47.46875 30.671875 43.828125 31.859375 \r\nQ 40.1875 33.0625 33.34375 33.0625 \r\nL 16.796875 33.0625 \r\nz\r\n\" id=\"ArialMT-66\"/>\r\n        <path d=\"M -0.140625 0 \r\nL 27.34375 71.578125 \r\nL 37.546875 71.578125 \r\nL 66.84375 0 \r\nL 56.0625 0 \r\nL 47.703125 21.6875 \r\nL 17.78125 21.6875 \r\nL 9.90625 0 \r\nz\r\nM 20.515625 29.390625 \r\nL 44.78125 29.390625 \r\nL 37.3125 49.21875 \r\nQ 33.890625 58.25 32.234375 64.0625 \r\nQ 30.859375 57.171875 28.375 50.390625 \r\nz\r\n\" id=\"ArialMT-65\"/>\r\n       </defs>\r\n       <use xlink:href=\"#ArialMT-69\"/>\r\n       <use x=\"66.699219\" xlink:href=\"#ArialMT-109\"/>\r\n       <use x=\"150\" xlink:href=\"#ArialMT-112\"/>\r\n       <use x=\"205.615234\" xlink:href=\"#ArialMT-108\"/>\r\n       <use x=\"227.832031\" xlink:href=\"#ArialMT-111\"/>\r\n       <use x=\"283.447266\" xlink:href=\"#ArialMT-121\"/>\r\n       <use x=\"333.447266\" xlink:href=\"#ArialMT-109\"/>\r\n       <use x=\"416.748047\" xlink:href=\"#ArialMT-101\"/>\r\n       <use x=\"472.363281\" xlink:href=\"#ArialMT-110\"/>\r\n       <use x=\"527.978516\" xlink:href=\"#ArialMT-116\"/>\r\n       <use x=\"555.761719\" xlink:href=\"#ArialMT-32\"/>\r\n       <use x=\"583.544922\" xlink:href=\"#ArialMT-66\"/>\r\n       <use x=\"650.244141\" xlink:href=\"#ArialMT-97\"/>\r\n       <use x=\"705.859375\" xlink:href=\"#ArialMT-99\"/>\r\n       <use x=\"755.859375\" xlink:href=\"#ArialMT-107\"/>\r\n       <use x=\"805.859375\" xlink:href=\"#ArialMT-103\"/>\r\n       <use x=\"861.474609\" xlink:href=\"#ArialMT-114\"/>\r\n       <use x=\"894.775391\" xlink:href=\"#ArialMT-111\"/>\r\n       <use x=\"950.390625\" xlink:href=\"#ArialMT-117\"/>\r\n       <use x=\"1006.005859\" xlink:href=\"#ArialMT-110\"/>\r\n       <use x=\"1061.621094\" xlink:href=\"#ArialMT-100\"/>\r\n       <use x=\"1117.236328\" xlink:href=\"#ArialMT-95\"/>\r\n       <use x=\"1172.851562\" xlink:href=\"#ArialMT-65\"/>\r\n       <use x=\"1239.550781\" xlink:href=\"#ArialMT-114\"/>\r\n       <use x=\"1272.851562\" xlink:href=\"#ArialMT-116\"/>\r\n      </g>\r\n     </g>\r\n    </g>\r\n    <g id=\"ytick_5\">\r\n     <g id=\"text_11\">\r\n      <!-- Employment Background_Non-Technical -->\r\n      <g style=\"fill:#262626;\" transform=\"translate(24.003438 305.754469)scale(0.14 -0.14)\">\r\n       <defs>\r\n        <path d=\"M 3.171875 21.484375 \r\nL 3.171875 30.328125 \r\nL 30.171875 30.328125 \r\nL 30.171875 21.484375 \r\nz\r\n\" id=\"ArialMT-45\"/>\r\n        <path d=\"M 25.921875 0 \r\nL 25.921875 63.140625 \r\nL 2.34375 63.140625 \r\nL 2.34375 71.578125 \r\nL 59.078125 71.578125 \r\nL 59.078125 63.140625 \r\nL 35.40625 63.140625 \r\nL 35.40625 0 \r\nz\r\n\" id=\"ArialMT-84\"/>\r\n       </defs>\r\n       <use xlink:href=\"#ArialMT-69\"/>\r\n       <use x=\"66.699219\" xlink:href=\"#ArialMT-109\"/>\r\n       <use x=\"150\" xlink:href=\"#ArialMT-112\"/>\r\n       <use x=\"205.615234\" xlink:href=\"#ArialMT-108\"/>\r\n       <use x=\"227.832031\" xlink:href=\"#ArialMT-111\"/>\r\n       <use x=\"283.447266\" xlink:href=\"#ArialMT-121\"/>\r\n       <use x=\"333.447266\" xlink:href=\"#ArialMT-109\"/>\r\n       <use x=\"416.748047\" xlink:href=\"#ArialMT-101\"/>\r\n       <use x=\"472.363281\" xlink:href=\"#ArialMT-110\"/>\r\n       <use x=\"527.978516\" xlink:href=\"#ArialMT-116\"/>\r\n       <use x=\"555.761719\" xlink:href=\"#ArialMT-32\"/>\r\n       <use x=\"583.544922\" xlink:href=\"#ArialMT-66\"/>\r\n       <use x=\"650.244141\" xlink:href=\"#ArialMT-97\"/>\r\n       <use x=\"705.859375\" xlink:href=\"#ArialMT-99\"/>\r\n       <use x=\"755.859375\" xlink:href=\"#ArialMT-107\"/>\r\n       <use x=\"805.859375\" xlink:href=\"#ArialMT-103\"/>\r\n       <use x=\"861.474609\" xlink:href=\"#ArialMT-114\"/>\r\n       <use x=\"894.775391\" xlink:href=\"#ArialMT-111\"/>\r\n       <use x=\"950.390625\" xlink:href=\"#ArialMT-117\"/>\r\n       <use x=\"1006.005859\" xlink:href=\"#ArialMT-110\"/>\r\n       <use x=\"1061.621094\" xlink:href=\"#ArialMT-100\"/>\r\n       <use x=\"1117.236328\" xlink:href=\"#ArialMT-95\"/>\r\n       <use x=\"1172.851562\" xlink:href=\"#ArialMT-78\"/>\r\n       <use x=\"1245.068359\" xlink:href=\"#ArialMT-111\"/>\r\n       <use x=\"1300.683594\" xlink:href=\"#ArialMT-110\"/>\r\n       <use x=\"1356.298828\" xlink:href=\"#ArialMT-45\"/>\r\n       <use x=\"1389.599609\" xlink:href=\"#ArialMT-84\"/>\r\n       <use x=\"1439.558594\" xlink:href=\"#ArialMT-101\"/>\r\n       <use x=\"1495.173828\" xlink:href=\"#ArialMT-99\"/>\r\n       <use x=\"1545.173828\" xlink:href=\"#ArialMT-104\"/>\r\n       <use x=\"1600.789062\" xlink:href=\"#ArialMT-110\"/>\r\n       <use x=\"1656.404297\" xlink:href=\"#ArialMT-105\"/>\r\n       <use x=\"1678.621094\" xlink:href=\"#ArialMT-99\"/>\r\n       <use x=\"1728.621094\" xlink:href=\"#ArialMT-97\"/>\r\n       <use x=\"1784.236328\" xlink:href=\"#ArialMT-108\"/>\r\n      </g>\r\n     </g>\r\n    </g>\r\n    <g id=\"ytick_6\">\r\n     <g id=\"text_12\">\r\n      <!-- Public Dealing_No -->\r\n      <g style=\"fill:#262626;\" transform=\"translate(161.7175 370.986469)scale(0.14 -0.14)\">\r\n       <use xlink:href=\"#ArialMT-80\"/>\r\n       <use x=\"66.699219\" xlink:href=\"#ArialMT-117\"/>\r\n       <use x=\"122.314453\" xlink:href=\"#ArialMT-98\"/>\r\n       <use x=\"177.929688\" xlink:href=\"#ArialMT-108\"/>\r\n       <use x=\"200.146484\" xlink:href=\"#ArialMT-105\"/>\r\n       <use x=\"222.363281\" xlink:href=\"#ArialMT-99\"/>\r\n       <use x=\"272.363281\" xlink:href=\"#ArialMT-32\"/>\r\n       <use x=\"300.146484\" xlink:href=\"#ArialMT-68\"/>\r\n       <use x=\"372.363281\" xlink:href=\"#ArialMT-101\"/>\r\n       <use x=\"427.978516\" xlink:href=\"#ArialMT-97\"/>\r\n       <use x=\"483.59375\" xlink:href=\"#ArialMT-108\"/>\r\n       <use x=\"505.810547\" xlink:href=\"#ArialMT-105\"/>\r\n       <use x=\"528.027344\" xlink:href=\"#ArialMT-110\"/>\r\n       <use x=\"583.642578\" xlink:href=\"#ArialMT-103\"/>\r\n       <use x=\"639.257812\" xlink:href=\"#ArialMT-95\"/>\r\n       <use x=\"694.873047\" xlink:href=\"#ArialMT-78\"/>\r\n       <use x=\"767.089844\" xlink:href=\"#ArialMT-111\"/>\r\n      </g>\r\n     </g>\r\n    </g>\r\n    <g id=\"ytick_7\">\r\n     <g id=\"text_13\">\r\n      <!-- Public Dealing_Yes -->\r\n      <g style=\"fill:#262626;\" transform=\"translate(156.767188 436.218469)scale(0.14 -0.14)\">\r\n       <defs>\r\n        <path d=\"M 27.875 0 \r\nL 27.875 30.328125 \r\nL 0.296875 71.578125 \r\nL 11.8125 71.578125 \r\nL 25.921875 50 \r\nQ 29.828125 43.953125 33.203125 37.890625 \r\nQ 36.421875 43.5 41.015625 50.53125 \r\nL 54.890625 71.578125 \r\nL 65.921875 71.578125 \r\nL 37.359375 30.328125 \r\nL 37.359375 0 \r\nz\r\n\" id=\"ArialMT-89\"/>\r\n       </defs>\r\n       <use xlink:href=\"#ArialMT-80\"/>\r\n       <use x=\"66.699219\" xlink:href=\"#ArialMT-117\"/>\r\n       <use x=\"122.314453\" xlink:href=\"#ArialMT-98\"/>\r\n       <use x=\"177.929688\" xlink:href=\"#ArialMT-108\"/>\r\n       <use x=\"200.146484\" xlink:href=\"#ArialMT-105\"/>\r\n       <use x=\"222.363281\" xlink:href=\"#ArialMT-99\"/>\r\n       <use x=\"272.363281\" xlink:href=\"#ArialMT-32\"/>\r\n       <use x=\"300.146484\" xlink:href=\"#ArialMT-68\"/>\r\n       <use x=\"372.363281\" xlink:href=\"#ArialMT-101\"/>\r\n       <use x=\"427.978516\" xlink:href=\"#ArialMT-97\"/>\r\n       <use x=\"483.59375\" xlink:href=\"#ArialMT-108\"/>\r\n       <use x=\"505.810547\" xlink:href=\"#ArialMT-105\"/>\r\n       <use x=\"528.027344\" xlink:href=\"#ArialMT-110\"/>\r\n       <use x=\"583.642578\" xlink:href=\"#ArialMT-103\"/>\r\n       <use x=\"639.257812\" xlink:href=\"#ArialMT-95\"/>\r\n       <use x=\"694.873047\" xlink:href=\"#ArialMT-89\"/>\r\n       <use x=\"752.447266\" xlink:href=\"#ArialMT-101\"/>\r\n       <use x=\"808.0625\" xlink:href=\"#ArialMT-115\"/>\r\n      </g>\r\n     </g>\r\n    </g>\r\n    <g id=\"ytick_8\">\r\n     <g id=\"text_14\">\r\n      <!-- Employment Sector_Government Sector -->\r\n      <g style=\"fill:#262626;\" transform=\"translate(25.57625 501.535781)scale(0.14 -0.14)\">\r\n       <defs>\r\n        <path d=\"M 41.21875 28.078125 \r\nL 41.21875 36.46875 \r\nL 71.53125 36.53125 \r\nL 71.53125 9.96875 \r\nQ 64.546875 4.390625 57.125 1.578125 \r\nQ 49.703125 -1.21875 41.890625 -1.21875 \r\nQ 31.34375 -1.21875 22.71875 3.296875 \r\nQ 14.109375 7.8125 9.71875 16.359375 \r\nQ 5.328125 24.90625 5.328125 35.453125 \r\nQ 5.328125 45.90625 9.6875 54.953125 \r\nQ 14.0625 64.015625 22.265625 68.40625 \r\nQ 30.46875 72.796875 41.15625 72.796875 \r\nQ 48.921875 72.796875 55.1875 70.28125 \r\nQ 61.46875 67.78125 65.03125 63.28125 \r\nQ 68.609375 58.796875 70.453125 51.5625 \r\nL 61.921875 49.21875 \r\nQ 60.296875 54.6875 57.90625 57.8125 \r\nQ 55.515625 60.9375 51.0625 62.8125 \r\nQ 46.625 64.703125 41.21875 64.703125 \r\nQ 34.71875 64.703125 29.984375 62.71875 \r\nQ 25.25 60.75 22.34375 57.515625 \r\nQ 19.4375 54.296875 17.828125 50.4375 \r\nQ 15.09375 43.796875 15.09375 36.03125 \r\nQ 15.09375 26.46875 18.390625 20.015625 \r\nQ 21.6875 13.578125 27.984375 10.453125 \r\nQ 34.28125 7.328125 41.359375 7.328125 \r\nQ 47.515625 7.328125 53.375 9.6875 \r\nQ 59.234375 12.0625 62.25 14.75 \r\nL 62.25 28.078125 \r\nz\r\n\" id=\"ArialMT-71\"/>\r\n       </defs>\r\n       <use xlink:href=\"#ArialMT-69\"/>\r\n       <use x=\"66.699219\" xlink:href=\"#ArialMT-109\"/>\r\n       <use x=\"150\" xlink:href=\"#ArialMT-112\"/>\r\n       <use x=\"205.615234\" xlink:href=\"#ArialMT-108\"/>\r\n       <use x=\"227.832031\" xlink:href=\"#ArialMT-111\"/>\r\n       <use x=\"283.447266\" xlink:href=\"#ArialMT-121\"/>\r\n       <use x=\"333.447266\" xlink:href=\"#ArialMT-109\"/>\r\n       <use x=\"416.748047\" xlink:href=\"#ArialMT-101\"/>\r\n       <use x=\"472.363281\" xlink:href=\"#ArialMT-110\"/>\r\n       <use x=\"527.978516\" xlink:href=\"#ArialMT-116\"/>\r\n       <use x=\"555.761719\" xlink:href=\"#ArialMT-32\"/>\r\n       <use x=\"583.544922\" xlink:href=\"#ArialMT-83\"/>\r\n       <use x=\"650.244141\" xlink:href=\"#ArialMT-101\"/>\r\n       <use x=\"705.859375\" xlink:href=\"#ArialMT-99\"/>\r\n       <use x=\"755.859375\" xlink:href=\"#ArialMT-116\"/>\r\n       <use x=\"783.642578\" xlink:href=\"#ArialMT-111\"/>\r\n       <use x=\"839.257812\" xlink:href=\"#ArialMT-114\"/>\r\n       <use x=\"872.558594\" xlink:href=\"#ArialMT-95\"/>\r\n       <use x=\"928.173828\" xlink:href=\"#ArialMT-71\"/>\r\n       <use x=\"1005.957031\" xlink:href=\"#ArialMT-111\"/>\r\n       <use x=\"1061.572266\" xlink:href=\"#ArialMT-118\"/>\r\n       <use x=\"1111.572266\" xlink:href=\"#ArialMT-101\"/>\r\n       <use x=\"1167.1875\" xlink:href=\"#ArialMT-114\"/>\r\n       <use x=\"1200.488281\" xlink:href=\"#ArialMT-110\"/>\r\n       <use x=\"1256.103516\" xlink:href=\"#ArialMT-109\"/>\r\n       <use x=\"1339.404297\" xlink:href=\"#ArialMT-101\"/>\r\n       <use x=\"1395.019531\" xlink:href=\"#ArialMT-110\"/>\r\n       <use x=\"1450.634766\" xlink:href=\"#ArialMT-116\"/>\r\n       <use x=\"1478.417969\" xlink:href=\"#ArialMT-32\"/>\r\n       <use x=\"1506.201172\" xlink:href=\"#ArialMT-83\"/>\r\n       <use x=\"1572.900391\" xlink:href=\"#ArialMT-101\"/>\r\n       <use x=\"1628.515625\" xlink:href=\"#ArialMT-99\"/>\r\n       <use x=\"1678.515625\" xlink:href=\"#ArialMT-116\"/>\r\n       <use x=\"1706.298828\" xlink:href=\"#ArialMT-111\"/>\r\n       <use x=\"1761.914062\" xlink:href=\"#ArialMT-114\"/>\r\n      </g>\r\n     </g>\r\n    </g>\r\n    <g id=\"ytick_9\">\r\n     <g id=\"text_15\">\r\n      <!-- Employment Background_Technical -->\r\n      <g style=\"fill:#262626;\" transform=\"translate(54.34625 566.682469)scale(0.14 -0.14)\">\r\n       <use xlink:href=\"#ArialMT-69\"/>\r\n       <use x=\"66.699219\" xlink:href=\"#ArialMT-109\"/>\r\n       <use x=\"150\" xlink:href=\"#ArialMT-112\"/>\r\n       <use x=\"205.615234\" xlink:href=\"#ArialMT-108\"/>\r\n       <use x=\"227.832031\" xlink:href=\"#ArialMT-111\"/>\r\n       <use x=\"283.447266\" xlink:href=\"#ArialMT-121\"/>\r\n       <use x=\"333.447266\" xlink:href=\"#ArialMT-109\"/>\r\n       <use x=\"416.748047\" xlink:href=\"#ArialMT-101\"/>\r\n       <use x=\"472.363281\" xlink:href=\"#ArialMT-110\"/>\r\n       <use x=\"527.978516\" xlink:href=\"#ArialMT-116\"/>\r\n       <use x=\"555.761719\" xlink:href=\"#ArialMT-32\"/>\r\n       <use x=\"583.544922\" xlink:href=\"#ArialMT-66\"/>\r\n       <use x=\"650.244141\" xlink:href=\"#ArialMT-97\"/>\r\n       <use x=\"705.859375\" xlink:href=\"#ArialMT-99\"/>\r\n       <use x=\"755.859375\" xlink:href=\"#ArialMT-107\"/>\r\n       <use x=\"805.859375\" xlink:href=\"#ArialMT-103\"/>\r\n       <use x=\"861.474609\" xlink:href=\"#ArialMT-114\"/>\r\n       <use x=\"894.775391\" xlink:href=\"#ArialMT-111\"/>\r\n       <use x=\"950.390625\" xlink:href=\"#ArialMT-117\"/>\r\n       <use x=\"1006.005859\" xlink:href=\"#ArialMT-110\"/>\r\n       <use x=\"1061.621094\" xlink:href=\"#ArialMT-100\"/>\r\n       <use x=\"1117.236328\" xlink:href=\"#ArialMT-95\"/>\r\n       <use x=\"1172.851562\" xlink:href=\"#ArialMT-84\"/>\r\n       <use x=\"1222.810547\" xlink:href=\"#ArialMT-101\"/>\r\n       <use x=\"1278.425781\" xlink:href=\"#ArialMT-99\"/>\r\n       <use x=\"1328.425781\" xlink:href=\"#ArialMT-104\"/>\r\n       <use x=\"1384.041016\" xlink:href=\"#ArialMT-110\"/>\r\n       <use x=\"1439.65625\" xlink:href=\"#ArialMT-105\"/>\r\n       <use x=\"1461.873047\" xlink:href=\"#ArialMT-99\"/>\r\n       <use x=\"1511.873047\" xlink:href=\"#ArialMT-97\"/>\r\n       <use x=\"1567.488281\" xlink:href=\"#ArialMT-108\"/>\r\n      </g>\r\n     </g>\r\n    </g>\r\n    <g id=\"ytick_10\">\r\n     <g id=\"text_16\">\r\n      <!-- Degree_Yes -->\r\n      <g style=\"fill:#262626;\" transform=\"translate(200.346563 631.914469)scale(0.14 -0.14)\">\r\n       <use xlink:href=\"#ArialMT-68\"/>\r\n       <use x=\"72.216797\" xlink:href=\"#ArialMT-101\"/>\r\n       <use x=\"127.832031\" xlink:href=\"#ArialMT-103\"/>\r\n       <use x=\"183.447266\" xlink:href=\"#ArialMT-114\"/>\r\n       <use x=\"216.748047\" xlink:href=\"#ArialMT-101\"/>\r\n       <use x=\"272.363281\" xlink:href=\"#ArialMT-101\"/>\r\n       <use x=\"327.978516\" xlink:href=\"#ArialMT-95\"/>\r\n       <use x=\"383.59375\" xlink:href=\"#ArialMT-89\"/>\r\n       <use x=\"441.167969\" xlink:href=\"#ArialMT-101\"/>\r\n       <use x=\"496.783203\" xlink:href=\"#ArialMT-115\"/>\r\n      </g>\r\n     </g>\r\n    </g>\r\n    <g id=\"text_17\">\r\n     <!-- feature -->\r\n     <g style=\"fill:#262626;\" transform=\"translate(17.220938 355.150781)rotate(-90)scale(0.14 -0.14)\">\r\n      <use xlink:href=\"#ArialMT-102\"/>\r\n      <use x=\"27.783203\" xlink:href=\"#ArialMT-101\"/>\r\n      <use x=\"83.398438\" xlink:href=\"#ArialMT-97\"/>\r\n      <use x=\"139.013672\" xlink:href=\"#ArialMT-116\"/>\r\n      <use x=\"166.796875\" xlink:href=\"#ArialMT-117\"/>\r\n      <use x=\"222.412109\" xlink:href=\"#ArialMT-114\"/>\r\n      <use x=\"255.712891\" xlink:href=\"#ArialMT-101\"/>\r\n     </g>\r\n    </g>\r\n   </g>\r\n   <g id=\"patch_3\">\r\n    <path clip-path=\"url(#p881849aa8f)\" d=\"M 527.558175 13.7232 \r\nL 1136.109744 13.7232 \r\nL 1136.109744 65.9088 \r\nL 527.558175 65.9088 \r\nz\r\n\" style=\"fill:#3274a1;stroke:#ffffff;stroke-linejoin:miter;\"/>\r\n   </g>\r\n   <g id=\"patch_4\">\r\n    <path clip-path=\"url(#p881849aa8f)\" d=\"M 527.558175 78.9552 \r\nL 1020.86371 78.9552 \r\nL 1020.86371 131.1408 \r\nL 527.558175 131.1408 \r\nz\r\n\" style=\"fill:#e1812c;stroke:#ffffff;stroke-linejoin:miter;\"/>\r\n   </g>\r\n   <g id=\"patch_5\">\r\n    <path clip-path=\"url(#p881849aa8f)\" d=\"M 527.558175 144.1872 \r\nL 549.32681 144.1872 \r\nL 549.32681 196.3728 \r\nL 527.558175 196.3728 \r\nz\r\n\" style=\"fill:#3a923a;stroke:#ffffff;stroke-linejoin:miter;\"/>\r\n   </g>\r\n   <g id=\"patch_6\">\r\n    <path clip-path=\"url(#p881849aa8f)\" d=\"M 527.558175 209.4192 \r\nL 542.778382 209.4192 \r\nL 542.778382 261.6048 \r\nL 527.558175 261.6048 \r\nz\r\n\" style=\"fill:#c03d3e;stroke:#ffffff;stroke-linejoin:miter;\"/>\r\n   </g>\r\n   <g id=\"patch_7\">\r\n    <path clip-path=\"url(#p881849aa8f)\" d=\"M 527.558175 274.6512 \r\nL 460.758055 274.6512 \r\nL 460.758055 326.8368 \r\nL 527.558175 326.8368 \r\nz\r\n\" style=\"fill:#9372b2;stroke:#ffffff;stroke-linejoin:miter;\"/>\r\n   </g>\r\n   <g id=\"patch_8\">\r\n    <path clip-path=\"url(#p881849aa8f)\" d=\"M 527.558175 339.8832 \r\nL 438.536851 339.8832 \r\nL 438.536851 392.0688 \r\nL 527.558175 392.0688 \r\nz\r\n\" style=\"fill:#845b53;stroke:#ffffff;stroke-linejoin:miter;\"/>\r\n   </g>\r\n   <g id=\"patch_9\">\r\n    <path clip-path=\"url(#p881849aa8f)\" d=\"M 527.558175 405.1152 \r\nL 435.26334 405.1152 \r\nL 435.26334 457.3008 \r\nL 527.558175 457.3008 \r\nz\r\n\" style=\"fill:#d684bd;stroke:#ffffff;stroke-linejoin:miter;\"/>\r\n   </g>\r\n   <g id=\"patch_10\">\r\n    <path clip-path=\"url(#p881849aa8f)\" d=\"M 527.558175 470.3472 \r\nL 419.398693 470.3472 \r\nL 419.398693 522.5328 \r\nL 527.558175 522.5328 \r\nz\r\n\" style=\"fill:#7f7f7f;stroke:#ffffff;stroke-linejoin:miter;\"/>\r\n   </g>\r\n   <g id=\"patch_11\">\r\n    <path clip-path=\"url(#p881849aa8f)\" d=\"M 527.558175 535.5792 \r\nL 397.82193 535.5792 \r\nL 397.82193 587.7648 \r\nL 527.558175 587.7648 \r\nz\r\n\" style=\"fill:#a9aa35;stroke:#ffffff;stroke-linejoin:miter;\"/>\r\n   </g>\r\n   <g id=\"patch_12\">\r\n    <path clip-path=\"url(#p881849aa8f)\" d=\"M 527.558175 600.8112 \r\nL 324.473381 600.8112 \r\nL 324.473381 652.9968 \r\nL 527.558175 652.9968 \r\nz\r\n\" style=\"fill:#2eabb8;stroke:#ffffff;stroke-linejoin:miter;\"/>\r\n   </g>\r\n   <g id=\"line2d_6\">\r\n    <path clip-path=\"url(#p881849aa8f)\" style=\"fill:none;stroke:#424242;stroke-linecap:round;stroke-width:2.7;\"/>\r\n   </g>\r\n   <g id=\"line2d_7\">\r\n    <path clip-path=\"url(#p881849aa8f)\" style=\"fill:none;stroke:#424242;stroke-linecap:round;stroke-width:2.7;\"/>\r\n   </g>\r\n   <g id=\"line2d_8\">\r\n    <path clip-path=\"url(#p881849aa8f)\" style=\"fill:none;stroke:#424242;stroke-linecap:round;stroke-width:2.7;\"/>\r\n   </g>\r\n   <g id=\"line2d_9\">\r\n    <path clip-path=\"url(#p881849aa8f)\" style=\"fill:none;stroke:#424242;stroke-linecap:round;stroke-width:2.7;\"/>\r\n   </g>\r\n   <g id=\"line2d_10\">\r\n    <path clip-path=\"url(#p881849aa8f)\" style=\"fill:none;stroke:#424242;stroke-linecap:round;stroke-width:2.7;\"/>\r\n   </g>\r\n   <g id=\"line2d_11\">\r\n    <path clip-path=\"url(#p881849aa8f)\" style=\"fill:none;stroke:#424242;stroke-linecap:round;stroke-width:2.7;\"/>\r\n   </g>\r\n   <g id=\"line2d_12\">\r\n    <path clip-path=\"url(#p881849aa8f)\" style=\"fill:none;stroke:#424242;stroke-linecap:round;stroke-width:2.7;\"/>\r\n   </g>\r\n   <g id=\"line2d_13\">\r\n    <path clip-path=\"url(#p881849aa8f)\" style=\"fill:none;stroke:#424242;stroke-linecap:round;stroke-width:2.7;\"/>\r\n   </g>\r\n   <g id=\"line2d_14\">\r\n    <path clip-path=\"url(#p881849aa8f)\" style=\"fill:none;stroke:#424242;stroke-linecap:round;stroke-width:2.7;\"/>\r\n   </g>\r\n   <g id=\"line2d_15\">\r\n    <path clip-path=\"url(#p881849aa8f)\" style=\"fill:none;stroke:#424242;stroke-linecap:round;stroke-width:2.7;\"/>\r\n   </g>\r\n   <g id=\"patch_13\">\r\n    <path d=\"M 283.891563 659.52 \r\nL 283.891563 7.2 \r\n\" style=\"fill:none;stroke:#ffffff;stroke-linecap:square;stroke-linejoin:miter;stroke-width:0.8;\"/>\r\n   </g>\r\n   <g id=\"patch_14\">\r\n    <path d=\"M 1176.691562 659.52 \r\nL 1176.691562 7.2 \r\n\" style=\"fill:none;stroke:#ffffff;stroke-linecap:square;stroke-linejoin:miter;stroke-width:0.8;\"/>\r\n   </g>\r\n   <g id=\"patch_15\">\r\n    <path d=\"M 283.891563 659.52 \r\nL 1176.691562 659.52 \r\n\" style=\"fill:none;stroke:#ffffff;stroke-linecap:square;stroke-linejoin:miter;stroke-width:0.8;\"/>\r\n   </g>\r\n   <g id=\"patch_16\">\r\n    <path d=\"M 283.891563 7.2 \r\nL 1176.691562 7.2 \r\n\" style=\"fill:none;stroke:#ffffff;stroke-linecap:square;stroke-linejoin:miter;stroke-width:0.8;\"/>\r\n   </g>\r\n  </g>\r\n </g>\r\n <defs>\r\n  <clipPath id=\"p881849aa8f\">\r\n   <rect height=\"652.32\" width=\"892.8\" x=\"283.891563\" y=\"7.2\"/>\r\n  </clipPath>\r\n </defs>\r\n</svg>\r\n",
      "image/png": "[encoded data removed]"
     },
     "metadata": {
      "needs_background": "light"
     }
    }
   ],
   "source": [
    "sns.barplot(data=weight_df.sort_values('weight',ascending=False).head(10),x='weight',y='feature')\n"
   ]
  },
  {
   "source": [
    "## Making Prediction and evaluate Model"
   ],
   "cell_type": "markdown",
   "metadata": {}
  },
  {
   "cell_type": "code",
   "execution_count": 354,
   "metadata": {},
   "outputs": [],
   "source": [
    "X_train=train_inputs[numeric_cols+encoded_cols]\n",
    "X_val=val_inputs[numeric_cols+encoded_cols]\n",
    "X_test=test_inputs[numeric_cols+encoded_cols]"
   ]
  },
  {
   "cell_type": "code",
   "execution_count": 355,
   "metadata": {},
   "outputs": [],
   "source": [
    "train_preds=model.predict(X_train)"
   ]
  },
  {
   "cell_type": "code",
   "execution_count": 356,
   "metadata": {},
   "outputs": [],
   "source": [
    "from sklearn.metrics import accuracy_score\n"
   ]
  },
  {
   "cell_type": "code",
   "execution_count": 357,
   "metadata": {},
   "outputs": [
    {
     "output_type": "stream",
     "name": "stdout",
     "text": [
      "Accuracy : 66.36%\n"
     ]
    }
   ],
   "source": [
    "accuracy=accuracy_score(train_targets,train_preds)\n",
    "print(\"Accuracy : {:.2f}%\".format(accuracy*100))"
   ]
  },
  {
   "source": [
    "## Training with KNN"
   ],
   "cell_type": "markdown",
   "metadata": {}
  },
  {
   "cell_type": "code",
   "execution_count": 358,
   "metadata": {},
   "outputs": [],
   "source": [
    "from sklearn.neighbors import KNeighborsClassifier"
   ]
  },
  {
   "cell_type": "code",
   "execution_count": 359,
   "metadata": {},
   "outputs": [
    {
     "output_type": "execute_result",
     "data": {
      "text/plain": [
       "4"
      ]
     },
     "metadata": {},
     "execution_count": 359
    }
   ],
   "source": [
    "train_df[target_col].nunique()"
   ]
  },
  {
   "cell_type": "code",
   "execution_count": 360,
   "metadata": {},
   "outputs": [],
   "source": [
    "model=KNeighborsClassifier(n_neighbors=10)"
   ]
  },
  {
   "cell_type": "code",
   "execution_count": 361,
   "metadata": {},
   "outputs": [
    {
     "output_type": "execute_result",
     "data": {
      "text/plain": [
       "KNeighborsClassifier(n_neighbors=10)"
      ]
     },
     "metadata": {},
     "execution_count": 361
    }
   ],
   "source": [
    "model.fit(X_train,train_targets)"
   ]
  },
  {
   "cell_type": "code",
   "execution_count": 362,
   "metadata": {},
   "outputs": [],
   "source": [
    "train_preds=model.predict(X_train)"
   ]
  },
  {
   "cell_type": "code",
   "execution_count": 363,
   "metadata": {},
   "outputs": [
    {
     "output_type": "stream",
     "name": "stdout",
     "text": [
      "Accuracy : 80.25%\n"
     ]
    }
   ],
   "source": [
    "accuracy=accuracy_score(train_targets,train_preds)\n",
    "print(\"Accuracy : {:.2f}%\".format(accuracy*100))"
   ]
  },
  {
   "source": [
    "## Predciting Accuracy with Test data"
   ],
   "cell_type": "markdown",
   "metadata": {}
  },
  {
   "cell_type": "code",
   "execution_count": 365,
   "metadata": {},
   "outputs": [],
   "source": [
    "test_preds=model.predict(X_test)"
   ]
  },
  {
   "cell_type": "code",
   "execution_count": 366,
   "metadata": {},
   "outputs": [
    {
     "output_type": "stream",
     "name": "stdout",
     "text": [
      "Accuracy : 85.00%\n"
     ]
    }
   ],
   "source": [
    "accuracy=accuracy_score(test_targets,test_preds)\n",
    "print(\"Accuracy : {:.2f}%\".format(accuracy*100))"
   ]
  },
  {
   "cell_type": "code",
   "execution_count": null,
   "metadata": {},
   "outputs": [],
   "source": []
  }
 ]
}